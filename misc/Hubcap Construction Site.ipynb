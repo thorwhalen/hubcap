{
 "cells": [
  {
   "cell_type": "markdown",
   "metadata": {
    "toc": true
   },
   "source": [
    "<h1>Table of Contents<span class=\"tocSkip\"></span></h1>\n",
    "<div class=\"toc\"><ul class=\"toc-item\"><li><span><a href=\"#Exploring-github-APIs-possibilities\" data-toc-modified-id=\"Exploring-github-APIs-possibilities-1\"><span class=\"toc-item-num\">1&nbsp;&nbsp;</span>Exploring github APIs possibilities</a></span></li></ul></div>"
   ]
  },
  {
   "cell_type": "markdown",
   "metadata": {
    "collapsed": false
   },
   "source": [
    "This notebook contains code that was used to explore\n",
    "the github API in view of making `hubcap`.\n",
    "\n",
    "I give no assurances as to if anything still works here."
   ]
  },
  {
   "cell_type": "code",
   "execution_count": 75,
   "metadata": {
    "ExecuteTime": {
     "end_time": "2021-11-26T19:12:38.867241Z",
     "start_time": "2021-11-26T19:12:38.682659Z"
    }
   },
   "outputs": [],
   "source": [
    "from guide import print_attrs_info"
   ]
  },
  {
   "cell_type": "markdown",
   "metadata": {},
   "source": [
    "# General Object"
   ]
  },
  {
   "cell_type": "code",
   "execution_count": 52,
   "metadata": {},
   "outputs": [
    {
     "name": "stdout",
     "output_type": "stream",
     "text": [
      "len(repo_collection_names)=46\n"
     ]
    }
   ],
   "source": [
    "from functools import cached_property\n",
    "from operator import attrgetter\n",
    "\n",
    "from dol import KvReader\n",
    "from dol.util import format_invocation\n",
    "from hubcap import RepoReader, Issues, IssueComments\n",
    "from hubcap.base import Workflows\n",
    "from hubcap.constants import repo_collection_names\n",
    "\n",
    "print(f\"{len(repo_collection_names)=}\")\n"
   ]
  },
  {
   "cell_type": "code",
   "execution_count": 4,
   "metadata": {},
   "outputs": [
    {
     "name": "stdout",
     "output_type": "stream",
     "text": [
      "list(w)=[15622701, 19162183]\n"
     ]
    },
    {
     "data": {
      "text/plain": [
       "'https://api.github.com/repos/thorwhalen/hubcap/actions/workflows/15622701'"
      ]
     },
     "execution_count": 4,
     "metadata": {},
     "output_type": "execute_result"
    }
   ],
   "source": [
    "w = Workflows('thorwhalen/hubcap')\n",
    "print(f\"{list(w)=}\")\n",
    "w[15622701].url"
   ]
  },
  {
   "cell_type": "code",
   "execution_count": 2,
   "metadata": {},
   "outputs": [
    {
     "name": "stderr",
     "output_type": "stream",
     "text": [
      "Request GET /repos/thorwhalen/hubcap failed with 403: rate limit exceeded\n",
      "Setting next backoff to 2000.155305s\n"
     ]
    }
   ],
   "source": [
    "from hubcap import RepoReader\n",
    "\n",
    "r = RepoReader('thorwhalen/hubcap')\n",
    "all(k in r for k in {'discussions', 'issues', 'workflows'})"
   ]
  },
  {
   "cell_type": "code",
   "execution_count": 8,
   "metadata": {},
   "outputs": [
    {
     "data": {
      "text/plain": [
       "[3]"
      ]
     },
     "execution_count": 8,
     "metadata": {},
     "output_type": "execute_result"
    }
   ],
   "source": [
    "issues = rr['issues']\n",
    "list(issues)"
   ]
  },
  {
   "cell_type": "code",
   "execution_count": 10,
   "metadata": {},
   "outputs": [
    {
     "data": {
      "text/plain": [
       "1"
      ]
     },
     "execution_count": 10,
     "metadata": {},
     "output_type": "execute_result"
    }
   ],
   "source": [
    "t = issues[3]\n",
    "t.comments"
   ]
  },
  {
   "cell_type": "markdown",
   "metadata": {},
   "source": [
    "## Tests"
   ]
  },
  {
   "cell_type": "code",
   "execution_count": 57,
   "metadata": {},
   "outputs": [
    {
     "name": "stdout",
     "output_type": "stream",
     "text": [
      "len(repo_level_keys)=47\n",
      "repo_level_keys=['artifacts', 'assignees', 'autolinks', 'branches', 'codescan_alerts', 'collaborators', 'comments', 'commits', 'contributors', 'deployments', 'discussions', 'downloads', 'environments', 'events', 'forks', 'git_refs', 'hooks', 'issues', 'issues_comments', 'issues_events', 'labels', 'languages', 'milestones', 'network_events', 'notifications', 'pending_invitations', 'projects', 'pulls', 'pulls_comments', 'pulls_review_comments', 'releases', 'repository_advisories', 'secrets', 'self_hosted_runners', 'stargazers', 'stargazers_with_dates', 'stats_contributors', 'subscribers', 'tags', 'teams', 'top_paths', 'top_referrers', 'topics', 'variables', 'watchers', 'workflow_runs', 'workflows']\n"
     ]
    }
   ],
   "source": [
    "from hubcap import RepoReader\n",
    "rr = RepoReader('thorwhalen/test_repo')\n",
    "repo_level_keys = list(rr)\n",
    "print(f\"{len(repo_level_keys)=}\")\n",
    "print(f\"{repo_level_keys=}\")"
   ]
  },
  {
   "cell_type": "code",
   "execution_count": 61,
   "metadata": {},
   "outputs": [
    {
     "data": {
      "text/plain": [
       "True"
      ]
     },
     "execution_count": 61,
     "metadata": {},
     "output_type": "execute_result"
    }
   ],
   "source": [
    "from hubcap.constants import repo_collection_names\n",
    "(set(repo_collection_names) | {'discussions'}) == set(repo_level_keys)"
   ]
  },
  {
   "cell_type": "code",
   "execution_count": 51,
   "metadata": {},
   "outputs": [
    {
     "data": {
      "text/plain": [
       "{'discussions'}"
      ]
     },
     "execution_count": 51,
     "metadata": {},
     "output_type": "execute_result"
    }
   ],
   "source": []
  },
  {
   "cell_type": "markdown",
   "metadata": {},
   "source": [
    "# Get openAPI specs of github API"
   ]
  },
  {
   "cell_type": "markdown",
   "metadata": {},
   "source": [
    "So we have this ledger:\n",
    "\n",
    "```python\n",
    "dflt_repo_kwargs = dict(\n",
    "    issues=dict(objs_to_items='number', get_objs_kwargs=(('state', 'open'),)),\n",
    "    workflows=dict(objs_to_items='id'),\n",
    "    branches=dict(objs_to_items='name'),\n",
    ")\n",
    "```\n",
    "\n",
    "that is used by `repo_objects_instance` to give `RepoObjects` some defaults specific to the repository collection name (issues, workflows, etc.). Namely, the `objs_to_items` that determines what will be used as a key. \n",
    "\n",
    "I specified the three above by \"manually\" looking into the docs and choosing the one I wanted. \n",
    "That's not scalable!\n",
    "What can I do to automate this process so I can maintain it more easily.\n",
    "\n",
    "This is what this section is about.\n",
    "\n",
    "My plan:\n",
    "* Make a list of `repo_collection_names`, which are the (object) names we need to find \n",
    "keys for\n",
    "* Get a hold of the OpenAPI specs for the github API\n",
    "* Extract the specs for repository endpoints (that correspond to collections). \n",
    "We'll call `repo_endpoints` the dict whose keys are endpoints and values are it's \n",
    "specification -- namely, what we're interested in here; the schema of the output of \n",
    "the endpoint's http service call; even more specifically, the names of the \"attributes\"\n",
    "of the objects it returns, which is where we'll hunt for our unique key.\n",
    "* Extract from there the names (and possibly descriptions) of the output schemas\n",
    "* Make a table with this information\n",
    "* Study that a bit to see if there's an obvious pattern\n",
    "* Choose a key name for each of the collection (possibly asking AI to help)\n"
   ]
  },
  {
   "cell_type": "markdown",
   "metadata": {},
   "source": [
    "## repo_collection_names"
   ]
  },
  {
   "cell_type": "code",
   "execution_count": 161,
   "metadata": {},
   "outputs": [
    {
     "name": "stdout",
     "output_type": "stream",
     "text": [
      "len(repo_collection_names)=46\n",
      "repo_collection_names:\n",
      "    List of the names of the objects that can be retrieved from a repository\n",
      "    (e.g. commits, contributors, issues, pull_requests, releases, tags, etc.)\n",
      "    These names are extracted by taking all the method names of the\n",
      "    `github.Repository` class that start with `get_` and end with `s`,\n",
      "    and removing the `get_` prefix.\n",
      "    \n"
     ]
    }
   ],
   "source": [
    "# Get the target collection names from the github.Repository class (see code for details)\n",
    "from hubcap.constants import repo_collection_names\n",
    "\n",
    "print(f\"{len(repo_collection_names)=}\")\n",
    "print(f\"repo_collection_names:{repo_collection_names.__doc__}\")"
   ]
  },
  {
   "cell_type": "markdown",
   "metadata": {},
   "source": [
    "## OpenAPI specs - Routes of github API"
   ]
  },
  {
   "cell_type": "code",
   "execution_count": 1,
   "metadata": {},
   "outputs": [
    {
     "data": {
      "text/plain": [
       "['openapi',\n",
       " 'info',\n",
       " 'tags',\n",
       " 'servers',\n",
       " 'externalDocs',\n",
       " 'paths',\n",
       " 'x-webhooks',\n",
       " 'components']"
      ]
     },
     "execution_count": 1,
     "metadata": {},
     "output_type": "execute_result"
    }
   ],
   "source": [
    "# Get openAPI sepcification of the github API\n",
    "from graze import graze\n",
    "import yaml\n",
    "b = graze('https://raw.githubusercontent.com/github/rest-api-description/main/descriptions/api.github.com/api.github.com.yaml')\n",
    "oas = yaml.load(b, Loader=yaml.FullLoader)\n",
    "list(oas)"
   ]
  },
  {
   "cell_type": "code",
   "execution_count": 2,
   "metadata": {},
   "outputs": [
    {
     "data": {
      "text/plain": [
       "911"
      ]
     },
     "execution_count": 2,
     "metadata": {},
     "output_type": "execute_result"
    }
   ],
   "source": [
    "# Extract the routes\n",
    "from ju import Routes\n",
    "\n",
    "routes = Routes(oas)\n",
    "len(routes)"
   ]
  },
  {
   "cell_type": "markdown",
   "metadata": {},
   "source": [
    "## repo_endpoints"
   ]
  },
  {
   "cell_type": "code",
   "execution_count": 3,
   "metadata": {},
   "outputs": [
    {
     "name": "stdout",
     "output_type": "stream",
     "text": [
      "len(repo_specs)=222\n"
     ]
    }
   ],
   "source": [
    "# Keep only the get-method routes for repositories operations\n",
    "repo_specs = list(filter(lambda x: x[0] == 'get' and x[1].startswith('/repo'), routes))\n",
    "print(f\"{len(repo_specs)=}\")"
   ]
  },
  {
   "cell_type": "code",
   "execution_count": 162,
   "metadata": {},
   "outputs": [
    {
     "name": "stdout",
     "output_type": "stream",
     "text": [
      "len(repo_endpoints)=53\n",
      "repo_endpoints=['/repos/{owner}/{repo}/actions/artifacts', '/repos/{owner}/{repo}/actions/organization-secrets', '/repos/{owner}/{repo}/actions/organization-variables', '/repos/{owner}/{repo}/actions/runners/downloads', '/repos/{owner}/{repo}/actions/runners/{runner_id}/labels', '/repos/{owner}/{repo}/actions/runs/{run_id}/artifacts', '/repos/{owner}/{repo}/actions/runs/{run_id}/pending_deployments', '/repos/{owner}/{repo}/actions/secrets', '/repos/{owner}/{repo}/actions/variables', '/repos/{owner}/{repo}/actions/workflows', '/repos/{owner}/{repo}/assignees', '/repos/{owner}/{repo}/autolinks', '/repos/{owner}/{repo}/branches', '/repos/{owner}/{repo}/branches/{branch}/protection/restrictions/teams', '/repos/{owner}/{repo}/codespaces/secrets', '/repos/{owner}/{repo}/collaborators', '/repos/{owner}/{repo}/comments', '/repos/{owner}/{repo}/commits', '/repos/{owner}/{repo}/commits/{commit_sha}/comments', '/repos/{owner}/{repo}/commits/{commit_sha}/pulls', '/repos/{owner}/{repo}/contributors', '/repos/{owner}/{repo}/dependabot/secrets', '/repos/{owner}/{repo}/deployments', '/repos/{owner}/{repo}/environments', '/repos/{owner}/{repo}/events', '/repos/{owner}/{repo}/forks', '/repos/{owner}/{repo}/hooks', '/repos/{owner}/{repo}/issues', '/repos/{owner}/{repo}/issues/comments', '/repos/{owner}/{repo}/issues/events', '/repos/{owner}/{repo}/issues/{issue_number}/comments', '/repos/{owner}/{repo}/issues/{issue_number}/events', '/repos/{owner}/{repo}/issues/{issue_number}/labels', '/repos/{owner}/{repo}/labels', '/repos/{owner}/{repo}/languages', '/repos/{owner}/{repo}/milestones', '/repos/{owner}/{repo}/milestones/{milestone_number}/labels', '/repos/{owner}/{repo}/notifications', '/repos/{owner}/{repo}/projects', '/repos/{owner}/{repo}/pulls', '/repos/{owner}/{repo}/pulls/comments', '/repos/{owner}/{repo}/pulls/{pull_number}/comments', '/repos/{owner}/{repo}/pulls/{pull_number}/commits', '/repos/{owner}/{repo}/pulls/{pull_number}/reviews/{review_id}/comments', '/repos/{owner}/{repo}/releases', '/repos/{owner}/{repo}/stargazers', '/repos/{owner}/{repo}/stats/contributors', '/repos/{owner}/{repo}/subscribers', '/repos/{owner}/{repo}/tags', '/repos/{owner}/{repo}/teams', '/repos/{owner}/{repo}/topics', '/repositories/{repository_id}/environments/{environment_name}/secrets', '/repositories/{repository_id}/environments/{environment_name}/variables']\n"
     ]
    }
   ],
   "source": [
    "# of these string keys (repo_collection_names), find endpoints that end with that string\n",
    "repo_endpoints = [tt for t, tt in repo_specs if any(tt.endswith(x) for x in repo_collection_names)]\n",
    "print(f\"{len(repo_endpoints)=}\")\n",
    "print(f\"{repo_endpoints=}\")"
   ]
  },
  {
   "cell_type": "code",
   "execution_count": 54,
   "metadata": {},
   "outputs": [
    {
     "name": "stdout",
     "output_type": "stream",
     "text": [
      "len(suffixes_to_look_into)=33\n",
      "Only keeping those also in repo_collection_names: len(suffixes_to_look_into)=30\n"
     ]
    }
   ],
   "source": [
    "# Keep only the suffixes of these endpoints\n",
    "suffixes_to_look_into = set([x.split('/')[-1] for x in repo_endpoints])\n",
    "print(f\"{len(suffixes_to_look_into)=}\")\n",
    "suffixes_to_look_into = sorted(set(suffixes_to_look_into) & set(repo_collection_names))\n",
    "print(f\"Only keeping those also in repo_collection_names: {len(suffixes_to_look_into)=}\")\n"
   ]
  },
  {
   "cell_type": "markdown",
   "metadata": {},
   "source": [
    "## Similarity-match `repo_collection_names` and `repo_endpoints`"
   ]
  },
  {
   "cell_type": "markdown",
   "metadata": {},
   "source": [
    "Now, in order to get to the right information for each of our repository collection names,\n",
    "we need to match our target `repo_collection_names` to the `repo_endpoints` \n",
    "they correspond to.\n",
    "We'll do so based on the edit distance of their strings."
   ]
  },
  {
   "cell_type": "code",
   "execution_count": 165,
   "metadata": {},
   "outputs": [
    {
     "name": "stdout",
     "output_type": "stream",
     "text": [
      "similarities.shape=(46, 53)\n"
     ]
    },
    {
     "data": {
      "image/png": "[encoded data removed]",
      "text/plain": [
       "<Figure size 691.304x600 with 1 Axes>"
      ]
     },
     "metadata": {},
     "output_type": "display_data"
    }
   ],
   "source": [
    "# First, since there are not too many combinations, \n",
    "# let's have a look at the whole similarity matrix (of the similarity of all possible pairs)\n",
    "from equate import similarity_matrix\n",
    "from oplot.matrix import heatmap\n",
    "\n",
    "similarities = similarity_matrix(repo_collection_names, repo_endpoints)\n",
    "print(f\"{similarities.shape=}\")\n",
    "heatmap(similarities)"
   ]
  },
  {
   "cell_type": "code",
   "execution_count": 428,
   "metadata": {},
   "outputs": [],
   "source": [
    "# It looks like we should be able to find a clear column-winner (an endpoint)\n",
    "# for each row (collection_name). \n",
    "# But careful, the algorithm (said \"greedy\") that would just take the best match for \n",
    "# each row, might not get your the global best matching. \n",
    "# Let's be a bit more subtle than that, since we have matching algoriths at our disposal. \n",
    "from equate import match_keys_to_values, hungarian_matching\n",
    "\n",
    "matches = dict(match_keys_to_values(repo_collection_names, repo_endpoints, matcher=hungarian_matching))\n",
    "# matches"
   ]
  },
  {
   "cell_type": "code",
   "execution_count": 180,
   "metadata": {},
   "outputs": [],
   "source": [
    "# So now we can get the information we want for each of our collection names\n",
    "# simply by copying over the information from the endpoint that was matched to it.\n",
    "\n",
    "route_for_collection_names = {k: routes['get', v] for k, v in matches.items()}\n",
    "\n",
    "# Get the output names for each collection name\n",
    "\n",
    "output_names = {\n",
    "    name: list(route.output_properties) for name, route in route_for_collection_names.items()\n",
    "}\n"
   ]
  },
  {
   "cell_type": "code",
   "execution_count": 209,
   "metadata": {},
   "outputs": [
    {
     "data": {
      "text/plain": [
       "46"
      ]
     },
     "execution_count": 209,
     "metadata": {},
     "output_type": "execute_result"
    }
   ],
   "source": [
    "from functools import cached_property\n",
    "from typing import Callable\n",
    "\n",
    "\n",
    "class PropertiesCollection:\n",
    "    def __init__(self, properties_info: dict):\n",
    "        self.properties_info = properties_info\n",
    "    \n",
    "    def __len__(self):\n",
    "        return len(self.properties_info)\n",
    "    \n",
    "    @cached_property\n",
    "    def output_properties(self):\n",
    "        return {k: v.output_properties for k, v in self.properties_info.items()}\n",
    "    \n",
    "    @cached_property\n",
    "    def names(self):\n",
    "        return {k: list(v) for k, v in self.output_properties.items()}\n",
    "    \n",
    "    @cached_property\n",
    "    def names_that_have_descriptions(self):\n",
    "        return {\n",
    "            k: [name for name, desc in v.output_properties.items() if desc] \n",
    "            for k, v in self.properties_info.items()\n",
    "        }\n",
    "    \n",
    "    @cached_property\n",
    "    def num_of_names(self):\n",
    "        return {k: len(v) for k, v in self.output_properties.items()}\n",
    "    \n",
    "    def output_properties_filtered(self, filt: Callable):\n",
    "        d = {\n",
    "            k: {name: desc for name, desc in v.items() if filt(desc)} \n",
    "            for k, v in self.output_properties.items()\n",
    "        }\n",
    "        return {k: v for k, v in d.items() if v}\n",
    "\n",
    "        \n",
    "\n",
    "collection_props = PropertiesCollection(route_for_collection_names)\n",
    "# collection_props.num_of_names['issues']\n",
    "# collection_props.num_of_names\n",
    "len(collection_props)\n"
   ]
  },
  {
   "cell_type": "code",
   "execution_count": 197,
   "metadata": {},
   "outputs": [
    {
     "data": {
      "text/plain": [
       "['total_count', 'artifacts']"
      ]
     },
     "execution_count": 197,
     "metadata": {},
     "output_type": "execute_result"
    }
   ],
   "source": [
    "collection_props.names['artifacts']"
   ]
  },
  {
   "cell_type": "code",
   "execution_count": 326,
   "metadata": {},
   "outputs": [
    {
     "data": {
      "text/html": [
       "<div>\n",
       "<style scoped>\n",
       "    .dataframe tbody tr th:only-of-type {\n",
       "        vertical-align: middle;\n",
       "    }\n",
       "\n",
       "    .dataframe tbody tr th {\n",
       "        vertical-align: top;\n",
       "    }\n",
       "\n",
       "    .dataframe thead th {\n",
       "        text-align: right;\n",
       "    }\n",
       "</style>\n",
       "<table border=\"1\" class=\"dataframe\">\n",
       "  <thead>\n",
       "    <tr style=\"text-align: right;\">\n",
       "      <th></th>\n",
       "      <th>id</th>\n",
       "      <th>url</th>\n",
       "      <th>node_id</th>\n",
       "      <th>html_url</th>\n",
       "      <th>created_at</th>\n",
       "      <th>updated_at</th>\n",
       "      <th>name</th>\n",
       "      <th>total_count</th>\n",
       "      <th>body</th>\n",
       "      <th>author_association</th>\n",
       "      <th>...</th>\n",
       "      <th>clone_url</th>\n",
       "      <th>mirror_url</th>\n",
       "      <th>hooks_url</th>\n",
       "      <th>svn_url</th>\n",
       "      <th>homepage</th>\n",
       "      <th>language</th>\n",
       "      <th>forks_count</th>\n",
       "      <th>stargazers_count</th>\n",
       "      <th>watchers_count</th>\n",
       "      <th>workflows</th>\n",
       "    </tr>\n",
       "  </thead>\n",
       "  <tbody>\n",
       "    <tr>\n",
       "      <th>artifacts</th>\n",
       "      <td></td>\n",
       "      <td></td>\n",
       "      <td></td>\n",
       "      <td></td>\n",
       "      <td></td>\n",
       "      <td></td>\n",
       "      <td></td>\n",
       "      <td>1.0</td>\n",
       "      <td></td>\n",
       "      <td></td>\n",
       "      <td>...</td>\n",
       "      <td></td>\n",
       "      <td></td>\n",
       "      <td></td>\n",
       "      <td></td>\n",
       "      <td></td>\n",
       "      <td></td>\n",
       "      <td></td>\n",
       "      <td></td>\n",
       "      <td></td>\n",
       "      <td></td>\n",
       "    </tr>\n",
       "    <tr>\n",
       "      <th>assignees</th>\n",
       "      <td>1.0</td>\n",
       "      <td>1.0</td>\n",
       "      <td>1.0</td>\n",
       "      <td>1.0</td>\n",
       "      <td></td>\n",
       "      <td></td>\n",
       "      <td>1.0</td>\n",
       "      <td></td>\n",
       "      <td></td>\n",
       "      <td></td>\n",
       "      <td>...</td>\n",
       "      <td></td>\n",
       "      <td></td>\n",
       "      <td></td>\n",
       "      <td></td>\n",
       "      <td></td>\n",
       "      <td></td>\n",
       "      <td></td>\n",
       "      <td></td>\n",
       "      <td></td>\n",
       "      <td></td>\n",
       "    </tr>\n",
       "    <tr>\n",
       "      <th>autolinks</th>\n",
       "      <td>1.0</td>\n",
       "      <td></td>\n",
       "      <td></td>\n",
       "      <td></td>\n",
       "      <td></td>\n",
       "      <td></td>\n",
       "      <td></td>\n",
       "      <td></td>\n",
       "      <td></td>\n",
       "      <td></td>\n",
       "      <td>...</td>\n",
       "      <td></td>\n",
       "      <td></td>\n",
       "      <td></td>\n",
       "      <td></td>\n",
       "      <td></td>\n",
       "      <td></td>\n",
       "      <td></td>\n",
       "      <td></td>\n",
       "      <td></td>\n",
       "      <td></td>\n",
       "    </tr>\n",
       "    <tr>\n",
       "      <th>branches</th>\n",
       "      <td></td>\n",
       "      <td></td>\n",
       "      <td></td>\n",
       "      <td></td>\n",
       "      <td></td>\n",
       "      <td></td>\n",
       "      <td>1.0</td>\n",
       "      <td></td>\n",
       "      <td></td>\n",
       "      <td></td>\n",
       "      <td>...</td>\n",
       "      <td></td>\n",
       "      <td></td>\n",
       "      <td></td>\n",
       "      <td></td>\n",
       "      <td></td>\n",
       "      <td></td>\n",
       "      <td></td>\n",
       "      <td></td>\n",
       "      <td></td>\n",
       "      <td></td>\n",
       "    </tr>\n",
       "    <tr>\n",
       "      <th>codescan_alerts</th>\n",
       "      <td></td>\n",
       "      <td></td>\n",
       "      <td></td>\n",
       "      <td></td>\n",
       "      <td></td>\n",
       "      <td></td>\n",
       "      <td></td>\n",
       "      <td>1.0</td>\n",
       "      <td></td>\n",
       "      <td></td>\n",
       "      <td>...</td>\n",
       "      <td></td>\n",
       "      <td></td>\n",
       "      <td></td>\n",
       "      <td></td>\n",
       "      <td></td>\n",
       "      <td></td>\n",
       "      <td></td>\n",
       "      <td></td>\n",
       "      <td></td>\n",
       "      <td></td>\n",
       "    </tr>\n",
       "    <tr>\n",
       "      <th>collaborators</th>\n",
       "      <td>1.0</td>\n",
       "      <td>1.0</td>\n",
       "      <td>1.0</td>\n",
       "      <td>1.0</td>\n",
       "      <td></td>\n",
       "      <td></td>\n",
       "      <td>1.0</td>\n",
       "      <td></td>\n",
       "      <td></td>\n",
       "      <td></td>\n",
       "      <td>...</td>\n",
       "      <td></td>\n",
       "      <td></td>\n",
       "      <td></td>\n",
       "      <td></td>\n",
       "      <td></td>\n",
       "      <td></td>\n",
       "      <td></td>\n",
       "      <td></td>\n",
       "      <td></td>\n",
       "      <td></td>\n",
       "    </tr>\n",
       "    <tr>\n",
       "      <th>comments</th>\n",
       "      <td>1.0</td>\n",
       "      <td>1.0</td>\n",
       "      <td>1.0</td>\n",
       "      <td>1.0</td>\n",
       "      <td>1.0</td>\n",
       "      <td>1.0</td>\n",
       "      <td></td>\n",
       "      <td></td>\n",
       "      <td>1.0</td>\n",
       "      <td>1.0</td>\n",
       "      <td>...</td>\n",
       "      <td></td>\n",
       "      <td></td>\n",
       "      <td></td>\n",
       "      <td></td>\n",
       "      <td></td>\n",
       "      <td></td>\n",
       "      <td></td>\n",
       "      <td></td>\n",
       "      <td></td>\n",
       "      <td></td>\n",
       "    </tr>\n",
       "    <tr>\n",
       "      <th>commits</th>\n",
       "      <td></td>\n",
       "      <td>1.0</td>\n",
       "      <td>1.0</td>\n",
       "      <td>1.0</td>\n",
       "      <td></td>\n",
       "      <td></td>\n",
       "      <td></td>\n",
       "      <td></td>\n",
       "      <td></td>\n",
       "      <td></td>\n",
       "      <td>...</td>\n",
       "      <td></td>\n",
       "      <td></td>\n",
       "      <td></td>\n",
       "      <td></td>\n",
       "      <td></td>\n",
       "      <td></td>\n",
       "      <td></td>\n",
       "      <td></td>\n",
       "      <td></td>\n",
       "      <td></td>\n",
       "    </tr>\n",
       "    <tr>\n",
       "      <th>contributors</th>\n",
       "      <td>1.0</td>\n",
       "      <td>1.0</td>\n",
       "      <td>1.0</td>\n",
       "      <td>1.0</td>\n",
       "      <td></td>\n",
       "      <td></td>\n",
       "      <td>1.0</td>\n",
       "      <td></td>\n",
       "      <td></td>\n",
       "      <td></td>\n",
       "      <td>...</td>\n",
       "      <td></td>\n",
       "      <td></td>\n",
       "      <td></td>\n",
       "      <td></td>\n",
       "      <td></td>\n",
       "      <td></td>\n",
       "      <td></td>\n",
       "      <td></td>\n",
       "      <td></td>\n",
       "      <td></td>\n",
       "    </tr>\n",
       "    <tr>\n",
       "      <th>deployments</th>\n",
       "      <td>1.0</td>\n",
       "      <td>1.0</td>\n",
       "      <td>1.0</td>\n",
       "      <td></td>\n",
       "      <td>1.0</td>\n",
       "      <td>1.0</td>\n",
       "      <td></td>\n",
       "      <td></td>\n",
       "      <td></td>\n",
       "      <td></td>\n",
       "      <td>...</td>\n",
       "      <td></td>\n",
       "      <td></td>\n",
       "      <td></td>\n",
       "      <td></td>\n",
       "      <td></td>\n",
       "      <td></td>\n",
       "      <td></td>\n",
       "      <td></td>\n",
       "      <td></td>\n",
       "      <td></td>\n",
       "    </tr>\n",
       "    <tr>\n",
       "      <th>downloads</th>\n",
       "      <td></td>\n",
       "      <td></td>\n",
       "      <td></td>\n",
       "      <td></td>\n",
       "      <td></td>\n",
       "      <td></td>\n",
       "      <td></td>\n",
       "      <td></td>\n",
       "      <td></td>\n",
       "      <td></td>\n",
       "      <td>...</td>\n",
       "      <td></td>\n",
       "      <td></td>\n",
       "      <td></td>\n",
       "      <td></td>\n",
       "      <td></td>\n",
       "      <td></td>\n",
       "      <td></td>\n",
       "      <td></td>\n",
       "      <td></td>\n",
       "      <td></td>\n",
       "    </tr>\n",
       "    <tr>\n",
       "      <th>environments</th>\n",
       "      <td></td>\n",
       "      <td></td>\n",
       "      <td></td>\n",
       "      <td></td>\n",
       "      <td></td>\n",
       "      <td></td>\n",
       "      <td></td>\n",
       "      <td>1.0</td>\n",
       "      <td></td>\n",
       "      <td></td>\n",
       "      <td>...</td>\n",
       "      <td></td>\n",
       "      <td></td>\n",
       "      <td></td>\n",
       "      <td></td>\n",
       "      <td></td>\n",
       "      <td></td>\n",
       "      <td></td>\n",
       "      <td></td>\n",
       "      <td></td>\n",
       "      <td></td>\n",
       "    </tr>\n",
       "    <tr>\n",
       "      <th>events</th>\n",
       "      <td>1.0</td>\n",
       "      <td></td>\n",
       "      <td></td>\n",
       "      <td></td>\n",
       "      <td>1.0</td>\n",
       "      <td></td>\n",
       "      <td></td>\n",
       "      <td></td>\n",
       "      <td></td>\n",
       "      <td></td>\n",
       "      <td>...</td>\n",
       "      <td></td>\n",
       "      <td></td>\n",
       "      <td></td>\n",
       "      <td></td>\n",
       "      <td></td>\n",
       "      <td></td>\n",
       "      <td></td>\n",
       "      <td></td>\n",
       "      <td></td>\n",
       "      <td></td>\n",
       "    </tr>\n",
       "    <tr>\n",
       "      <th>forks</th>\n",
       "      <td>1.0</td>\n",
       "      <td>1.0</td>\n",
       "      <td>1.0</td>\n",
       "      <td>1.0</td>\n",
       "      <td>1.0</td>\n",
       "      <td>1.0</td>\n",
       "      <td>1.0</td>\n",
       "      <td></td>\n",
       "      <td></td>\n",
       "      <td></td>\n",
       "      <td>...</td>\n",
       "      <td>1.0</td>\n",
       "      <td>1.0</td>\n",
       "      <td>1.0</td>\n",
       "      <td>1.0</td>\n",
       "      <td>1.0</td>\n",
       "      <td>1.0</td>\n",
       "      <td>1.0</td>\n",
       "      <td>1.0</td>\n",
       "      <td>1.0</td>\n",
       "      <td></td>\n",
       "    </tr>\n",
       "    <tr>\n",
       "      <th>git_refs</th>\n",
       "      <td></td>\n",
       "      <td></td>\n",
       "      <td></td>\n",
       "      <td></td>\n",
       "      <td></td>\n",
       "      <td></td>\n",
       "      <td></td>\n",
       "      <td>1.0</td>\n",
       "      <td></td>\n",
       "      <td></td>\n",
       "      <td>...</td>\n",
       "      <td></td>\n",
       "      <td></td>\n",
       "      <td></td>\n",
       "      <td></td>\n",
       "      <td></td>\n",
       "      <td></td>\n",
       "      <td></td>\n",
       "      <td></td>\n",
       "      <td></td>\n",
       "      <td></td>\n",
       "    </tr>\n",
       "    <tr>\n",
       "      <th>hooks</th>\n",
       "      <td>1.0</td>\n",
       "      <td>1.0</td>\n",
       "      <td></td>\n",
       "      <td></td>\n",
       "      <td>1.0</td>\n",
       "      <td>1.0</td>\n",
       "      <td>1.0</td>\n",
       "      <td></td>\n",
       "      <td></td>\n",
       "      <td></td>\n",
       "      <td>...</td>\n",
       "      <td></td>\n",
       "      <td></td>\n",
       "      <td></td>\n",
       "      <td></td>\n",
       "      <td></td>\n",
       "      <td></td>\n",
       "      <td></td>\n",
       "      <td></td>\n",
       "      <td></td>\n",
       "      <td></td>\n",
       "    </tr>\n",
       "    <tr>\n",
       "      <th>issues</th>\n",
       "      <td>1.0</td>\n",
       "      <td>1.0</td>\n",
       "      <td>1.0</td>\n",
       "      <td>1.0</td>\n",
       "      <td>1.0</td>\n",
       "      <td>1.0</td>\n",
       "      <td></td>\n",
       "      <td></td>\n",
       "      <td>1.0</td>\n",
       "      <td>1.0</td>\n",
       "      <td>...</td>\n",
       "      <td></td>\n",
       "      <td></td>\n",
       "      <td></td>\n",
       "      <td></td>\n",
       "      <td></td>\n",
       "      <td></td>\n",
       "      <td></td>\n",
       "      <td></td>\n",
       "      <td></td>\n",
       "      <td></td>\n",
       "    </tr>\n",
       "    <tr>\n",
       "      <th>issues_comments</th>\n",
       "      <td>1.0</td>\n",
       "      <td>1.0</td>\n",
       "      <td>1.0</td>\n",
       "      <td>1.0</td>\n",
       "      <td>1.0</td>\n",
       "      <td>1.0</td>\n",
       "      <td></td>\n",
       "      <td></td>\n",
       "      <td>1.0</td>\n",
       "      <td>1.0</td>\n",
       "      <td>...</td>\n",
       "      <td></td>\n",
       "      <td></td>\n",
       "      <td></td>\n",
       "      <td></td>\n",
       "      <td></td>\n",
       "      <td></td>\n",
       "      <td></td>\n",
       "      <td></td>\n",
       "      <td></td>\n",
       "      <td></td>\n",
       "    </tr>\n",
       "    <tr>\n",
       "      <th>issues_events</th>\n",
       "      <td>1.0</td>\n",
       "      <td>1.0</td>\n",
       "      <td>1.0</td>\n",
       "      <td></td>\n",
       "      <td>1.0</td>\n",
       "      <td></td>\n",
       "      <td></td>\n",
       "      <td></td>\n",
       "      <td></td>\n",
       "      <td>1.0</td>\n",
       "      <td>...</td>\n",
       "      <td></td>\n",
       "      <td></td>\n",
       "      <td></td>\n",
       "      <td></td>\n",
       "      <td></td>\n",
       "      <td></td>\n",
       "      <td></td>\n",
       "      <td></td>\n",
       "      <td></td>\n",
       "      <td></td>\n",
       "    </tr>\n",
       "    <tr>\n",
       "      <th>labels</th>\n",
       "      <td>1.0</td>\n",
       "      <td>1.0</td>\n",
       "      <td>1.0</td>\n",
       "      <td></td>\n",
       "      <td></td>\n",
       "      <td></td>\n",
       "      <td>1.0</td>\n",
       "      <td></td>\n",
       "      <td></td>\n",
       "      <td></td>\n",
       "      <td>...</td>\n",
       "      <td></td>\n",
       "      <td></td>\n",
       "      <td></td>\n",
       "      <td></td>\n",
       "      <td></td>\n",
       "      <td></td>\n",
       "      <td></td>\n",
       "      <td></td>\n",
       "      <td></td>\n",
       "      <td></td>\n",
       "    </tr>\n",
       "    <tr>\n",
       "      <th>languages</th>\n",
       "      <td></td>\n",
       "      <td></td>\n",
       "      <td></td>\n",
       "      <td></td>\n",
       "      <td></td>\n",
       "      <td></td>\n",
       "      <td></td>\n",
       "      <td></td>\n",
       "      <td></td>\n",
       "      <td></td>\n",
       "      <td>...</td>\n",
       "      <td></td>\n",
       "      <td></td>\n",
       "      <td></td>\n",
       "      <td></td>\n",
       "      <td></td>\n",
       "      <td></td>\n",
       "      <td></td>\n",
       "      <td></td>\n",
       "      <td></td>\n",
       "      <td></td>\n",
       "    </tr>\n",
       "    <tr>\n",
       "      <th>milestones</th>\n",
       "      <td>1.0</td>\n",
       "      <td>1.0</td>\n",
       "      <td>1.0</td>\n",
       "      <td>1.0</td>\n",
       "      <td>1.0</td>\n",
       "      <td>1.0</td>\n",
       "      <td></td>\n",
       "      <td></td>\n",
       "      <td></td>\n",
       "      <td></td>\n",
       "      <td>...</td>\n",
       "      <td></td>\n",
       "      <td></td>\n",
       "      <td></td>\n",
       "      <td></td>\n",
       "      <td></td>\n",
       "      <td></td>\n",
       "      <td></td>\n",
       "      <td></td>\n",
       "      <td></td>\n",
       "      <td></td>\n",
       "    </tr>\n",
       "    <tr>\n",
       "      <th>network_events</th>\n",
       "      <td></td>\n",
       "      <td></td>\n",
       "      <td></td>\n",
       "      <td></td>\n",
       "      <td></td>\n",
       "      <td></td>\n",
       "      <td></td>\n",
       "      <td></td>\n",
       "      <td></td>\n",
       "      <td></td>\n",
       "      <td>...</td>\n",
       "      <td></td>\n",
       "      <td></td>\n",
       "      <td></td>\n",
       "      <td></td>\n",
       "      <td></td>\n",
       "      <td></td>\n",
       "      <td></td>\n",
       "      <td></td>\n",
       "      <td></td>\n",
       "      <td></td>\n",
       "    </tr>\n",
       "    <tr>\n",
       "      <th>notifications</th>\n",
       "      <td>1.0</td>\n",
       "      <td>1.0</td>\n",
       "      <td></td>\n",
       "      <td></td>\n",
       "      <td></td>\n",
       "      <td>1.0</td>\n",
       "      <td></td>\n",
       "      <td></td>\n",
       "      <td></td>\n",
       "      <td></td>\n",
       "      <td>...</td>\n",
       "      <td></td>\n",
       "      <td></td>\n",
       "      <td></td>\n",
       "      <td></td>\n",
       "      <td></td>\n",
       "      <td></td>\n",
       "      <td></td>\n",
       "      <td></td>\n",
       "      <td></td>\n",
       "      <td></td>\n",
       "    </tr>\n",
       "    <tr>\n",
       "      <th>pending_invitations</th>\n",
       "      <td></td>\n",
       "      <td></td>\n",
       "      <td></td>\n",
       "      <td></td>\n",
       "      <td></td>\n",
       "      <td></td>\n",
       "      <td></td>\n",
       "      <td></td>\n",
       "      <td></td>\n",
       "      <td></td>\n",
       "      <td>...</td>\n",
       "      <td></td>\n",
       "      <td></td>\n",
       "      <td></td>\n",
       "      <td></td>\n",
       "      <td></td>\n",
       "      <td></td>\n",
       "      <td></td>\n",
       "      <td></td>\n",
       "      <td></td>\n",
       "      <td></td>\n",
       "    </tr>\n",
       "    <tr>\n",
       "      <th>projects</th>\n",
       "      <td>1.0</td>\n",
       "      <td>1.0</td>\n",
       "      <td>1.0</td>\n",
       "      <td>1.0</td>\n",
       "      <td>1.0</td>\n",
       "      <td>1.0</td>\n",
       "      <td>1.0</td>\n",
       "      <td></td>\n",
       "      <td>1.0</td>\n",
       "      <td></td>\n",
       "      <td>...</td>\n",
       "      <td></td>\n",
       "      <td></td>\n",
       "      <td></td>\n",
       "      <td></td>\n",
       "      <td></td>\n",
       "      <td></td>\n",
       "      <td></td>\n",
       "      <td></td>\n",
       "      <td></td>\n",
       "      <td></td>\n",
       "    </tr>\n",
       "    <tr>\n",
       "      <th>pulls</th>\n",
       "      <td>1.0</td>\n",
       "      <td>1.0</td>\n",
       "      <td>1.0</td>\n",
       "      <td>1.0</td>\n",
       "      <td>1.0</td>\n",
       "      <td>1.0</td>\n",
       "      <td></td>\n",
       "      <td></td>\n",
       "      <td>1.0</td>\n",
       "      <td>1.0</td>\n",
       "      <td>...</td>\n",
       "      <td></td>\n",
       "      <td></td>\n",
       "      <td></td>\n",
       "      <td></td>\n",
       "      <td></td>\n",
       "      <td></td>\n",
       "      <td></td>\n",
       "      <td></td>\n",
       "      <td></td>\n",
       "      <td></td>\n",
       "    </tr>\n",
       "    <tr>\n",
       "      <th>pulls_comments</th>\n",
       "      <td>1.0</td>\n",
       "      <td>1.0</td>\n",
       "      <td>1.0</td>\n",
       "      <td>1.0</td>\n",
       "      <td>1.0</td>\n",
       "      <td>1.0</td>\n",
       "      <td></td>\n",
       "      <td></td>\n",
       "      <td>1.0</td>\n",
       "      <td>1.0</td>\n",
       "      <td>...</td>\n",
       "      <td></td>\n",
       "      <td></td>\n",
       "      <td></td>\n",
       "      <td></td>\n",
       "      <td></td>\n",
       "      <td></td>\n",
       "      <td></td>\n",
       "      <td></td>\n",
       "      <td></td>\n",
       "      <td></td>\n",
       "    </tr>\n",
       "    <tr>\n",
       "      <th>pulls_review_comments</th>\n",
       "      <td>1.0</td>\n",
       "      <td>1.0</td>\n",
       "      <td>1.0</td>\n",
       "      <td>1.0</td>\n",
       "      <td>1.0</td>\n",
       "      <td>1.0</td>\n",
       "      <td></td>\n",
       "      <td></td>\n",
       "      <td>1.0</td>\n",
       "      <td>1.0</td>\n",
       "      <td>...</td>\n",
       "      <td></td>\n",
       "      <td></td>\n",
       "      <td></td>\n",
       "      <td></td>\n",
       "      <td></td>\n",
       "      <td></td>\n",
       "      <td></td>\n",
       "      <td></td>\n",
       "      <td></td>\n",
       "      <td></td>\n",
       "    </tr>\n",
       "    <tr>\n",
       "      <th>releases</th>\n",
       "      <td>1.0</td>\n",
       "      <td>1.0</td>\n",
       "      <td>1.0</td>\n",
       "      <td>1.0</td>\n",
       "      <td>1.0</td>\n",
       "      <td></td>\n",
       "      <td>1.0</td>\n",
       "      <td></td>\n",
       "      <td>1.0</td>\n",
       "      <td></td>\n",
       "      <td>...</td>\n",
       "      <td></td>\n",
       "      <td></td>\n",
       "      <td></td>\n",
       "      <td></td>\n",
       "      <td></td>\n",
       "      <td></td>\n",
       "      <td></td>\n",
       "      <td></td>\n",
       "      <td></td>\n",
       "      <td></td>\n",
       "    </tr>\n",
       "    <tr>\n",
       "      <th>repository_advisories</th>\n",
       "      <td></td>\n",
       "      <td></td>\n",
       "      <td></td>\n",
       "      <td></td>\n",
       "      <td></td>\n",
       "      <td></td>\n",
       "      <td></td>\n",
       "      <td>1.0</td>\n",
       "      <td></td>\n",
       "      <td></td>\n",
       "      <td>...</td>\n",
       "      <td></td>\n",
       "      <td></td>\n",
       "      <td></td>\n",
       "      <td></td>\n",
       "      <td></td>\n",
       "      <td></td>\n",
       "      <td></td>\n",
       "      <td></td>\n",
       "      <td></td>\n",
       "      <td></td>\n",
       "    </tr>\n",
       "    <tr>\n",
       "      <th>secrets</th>\n",
       "      <td></td>\n",
       "      <td></td>\n",
       "      <td></td>\n",
       "      <td></td>\n",
       "      <td></td>\n",
       "      <td></td>\n",
       "      <td></td>\n",
       "      <td>1.0</td>\n",
       "      <td></td>\n",
       "      <td></td>\n",
       "      <td>...</td>\n",
       "      <td></td>\n",
       "      <td></td>\n",
       "      <td></td>\n",
       "      <td></td>\n",
       "      <td></td>\n",
       "      <td></td>\n",
       "      <td></td>\n",
       "      <td></td>\n",
       "      <td></td>\n",
       "      <td></td>\n",
       "    </tr>\n",
       "    <tr>\n",
       "      <th>self_hosted_runners</th>\n",
       "      <td></td>\n",
       "      <td></td>\n",
       "      <td></td>\n",
       "      <td></td>\n",
       "      <td></td>\n",
       "      <td></td>\n",
       "      <td></td>\n",
       "      <td>1.0</td>\n",
       "      <td></td>\n",
       "      <td></td>\n",
       "      <td>...</td>\n",
       "      <td></td>\n",
       "      <td></td>\n",
       "      <td></td>\n",
       "      <td></td>\n",
       "      <td></td>\n",
       "      <td></td>\n",
       "      <td></td>\n",
       "      <td></td>\n",
       "      <td></td>\n",
       "      <td></td>\n",
       "    </tr>\n",
       "    <tr>\n",
       "      <th>stargazers</th>\n",
       "      <td></td>\n",
       "      <td></td>\n",
       "      <td></td>\n",
       "      <td></td>\n",
       "      <td></td>\n",
       "      <td></td>\n",
       "      <td></td>\n",
       "      <td></td>\n",
       "      <td></td>\n",
       "      <td></td>\n",
       "      <td>...</td>\n",
       "      <td></td>\n",
       "      <td></td>\n",
       "      <td></td>\n",
       "      <td></td>\n",
       "      <td></td>\n",
       "      <td></td>\n",
       "      <td></td>\n",
       "      <td></td>\n",
       "      <td></td>\n",
       "      <td></td>\n",
       "    </tr>\n",
       "    <tr>\n",
       "      <th>stargazers_with_dates</th>\n",
       "      <td>1.0</td>\n",
       "      <td>1.0</td>\n",
       "      <td>1.0</td>\n",
       "      <td>1.0</td>\n",
       "      <td>1.0</td>\n",
       "      <td>1.0</td>\n",
       "      <td></td>\n",
       "      <td></td>\n",
       "      <td>1.0</td>\n",
       "      <td>1.0</td>\n",
       "      <td>...</td>\n",
       "      <td></td>\n",
       "      <td></td>\n",
       "      <td></td>\n",
       "      <td></td>\n",
       "      <td></td>\n",
       "      <td></td>\n",
       "      <td></td>\n",
       "      <td></td>\n",
       "      <td></td>\n",
       "      <td></td>\n",
       "    </tr>\n",
       "    <tr>\n",
       "      <th>stats_contributors</th>\n",
       "      <td></td>\n",
       "      <td></td>\n",
       "      <td></td>\n",
       "      <td></td>\n",
       "      <td></td>\n",
       "      <td></td>\n",
       "      <td></td>\n",
       "      <td></td>\n",
       "      <td></td>\n",
       "      <td></td>\n",
       "      <td>...</td>\n",
       "      <td></td>\n",
       "      <td></td>\n",
       "      <td></td>\n",
       "      <td></td>\n",
       "      <td></td>\n",
       "      <td></td>\n",
       "      <td></td>\n",
       "      <td></td>\n",
       "      <td></td>\n",
       "      <td></td>\n",
       "    </tr>\n",
       "    <tr>\n",
       "      <th>subscribers</th>\n",
       "      <td>1.0</td>\n",
       "      <td>1.0</td>\n",
       "      <td>1.0</td>\n",
       "      <td>1.0</td>\n",
       "      <td></td>\n",
       "      <td></td>\n",
       "      <td>1.0</td>\n",
       "      <td></td>\n",
       "      <td></td>\n",
       "      <td></td>\n",
       "      <td>...</td>\n",
       "      <td></td>\n",
       "      <td></td>\n",
       "      <td></td>\n",
       "      <td></td>\n",
       "      <td></td>\n",
       "      <td></td>\n",
       "      <td></td>\n",
       "      <td></td>\n",
       "      <td></td>\n",
       "      <td></td>\n",
       "    </tr>\n",
       "    <tr>\n",
       "      <th>tags</th>\n",
       "      <td></td>\n",
       "      <td></td>\n",
       "      <td>1.0</td>\n",
       "      <td></td>\n",
       "      <td></td>\n",
       "      <td></td>\n",
       "      <td>1.0</td>\n",
       "      <td></td>\n",
       "      <td></td>\n",
       "      <td></td>\n",
       "      <td>...</td>\n",
       "      <td></td>\n",
       "      <td></td>\n",
       "      <td></td>\n",
       "      <td></td>\n",
       "      <td></td>\n",
       "      <td></td>\n",
       "      <td></td>\n",
       "      <td></td>\n",
       "      <td></td>\n",
       "      <td></td>\n",
       "    </tr>\n",
       "    <tr>\n",
       "      <th>teams</th>\n",
       "      <td>1.0</td>\n",
       "      <td>1.0</td>\n",
       "      <td>1.0</td>\n",
       "      <td>1.0</td>\n",
       "      <td></td>\n",
       "      <td></td>\n",
       "      <td>1.0</td>\n",
       "      <td></td>\n",
       "      <td></td>\n",
       "      <td></td>\n",
       "      <td>...</td>\n",
       "      <td></td>\n",
       "      <td></td>\n",
       "      <td></td>\n",
       "      <td></td>\n",
       "      <td></td>\n",
       "      <td></td>\n",
       "      <td></td>\n",
       "      <td></td>\n",
       "      <td></td>\n",
       "      <td></td>\n",
       "    </tr>\n",
       "    <tr>\n",
       "      <th>top_paths</th>\n",
       "      <td>1.0</td>\n",
       "      <td>1.0</td>\n",
       "      <td>1.0</td>\n",
       "      <td>1.0</td>\n",
       "      <td></td>\n",
       "      <td></td>\n",
       "      <td>1.0</td>\n",
       "      <td></td>\n",
       "      <td></td>\n",
       "      <td></td>\n",
       "      <td>...</td>\n",
       "      <td></td>\n",
       "      <td></td>\n",
       "      <td></td>\n",
       "      <td></td>\n",
       "      <td></td>\n",
       "      <td></td>\n",
       "      <td></td>\n",
       "      <td></td>\n",
       "      <td></td>\n",
       "      <td></td>\n",
       "    </tr>\n",
       "    <tr>\n",
       "      <th>top_referrers</th>\n",
       "      <td>1.0</td>\n",
       "      <td>1.0</td>\n",
       "      <td>1.0</td>\n",
       "      <td>1.0</td>\n",
       "      <td>1.0</td>\n",
       "      <td>1.0</td>\n",
       "      <td></td>\n",
       "      <td></td>\n",
       "      <td>1.0</td>\n",
       "      <td>1.0</td>\n",
       "      <td>...</td>\n",
       "      <td></td>\n",
       "      <td></td>\n",
       "      <td></td>\n",
       "      <td></td>\n",
       "      <td></td>\n",
       "      <td></td>\n",
       "      <td></td>\n",
       "      <td></td>\n",
       "      <td></td>\n",
       "      <td></td>\n",
       "    </tr>\n",
       "    <tr>\n",
       "      <th>topics</th>\n",
       "      <td></td>\n",
       "      <td></td>\n",
       "      <td></td>\n",
       "      <td></td>\n",
       "      <td></td>\n",
       "      <td></td>\n",
       "      <td></td>\n",
       "      <td></td>\n",
       "      <td></td>\n",
       "      <td></td>\n",
       "      <td>...</td>\n",
       "      <td></td>\n",
       "      <td></td>\n",
       "      <td></td>\n",
       "      <td></td>\n",
       "      <td></td>\n",
       "      <td></td>\n",
       "      <td></td>\n",
       "      <td></td>\n",
       "      <td></td>\n",
       "      <td></td>\n",
       "    </tr>\n",
       "    <tr>\n",
       "      <th>variables</th>\n",
       "      <td></td>\n",
       "      <td></td>\n",
       "      <td></td>\n",
       "      <td></td>\n",
       "      <td></td>\n",
       "      <td></td>\n",
       "      <td></td>\n",
       "      <td>1.0</td>\n",
       "      <td></td>\n",
       "      <td></td>\n",
       "      <td>...</td>\n",
       "      <td></td>\n",
       "      <td></td>\n",
       "      <td></td>\n",
       "      <td></td>\n",
       "      <td></td>\n",
       "      <td></td>\n",
       "      <td></td>\n",
       "      <td></td>\n",
       "      <td></td>\n",
       "      <td></td>\n",
       "    </tr>\n",
       "    <tr>\n",
       "      <th>watchers</th>\n",
       "      <td></td>\n",
       "      <td></td>\n",
       "      <td></td>\n",
       "      <td></td>\n",
       "      <td></td>\n",
       "      <td></td>\n",
       "      <td></td>\n",
       "      <td>1.0</td>\n",
       "      <td></td>\n",
       "      <td></td>\n",
       "      <td>...</td>\n",
       "      <td></td>\n",
       "      <td></td>\n",
       "      <td></td>\n",
       "      <td></td>\n",
       "      <td></td>\n",
       "      <td></td>\n",
       "      <td></td>\n",
       "      <td></td>\n",
       "      <td></td>\n",
       "      <td></td>\n",
       "    </tr>\n",
       "    <tr>\n",
       "      <th>workflow_runs</th>\n",
       "      <td></td>\n",
       "      <td></td>\n",
       "      <td></td>\n",
       "      <td></td>\n",
       "      <td></td>\n",
       "      <td></td>\n",
       "      <td></td>\n",
       "      <td>1.0</td>\n",
       "      <td></td>\n",
       "      <td></td>\n",
       "      <td>...</td>\n",
       "      <td></td>\n",
       "      <td></td>\n",
       "      <td></td>\n",
       "      <td></td>\n",
       "      <td></td>\n",
       "      <td></td>\n",
       "      <td></td>\n",
       "      <td></td>\n",
       "      <td></td>\n",
       "      <td></td>\n",
       "    </tr>\n",
       "    <tr>\n",
       "      <th>workflows</th>\n",
       "      <td></td>\n",
       "      <td></td>\n",
       "      <td></td>\n",
       "      <td></td>\n",
       "      <td></td>\n",
       "      <td></td>\n",
       "      <td></td>\n",
       "      <td>1.0</td>\n",
       "      <td></td>\n",
       "      <td></td>\n",
       "      <td>...</td>\n",
       "      <td></td>\n",
       "      <td></td>\n",
       "      <td></td>\n",
       "      <td></td>\n",
       "      <td></td>\n",
       "      <td></td>\n",
       "      <td></td>\n",
       "      <td></td>\n",
       "      <td></td>\n",
       "      <td>1.0</td>\n",
       "    </tr>\n",
       "  </tbody>\n",
       "</table>\n",
       "<p>46 rows × 249 columns</p>\n",
       "</div>"
      ],
      "text/plain": [
       "                        id  url node_id html_url created_at updated_at name  \\\n",
       "artifacts                                                                     \n",
       "assignees              1.0  1.0     1.0      1.0                        1.0   \n",
       "autolinks              1.0                                                    \n",
       "branches                                                                1.0   \n",
       "codescan_alerts                                                               \n",
       "collaborators          1.0  1.0     1.0      1.0                        1.0   \n",
       "comments               1.0  1.0     1.0      1.0        1.0        1.0        \n",
       "commits                     1.0     1.0      1.0                              \n",
       "contributors           1.0  1.0     1.0      1.0                        1.0   \n",
       "deployments            1.0  1.0     1.0                 1.0        1.0        \n",
       "downloads                                                                     \n",
       "environments                                                                  \n",
       "events                 1.0                              1.0                   \n",
       "forks                  1.0  1.0     1.0      1.0        1.0        1.0  1.0   \n",
       "git_refs                                                                      \n",
       "hooks                  1.0  1.0                         1.0        1.0  1.0   \n",
       "issues                 1.0  1.0     1.0      1.0        1.0        1.0        \n",
       "issues_comments        1.0  1.0     1.0      1.0        1.0        1.0        \n",
       "issues_events          1.0  1.0     1.0                 1.0                   \n",
       "labels                 1.0  1.0     1.0                                 1.0   \n",
       "languages                                                                     \n",
       "milestones             1.0  1.0     1.0      1.0        1.0        1.0        \n",
       "network_events                                                                \n",
       "notifications          1.0  1.0                                    1.0        \n",
       "pending_invitations                                                           \n",
       "projects               1.0  1.0     1.0      1.0        1.0        1.0  1.0   \n",
       "pulls                  1.0  1.0     1.0      1.0        1.0        1.0        \n",
       "pulls_comments         1.0  1.0     1.0      1.0        1.0        1.0        \n",
       "pulls_review_comments  1.0  1.0     1.0      1.0        1.0        1.0        \n",
       "releases               1.0  1.0     1.0      1.0        1.0             1.0   \n",
       "repository_advisories                                                         \n",
       "secrets                                                                       \n",
       "self_hosted_runners                                                           \n",
       "stargazers                                                                    \n",
       "stargazers_with_dates  1.0  1.0     1.0      1.0        1.0        1.0        \n",
       "stats_contributors                                                            \n",
       "subscribers            1.0  1.0     1.0      1.0                        1.0   \n",
       "tags                                1.0                                 1.0   \n",
       "teams                  1.0  1.0     1.0      1.0                        1.0   \n",
       "top_paths              1.0  1.0     1.0      1.0                        1.0   \n",
       "top_referrers          1.0  1.0     1.0      1.0        1.0        1.0        \n",
       "topics                                                                        \n",
       "variables                                                                     \n",
       "watchers                                                                      \n",
       "workflow_runs                                                                 \n",
       "workflows                                                                     \n",
       "\n",
       "                      total_count body author_association  ... clone_url  \\\n",
       "artifacts                     1.0                          ...             \n",
       "assignees                                                  ...             \n",
       "autolinks                                                  ...             \n",
       "branches                                                   ...             \n",
       "codescan_alerts               1.0                          ...             \n",
       "collaborators                                              ...             \n",
       "comments                           1.0                1.0  ...             \n",
       "commits                                                    ...             \n",
       "contributors                                               ...             \n",
       "deployments                                                ...             \n",
       "downloads                                                  ...             \n",
       "environments                  1.0                          ...             \n",
       "events                                                     ...             \n",
       "forks                                                      ...       1.0   \n",
       "git_refs                      1.0                          ...             \n",
       "hooks                                                      ...             \n",
       "issues                             1.0                1.0  ...             \n",
       "issues_comments                    1.0                1.0  ...             \n",
       "issues_events                                         1.0  ...             \n",
       "labels                                                     ...             \n",
       "languages                                                  ...             \n",
       "milestones                                                 ...             \n",
       "network_events                                             ...             \n",
       "notifications                                              ...             \n",
       "pending_invitations                                        ...             \n",
       "projects                           1.0                     ...             \n",
       "pulls                              1.0                1.0  ...             \n",
       "pulls_comments                     1.0                1.0  ...             \n",
       "pulls_review_comments              1.0                1.0  ...             \n",
       "releases                           1.0                     ...             \n",
       "repository_advisories         1.0                          ...             \n",
       "secrets                       1.0                          ...             \n",
       "self_hosted_runners           1.0                          ...             \n",
       "stargazers                                                 ...             \n",
       "stargazers_with_dates              1.0                1.0  ...             \n",
       "stats_contributors                                         ...             \n",
       "subscribers                                                ...             \n",
       "tags                                                       ...             \n",
       "teams                                                      ...             \n",
       "top_paths                                                  ...             \n",
       "top_referrers                      1.0                1.0  ...             \n",
       "topics                                                     ...             \n",
       "variables                     1.0                          ...             \n",
       "watchers                      1.0                          ...             \n",
       "workflow_runs                 1.0                          ...             \n",
       "workflows                     1.0                          ...             \n",
       "\n",
       "                      mirror_url hooks_url svn_url homepage language  \\\n",
       "artifacts                                                              \n",
       "assignees                                                              \n",
       "autolinks                                                              \n",
       "branches                                                               \n",
       "codescan_alerts                                                        \n",
       "collaborators                                                          \n",
       "comments                                                               \n",
       "commits                                                                \n",
       "contributors                                                           \n",
       "deployments                                                            \n",
       "downloads                                                              \n",
       "environments                                                           \n",
       "events                                                                 \n",
       "forks                        1.0       1.0     1.0      1.0      1.0   \n",
       "git_refs                                                               \n",
       "hooks                                                                  \n",
       "issues                                                                 \n",
       "issues_comments                                                        \n",
       "issues_events                                                          \n",
       "labels                                                                 \n",
       "languages                                                              \n",
       "milestones                                                             \n",
       "network_events                                                         \n",
       "notifications                                                          \n",
       "pending_invitations                                                    \n",
       "projects                                                               \n",
       "pulls                                                                  \n",
       "pulls_comments                                                         \n",
       "pulls_review_comments                                                  \n",
       "releases                                                               \n",
       "repository_advisories                                                  \n",
       "secrets                                                                \n",
       "self_hosted_runners                                                    \n",
       "stargazers                                                             \n",
       "stargazers_with_dates                                                  \n",
       "stats_contributors                                                     \n",
       "subscribers                                                            \n",
       "tags                                                                   \n",
       "teams                                                                  \n",
       "top_paths                                                              \n",
       "top_referrers                                                          \n",
       "topics                                                                 \n",
       "variables                                                              \n",
       "watchers                                                               \n",
       "workflow_runs                                                          \n",
       "workflows                                                              \n",
       "\n",
       "                      forks_count stargazers_count watchers_count workflows  \n",
       "artifacts                                                                    \n",
       "assignees                                                                    \n",
       "autolinks                                                                    \n",
       "branches                                                                     \n",
       "codescan_alerts                                                              \n",
       "collaborators                                                                \n",
       "comments                                                                     \n",
       "commits                                                                      \n",
       "contributors                                                                 \n",
       "deployments                                                                  \n",
       "downloads                                                                    \n",
       "environments                                                                 \n",
       "events                                                                       \n",
       "forks                         1.0              1.0            1.0            \n",
       "git_refs                                                                     \n",
       "hooks                                                                        \n",
       "issues                                                                       \n",
       "issues_comments                                                              \n",
       "issues_events                                                                \n",
       "labels                                                                       \n",
       "languages                                                                    \n",
       "milestones                                                                   \n",
       "network_events                                                               \n",
       "notifications                                                                \n",
       "pending_invitations                                                          \n",
       "projects                                                                     \n",
       "pulls                                                                        \n",
       "pulls_comments                                                               \n",
       "pulls_review_comments                                                        \n",
       "releases                                                                     \n",
       "repository_advisories                                                        \n",
       "secrets                                                                      \n",
       "self_hosted_runners                                                          \n",
       "stargazers                                                                   \n",
       "stargazers_with_dates                                                        \n",
       "stats_contributors                                                           \n",
       "subscribers                                                                  \n",
       "tags                                                                         \n",
       "teams                                                                        \n",
       "top_paths                                                                    \n",
       "top_referrers                                                                \n",
       "topics                                                                       \n",
       "variables                                                                    \n",
       "watchers                                                                     \n",
       "workflow_runs                                                                \n",
       "workflows                                                               1.0  \n",
       "\n",
       "[46 rows x 249 columns]"
      ]
     },
     "execution_count": 326,
     "metadata": {},
     "output_type": "execute_result"
    }
   ],
   "source": [
    "import pandas as pd\n",
    "\n",
    "# d = pd.DataFrame.from_records(collection_props.names).T\n",
    "def pad_lists(d):\n",
    "    max_len = max(len(lst) for lst in d.values())\n",
    "    return {k: (v + [None] * (max_len - len(v))) for k, v in d.items()}\n",
    "\n",
    "padded_names = pad_lists(collection_props.names)\n",
    "d = pd.DataFrame.from_records(padded_names).T\n",
    "\n",
    "def names_with_one_value(names):\n",
    "    return {k: 1 for k in names}\n",
    "\n",
    "padded_names = {k: names_with_one_value(v) for k, v in collection_props.names.items()}\n",
    "d = pd.DataFrame(padded_names).T \n",
    "# sort the columns by the most frequent (i.e. by d.sum())\n",
    "d = d[d.sum().sort_values(ascending=False).index]\n",
    "d.fillna('')"
   ]
  },
  {
   "cell_type": "code",
   "execution_count": 427,
   "metadata": {},
   "outputs": [],
   "source": [
    "def choose_keys(d):\n",
    "    for collection_name, names in d.T.items():\n",
    "        names = names.dropna().index.tolist()\n",
    "        # print(names)\n",
    "        # break\n",
    "        if 'number' in names:\n",
    "            yield collection_name, 'number'\n",
    "        elif 'name' in names:\n",
    "            yield collection_name, 'name'\n",
    "        elif 'id' in names:\n",
    "            yield collection_name, 'id'\n",
    "        # elif 'comments' in names:\n",
    "        #     yield collection_name, 'comments'\n",
    "        else:\n",
    "            yield collection_name, None\n",
    "        \n",
    "    \n",
    "# dict(choose_keys(d))"
   ]
  },
  {
   "cell_type": "code",
   "execution_count": 328,
   "metadata": {},
   "outputs": [
    {
     "data": {
      "text/plain": [
       "['artifacts',\n",
       " 'codescan_alerts',\n",
       " 'commits',\n",
       " 'downloads',\n",
       " 'environments',\n",
       " 'git_refs',\n",
       " 'languages',\n",
       " 'network_events',\n",
       " 'pending_invitations',\n",
       " 'repository_advisories',\n",
       " 'secrets',\n",
       " 'self_hosted_runners',\n",
       " 'stargazers',\n",
       " 'stats_contributors',\n",
       " 'topics',\n",
       " 'variables',\n",
       " 'watchers',\n",
       " 'workflow_runs',\n",
       " 'workflows']"
      ]
     },
     "execution_count": 328,
     "metadata": {},
     "output_type": "execute_result"
    }
   ],
   "source": [
    "collections_not_having_names_yet = [k for k, v in choose_keys(d) if not v]\n",
    "collections_not_having_names_yet"
   ]
  },
  {
   "cell_type": "code",
   "execution_count": 329,
   "metadata": {},
   "outputs": [
    {
     "data": {
      "text/html": [
       "<div>\n",
       "<style scoped>\n",
       "    .dataframe tbody tr th:only-of-type {\n",
       "        vertical-align: middle;\n",
       "    }\n",
       "\n",
       "    .dataframe tbody tr th {\n",
       "        vertical-align: top;\n",
       "    }\n",
       "\n",
       "    .dataframe thead th {\n",
       "        text-align: right;\n",
       "    }\n",
       "</style>\n",
       "<table border=\"1\" class=\"dataframe\">\n",
       "  <thead>\n",
       "    <tr style=\"text-align: right;\">\n",
       "      <th></th>\n",
       "      <th>id</th>\n",
       "      <th>url</th>\n",
       "      <th>node_id</th>\n",
       "      <th>html_url</th>\n",
       "      <th>created_at</th>\n",
       "      <th>updated_at</th>\n",
       "      <th>name</th>\n",
       "      <th>total_count</th>\n",
       "      <th>body</th>\n",
       "      <th>author_association</th>\n",
       "      <th>...</th>\n",
       "      <th>clone_url</th>\n",
       "      <th>mirror_url</th>\n",
       "      <th>hooks_url</th>\n",
       "      <th>svn_url</th>\n",
       "      <th>homepage</th>\n",
       "      <th>language</th>\n",
       "      <th>forks_count</th>\n",
       "      <th>stargazers_count</th>\n",
       "      <th>watchers_count</th>\n",
       "      <th>workflows</th>\n",
       "    </tr>\n",
       "  </thead>\n",
       "  <tbody>\n",
       "    <tr>\n",
       "      <th>artifacts</th>\n",
       "      <td>NaN</td>\n",
       "      <td>NaN</td>\n",
       "      <td>NaN</td>\n",
       "      <td>NaN</td>\n",
       "      <td>NaN</td>\n",
       "      <td>NaN</td>\n",
       "      <td>NaN</td>\n",
       "      <td>1.0</td>\n",
       "      <td>NaN</td>\n",
       "      <td>NaN</td>\n",
       "      <td>...</td>\n",
       "      <td>NaN</td>\n",
       "      <td>NaN</td>\n",
       "      <td>NaN</td>\n",
       "      <td>NaN</td>\n",
       "      <td>NaN</td>\n",
       "      <td>NaN</td>\n",
       "      <td>NaN</td>\n",
       "      <td>NaN</td>\n",
       "      <td>NaN</td>\n",
       "      <td>NaN</td>\n",
       "    </tr>\n",
       "    <tr>\n",
       "      <th>codescan_alerts</th>\n",
       "      <td>NaN</td>\n",
       "      <td>NaN</td>\n",
       "      <td>NaN</td>\n",
       "      <td>NaN</td>\n",
       "      <td>NaN</td>\n",
       "      <td>NaN</td>\n",
       "      <td>NaN</td>\n",
       "      <td>1.0</td>\n",
       "      <td>NaN</td>\n",
       "      <td>NaN</td>\n",
       "      <td>...</td>\n",
       "      <td>NaN</td>\n",
       "      <td>NaN</td>\n",
       "      <td>NaN</td>\n",
       "      <td>NaN</td>\n",
       "      <td>NaN</td>\n",
       "      <td>NaN</td>\n",
       "      <td>NaN</td>\n",
       "      <td>NaN</td>\n",
       "      <td>NaN</td>\n",
       "      <td>NaN</td>\n",
       "    </tr>\n",
       "    <tr>\n",
       "      <th>commits</th>\n",
       "      <td>NaN</td>\n",
       "      <td>1.0</td>\n",
       "      <td>1.0</td>\n",
       "      <td>1.0</td>\n",
       "      <td>NaN</td>\n",
       "      <td>NaN</td>\n",
       "      <td>NaN</td>\n",
       "      <td>NaN</td>\n",
       "      <td>NaN</td>\n",
       "      <td>NaN</td>\n",
       "      <td>...</td>\n",
       "      <td>NaN</td>\n",
       "      <td>NaN</td>\n",
       "      <td>NaN</td>\n",
       "      <td>NaN</td>\n",
       "      <td>NaN</td>\n",
       "      <td>NaN</td>\n",
       "      <td>NaN</td>\n",
       "      <td>NaN</td>\n",
       "      <td>NaN</td>\n",
       "      <td>NaN</td>\n",
       "    </tr>\n",
       "    <tr>\n",
       "      <th>downloads</th>\n",
       "      <td>NaN</td>\n",
       "      <td>NaN</td>\n",
       "      <td>NaN</td>\n",
       "      <td>NaN</td>\n",
       "      <td>NaN</td>\n",
       "      <td>NaN</td>\n",
       "      <td>NaN</td>\n",
       "      <td>NaN</td>\n",
       "      <td>NaN</td>\n",
       "      <td>NaN</td>\n",
       "      <td>...</td>\n",
       "      <td>NaN</td>\n",
       "      <td>NaN</td>\n",
       "      <td>NaN</td>\n",
       "      <td>NaN</td>\n",
       "      <td>NaN</td>\n",
       "      <td>NaN</td>\n",
       "      <td>NaN</td>\n",
       "      <td>NaN</td>\n",
       "      <td>NaN</td>\n",
       "      <td>NaN</td>\n",
       "    </tr>\n",
       "    <tr>\n",
       "      <th>environments</th>\n",
       "      <td>NaN</td>\n",
       "      <td>NaN</td>\n",
       "      <td>NaN</td>\n",
       "      <td>NaN</td>\n",
       "      <td>NaN</td>\n",
       "      <td>NaN</td>\n",
       "      <td>NaN</td>\n",
       "      <td>1.0</td>\n",
       "      <td>NaN</td>\n",
       "      <td>NaN</td>\n",
       "      <td>...</td>\n",
       "      <td>NaN</td>\n",
       "      <td>NaN</td>\n",
       "      <td>NaN</td>\n",
       "      <td>NaN</td>\n",
       "      <td>NaN</td>\n",
       "      <td>NaN</td>\n",
       "      <td>NaN</td>\n",
       "      <td>NaN</td>\n",
       "      <td>NaN</td>\n",
       "      <td>NaN</td>\n",
       "    </tr>\n",
       "    <tr>\n",
       "      <th>git_refs</th>\n",
       "      <td>NaN</td>\n",
       "      <td>NaN</td>\n",
       "      <td>NaN</td>\n",
       "      <td>NaN</td>\n",
       "      <td>NaN</td>\n",
       "      <td>NaN</td>\n",
       "      <td>NaN</td>\n",
       "      <td>1.0</td>\n",
       "      <td>NaN</td>\n",
       "      <td>NaN</td>\n",
       "      <td>...</td>\n",
       "      <td>NaN</td>\n",
       "      <td>NaN</td>\n",
       "      <td>NaN</td>\n",
       "      <td>NaN</td>\n",
       "      <td>NaN</td>\n",
       "      <td>NaN</td>\n",
       "      <td>NaN</td>\n",
       "      <td>NaN</td>\n",
       "      <td>NaN</td>\n",
       "      <td>NaN</td>\n",
       "    </tr>\n",
       "    <tr>\n",
       "      <th>languages</th>\n",
       "      <td>NaN</td>\n",
       "      <td>NaN</td>\n",
       "      <td>NaN</td>\n",
       "      <td>NaN</td>\n",
       "      <td>NaN</td>\n",
       "      <td>NaN</td>\n",
       "      <td>NaN</td>\n",
       "      <td>NaN</td>\n",
       "      <td>NaN</td>\n",
       "      <td>NaN</td>\n",
       "      <td>...</td>\n",
       "      <td>NaN</td>\n",
       "      <td>NaN</td>\n",
       "      <td>NaN</td>\n",
       "      <td>NaN</td>\n",
       "      <td>NaN</td>\n",
       "      <td>NaN</td>\n",
       "      <td>NaN</td>\n",
       "      <td>NaN</td>\n",
       "      <td>NaN</td>\n",
       "      <td>NaN</td>\n",
       "    </tr>\n",
       "    <tr>\n",
       "      <th>network_events</th>\n",
       "      <td>NaN</td>\n",
       "      <td>NaN</td>\n",
       "      <td>NaN</td>\n",
       "      <td>NaN</td>\n",
       "      <td>NaN</td>\n",
       "      <td>NaN</td>\n",
       "      <td>NaN</td>\n",
       "      <td>NaN</td>\n",
       "      <td>NaN</td>\n",
       "      <td>NaN</td>\n",
       "      <td>...</td>\n",
       "      <td>NaN</td>\n",
       "      <td>NaN</td>\n",
       "      <td>NaN</td>\n",
       "      <td>NaN</td>\n",
       "      <td>NaN</td>\n",
       "      <td>NaN</td>\n",
       "      <td>NaN</td>\n",
       "      <td>NaN</td>\n",
       "      <td>NaN</td>\n",
       "      <td>NaN</td>\n",
       "    </tr>\n",
       "    <tr>\n",
       "      <th>pending_invitations</th>\n",
       "      <td>NaN</td>\n",
       "      <td>NaN</td>\n",
       "      <td>NaN</td>\n",
       "      <td>NaN</td>\n",
       "      <td>NaN</td>\n",
       "      <td>NaN</td>\n",
       "      <td>NaN</td>\n",
       "      <td>NaN</td>\n",
       "      <td>NaN</td>\n",
       "      <td>NaN</td>\n",
       "      <td>...</td>\n",
       "      <td>NaN</td>\n",
       "      <td>NaN</td>\n",
       "      <td>NaN</td>\n",
       "      <td>NaN</td>\n",
       "      <td>NaN</td>\n",
       "      <td>NaN</td>\n",
       "      <td>NaN</td>\n",
       "      <td>NaN</td>\n",
       "      <td>NaN</td>\n",
       "      <td>NaN</td>\n",
       "    </tr>\n",
       "    <tr>\n",
       "      <th>repository_advisories</th>\n",
       "      <td>NaN</td>\n",
       "      <td>NaN</td>\n",
       "      <td>NaN</td>\n",
       "      <td>NaN</td>\n",
       "      <td>NaN</td>\n",
       "      <td>NaN</td>\n",
       "      <td>NaN</td>\n",
       "      <td>1.0</td>\n",
       "      <td>NaN</td>\n",
       "      <td>NaN</td>\n",
       "      <td>...</td>\n",
       "      <td>NaN</td>\n",
       "      <td>NaN</td>\n",
       "      <td>NaN</td>\n",
       "      <td>NaN</td>\n",
       "      <td>NaN</td>\n",
       "      <td>NaN</td>\n",
       "      <td>NaN</td>\n",
       "      <td>NaN</td>\n",
       "      <td>NaN</td>\n",
       "      <td>NaN</td>\n",
       "    </tr>\n",
       "    <tr>\n",
       "      <th>secrets</th>\n",
       "      <td>NaN</td>\n",
       "      <td>NaN</td>\n",
       "      <td>NaN</td>\n",
       "      <td>NaN</td>\n",
       "      <td>NaN</td>\n",
       "      <td>NaN</td>\n",
       "      <td>NaN</td>\n",
       "      <td>1.0</td>\n",
       "      <td>NaN</td>\n",
       "      <td>NaN</td>\n",
       "      <td>...</td>\n",
       "      <td>NaN</td>\n",
       "      <td>NaN</td>\n",
       "      <td>NaN</td>\n",
       "      <td>NaN</td>\n",
       "      <td>NaN</td>\n",
       "      <td>NaN</td>\n",
       "      <td>NaN</td>\n",
       "      <td>NaN</td>\n",
       "      <td>NaN</td>\n",
       "      <td>NaN</td>\n",
       "    </tr>\n",
       "    <tr>\n",
       "      <th>self_hosted_runners</th>\n",
       "      <td>NaN</td>\n",
       "      <td>NaN</td>\n",
       "      <td>NaN</td>\n",
       "      <td>NaN</td>\n",
       "      <td>NaN</td>\n",
       "      <td>NaN</td>\n",
       "      <td>NaN</td>\n",
       "      <td>1.0</td>\n",
       "      <td>NaN</td>\n",
       "      <td>NaN</td>\n",
       "      <td>...</td>\n",
       "      <td>NaN</td>\n",
       "      <td>NaN</td>\n",
       "      <td>NaN</td>\n",
       "      <td>NaN</td>\n",
       "      <td>NaN</td>\n",
       "      <td>NaN</td>\n",
       "      <td>NaN</td>\n",
       "      <td>NaN</td>\n",
       "      <td>NaN</td>\n",
       "      <td>NaN</td>\n",
       "    </tr>\n",
       "    <tr>\n",
       "      <th>stargazers</th>\n",
       "      <td>NaN</td>\n",
       "      <td>NaN</td>\n",
       "      <td>NaN</td>\n",
       "      <td>NaN</td>\n",
       "      <td>NaN</td>\n",
       "      <td>NaN</td>\n",
       "      <td>NaN</td>\n",
       "      <td>NaN</td>\n",
       "      <td>NaN</td>\n",
       "      <td>NaN</td>\n",
       "      <td>...</td>\n",
       "      <td>NaN</td>\n",
       "      <td>NaN</td>\n",
       "      <td>NaN</td>\n",
       "      <td>NaN</td>\n",
       "      <td>NaN</td>\n",
       "      <td>NaN</td>\n",
       "      <td>NaN</td>\n",
       "      <td>NaN</td>\n",
       "      <td>NaN</td>\n",
       "      <td>NaN</td>\n",
       "    </tr>\n",
       "    <tr>\n",
       "      <th>stats_contributors</th>\n",
       "      <td>NaN</td>\n",
       "      <td>NaN</td>\n",
       "      <td>NaN</td>\n",
       "      <td>NaN</td>\n",
       "      <td>NaN</td>\n",
       "      <td>NaN</td>\n",
       "      <td>NaN</td>\n",
       "      <td>NaN</td>\n",
       "      <td>NaN</td>\n",
       "      <td>NaN</td>\n",
       "      <td>...</td>\n",
       "      <td>NaN</td>\n",
       "      <td>NaN</td>\n",
       "      <td>NaN</td>\n",
       "      <td>NaN</td>\n",
       "      <td>NaN</td>\n",
       "      <td>NaN</td>\n",
       "      <td>NaN</td>\n",
       "      <td>NaN</td>\n",
       "      <td>NaN</td>\n",
       "      <td>NaN</td>\n",
       "    </tr>\n",
       "    <tr>\n",
       "      <th>topics</th>\n",
       "      <td>NaN</td>\n",
       "      <td>NaN</td>\n",
       "      <td>NaN</td>\n",
       "      <td>NaN</td>\n",
       "      <td>NaN</td>\n",
       "      <td>NaN</td>\n",
       "      <td>NaN</td>\n",
       "      <td>NaN</td>\n",
       "      <td>NaN</td>\n",
       "      <td>NaN</td>\n",
       "      <td>...</td>\n",
       "      <td>NaN</td>\n",
       "      <td>NaN</td>\n",
       "      <td>NaN</td>\n",
       "      <td>NaN</td>\n",
       "      <td>NaN</td>\n",
       "      <td>NaN</td>\n",
       "      <td>NaN</td>\n",
       "      <td>NaN</td>\n",
       "      <td>NaN</td>\n",
       "      <td>NaN</td>\n",
       "    </tr>\n",
       "    <tr>\n",
       "      <th>variables</th>\n",
       "      <td>NaN</td>\n",
       "      <td>NaN</td>\n",
       "      <td>NaN</td>\n",
       "      <td>NaN</td>\n",
       "      <td>NaN</td>\n",
       "      <td>NaN</td>\n",
       "      <td>NaN</td>\n",
       "      <td>1.0</td>\n",
       "      <td>NaN</td>\n",
       "      <td>NaN</td>\n",
       "      <td>...</td>\n",
       "      <td>NaN</td>\n",
       "      <td>NaN</td>\n",
       "      <td>NaN</td>\n",
       "      <td>NaN</td>\n",
       "      <td>NaN</td>\n",
       "      <td>NaN</td>\n",
       "      <td>NaN</td>\n",
       "      <td>NaN</td>\n",
       "      <td>NaN</td>\n",
       "      <td>NaN</td>\n",
       "    </tr>\n",
       "    <tr>\n",
       "      <th>watchers</th>\n",
       "      <td>NaN</td>\n",
       "      <td>NaN</td>\n",
       "      <td>NaN</td>\n",
       "      <td>NaN</td>\n",
       "      <td>NaN</td>\n",
       "      <td>NaN</td>\n",
       "      <td>NaN</td>\n",
       "      <td>1.0</td>\n",
       "      <td>NaN</td>\n",
       "      <td>NaN</td>\n",
       "      <td>...</td>\n",
       "      <td>NaN</td>\n",
       "      <td>NaN</td>\n",
       "      <td>NaN</td>\n",
       "      <td>NaN</td>\n",
       "      <td>NaN</td>\n",
       "      <td>NaN</td>\n",
       "      <td>NaN</td>\n",
       "      <td>NaN</td>\n",
       "      <td>NaN</td>\n",
       "      <td>NaN</td>\n",
       "    </tr>\n",
       "    <tr>\n",
       "      <th>workflow_runs</th>\n",
       "      <td>NaN</td>\n",
       "      <td>NaN</td>\n",
       "      <td>NaN</td>\n",
       "      <td>NaN</td>\n",
       "      <td>NaN</td>\n",
       "      <td>NaN</td>\n",
       "      <td>NaN</td>\n",
       "      <td>1.0</td>\n",
       "      <td>NaN</td>\n",
       "      <td>NaN</td>\n",
       "      <td>...</td>\n",
       "      <td>NaN</td>\n",
       "      <td>NaN</td>\n",
       "      <td>NaN</td>\n",
       "      <td>NaN</td>\n",
       "      <td>NaN</td>\n",
       "      <td>NaN</td>\n",
       "      <td>NaN</td>\n",
       "      <td>NaN</td>\n",
       "      <td>NaN</td>\n",
       "      <td>NaN</td>\n",
       "    </tr>\n",
       "    <tr>\n",
       "      <th>workflows</th>\n",
       "      <td>NaN</td>\n",
       "      <td>NaN</td>\n",
       "      <td>NaN</td>\n",
       "      <td>NaN</td>\n",
       "      <td>NaN</td>\n",
       "      <td>NaN</td>\n",
       "      <td>NaN</td>\n",
       "      <td>1.0</td>\n",
       "      <td>NaN</td>\n",
       "      <td>NaN</td>\n",
       "      <td>...</td>\n",
       "      <td>NaN</td>\n",
       "      <td>NaN</td>\n",
       "      <td>NaN</td>\n",
       "      <td>NaN</td>\n",
       "      <td>NaN</td>\n",
       "      <td>NaN</td>\n",
       "      <td>NaN</td>\n",
       "      <td>NaN</td>\n",
       "      <td>NaN</td>\n",
       "      <td>1.0</td>\n",
       "    </tr>\n",
       "  </tbody>\n",
       "</table>\n",
       "<p>19 rows × 249 columns</p>\n",
       "</div>"
      ],
      "text/plain": [
       "                       id  url  node_id  html_url  created_at  updated_at  \\\n",
       "artifacts             NaN  NaN      NaN       NaN         NaN         NaN   \n",
       "codescan_alerts       NaN  NaN      NaN       NaN         NaN         NaN   \n",
       "commits               NaN  1.0      1.0       1.0         NaN         NaN   \n",
       "downloads             NaN  NaN      NaN       NaN         NaN         NaN   \n",
       "environments          NaN  NaN      NaN       NaN         NaN         NaN   \n",
       "git_refs              NaN  NaN      NaN       NaN         NaN         NaN   \n",
       "languages             NaN  NaN      NaN       NaN         NaN         NaN   \n",
       "network_events        NaN  NaN      NaN       NaN         NaN         NaN   \n",
       "pending_invitations   NaN  NaN      NaN       NaN         NaN         NaN   \n",
       "repository_advisories NaN  NaN      NaN       NaN         NaN         NaN   \n",
       "secrets               NaN  NaN      NaN       NaN         NaN         NaN   \n",
       "self_hosted_runners   NaN  NaN      NaN       NaN         NaN         NaN   \n",
       "stargazers            NaN  NaN      NaN       NaN         NaN         NaN   \n",
       "stats_contributors    NaN  NaN      NaN       NaN         NaN         NaN   \n",
       "topics                NaN  NaN      NaN       NaN         NaN         NaN   \n",
       "variables             NaN  NaN      NaN       NaN         NaN         NaN   \n",
       "watchers              NaN  NaN      NaN       NaN         NaN         NaN   \n",
       "workflow_runs         NaN  NaN      NaN       NaN         NaN         NaN   \n",
       "workflows             NaN  NaN      NaN       NaN         NaN         NaN   \n",
       "\n",
       "                       name  total_count  body  author_association  ...  \\\n",
       "artifacts               NaN          1.0   NaN                 NaN  ...   \n",
       "codescan_alerts         NaN          1.0   NaN                 NaN  ...   \n",
       "commits                 NaN          NaN   NaN                 NaN  ...   \n",
       "downloads               NaN          NaN   NaN                 NaN  ...   \n",
       "environments            NaN          1.0   NaN                 NaN  ...   \n",
       "git_refs                NaN          1.0   NaN                 NaN  ...   \n",
       "languages               NaN          NaN   NaN                 NaN  ...   \n",
       "network_events          NaN          NaN   NaN                 NaN  ...   \n",
       "pending_invitations     NaN          NaN   NaN                 NaN  ...   \n",
       "repository_advisories   NaN          1.0   NaN                 NaN  ...   \n",
       "secrets                 NaN          1.0   NaN                 NaN  ...   \n",
       "self_hosted_runners     NaN          1.0   NaN                 NaN  ...   \n",
       "stargazers              NaN          NaN   NaN                 NaN  ...   \n",
       "stats_contributors      NaN          NaN   NaN                 NaN  ...   \n",
       "topics                  NaN          NaN   NaN                 NaN  ...   \n",
       "variables               NaN          1.0   NaN                 NaN  ...   \n",
       "watchers                NaN          1.0   NaN                 NaN  ...   \n",
       "workflow_runs           NaN          1.0   NaN                 NaN  ...   \n",
       "workflows               NaN          1.0   NaN                 NaN  ...   \n",
       "\n",
       "                       clone_url  mirror_url  hooks_url  svn_url  homepage  \\\n",
       "artifacts                    NaN         NaN        NaN      NaN       NaN   \n",
       "codescan_alerts              NaN         NaN        NaN      NaN       NaN   \n",
       "commits                      NaN         NaN        NaN      NaN       NaN   \n",
       "downloads                    NaN         NaN        NaN      NaN       NaN   \n",
       "environments                 NaN         NaN        NaN      NaN       NaN   \n",
       "git_refs                     NaN         NaN        NaN      NaN       NaN   \n",
       "languages                    NaN         NaN        NaN      NaN       NaN   \n",
       "network_events               NaN         NaN        NaN      NaN       NaN   \n",
       "pending_invitations          NaN         NaN        NaN      NaN       NaN   \n",
       "repository_advisories        NaN         NaN        NaN      NaN       NaN   \n",
       "secrets                      NaN         NaN        NaN      NaN       NaN   \n",
       "self_hosted_runners          NaN         NaN        NaN      NaN       NaN   \n",
       "stargazers                   NaN         NaN        NaN      NaN       NaN   \n",
       "stats_contributors           NaN         NaN        NaN      NaN       NaN   \n",
       "topics                       NaN         NaN        NaN      NaN       NaN   \n",
       "variables                    NaN         NaN        NaN      NaN       NaN   \n",
       "watchers                     NaN         NaN        NaN      NaN       NaN   \n",
       "workflow_runs                NaN         NaN        NaN      NaN       NaN   \n",
       "workflows                    NaN         NaN        NaN      NaN       NaN   \n",
       "\n",
       "                       language  forks_count  stargazers_count  \\\n",
       "artifacts                   NaN          NaN               NaN   \n",
       "codescan_alerts             NaN          NaN               NaN   \n",
       "commits                     NaN          NaN               NaN   \n",
       "downloads                   NaN          NaN               NaN   \n",
       "environments                NaN          NaN               NaN   \n",
       "git_refs                    NaN          NaN               NaN   \n",
       "languages                   NaN          NaN               NaN   \n",
       "network_events              NaN          NaN               NaN   \n",
       "pending_invitations         NaN          NaN               NaN   \n",
       "repository_advisories       NaN          NaN               NaN   \n",
       "secrets                     NaN          NaN               NaN   \n",
       "self_hosted_runners         NaN          NaN               NaN   \n",
       "stargazers                  NaN          NaN               NaN   \n",
       "stats_contributors          NaN          NaN               NaN   \n",
       "topics                      NaN          NaN               NaN   \n",
       "variables                   NaN          NaN               NaN   \n",
       "watchers                    NaN          NaN               NaN   \n",
       "workflow_runs               NaN          NaN               NaN   \n",
       "workflows                   NaN          NaN               NaN   \n",
       "\n",
       "                       watchers_count  workflows  \n",
       "artifacts                         NaN        NaN  \n",
       "codescan_alerts                   NaN        NaN  \n",
       "commits                           NaN        NaN  \n",
       "downloads                         NaN        NaN  \n",
       "environments                      NaN        NaN  \n",
       "git_refs                          NaN        NaN  \n",
       "languages                         NaN        NaN  \n",
       "network_events                    NaN        NaN  \n",
       "pending_invitations               NaN        NaN  \n",
       "repository_advisories             NaN        NaN  \n",
       "secrets                           NaN        NaN  \n",
       "self_hosted_runners               NaN        NaN  \n",
       "stargazers                        NaN        NaN  \n",
       "stats_contributors                NaN        NaN  \n",
       "topics                            NaN        NaN  \n",
       "variables                         NaN        NaN  \n",
       "watchers                          NaN        NaN  \n",
       "workflow_runs                     NaN        NaN  \n",
       "workflows                         NaN        1.0  \n",
       "\n",
       "[19 rows x 249 columns]"
      ]
     },
     "execution_count": 329,
     "metadata": {},
     "output_type": "execute_result"
    }
   ],
   "source": [
    "d.loc[collections_not_having_names_yet, :]"
   ]
  },
  {
   "cell_type": "code",
   "execution_count": null,
   "metadata": {},
   "outputs": [],
   "source": []
  },
  {
   "cell_type": "code",
   "execution_count": 330,
   "metadata": {},
   "outputs": [
    {
     "data": {
      "text/plain": [
       "issues           1.0\n",
       "milestones       1.0\n",
       "projects         1.0\n",
       "pulls            1.0\n",
       "top_referrers    1.0\n",
       "Name: number, dtype: float64"
      ]
     },
     "execution_count": 330,
     "metadata": {},
     "output_type": "execute_result"
    }
   ],
   "source": [
    "import numpy as np\n",
    "t = d.sum()\n",
    "t['number']\n",
    "d['number'].dropna()"
   ]
  },
  {
   "cell_type": "code",
   "execution_count": 331,
   "metadata": {},
   "outputs": [
    {
     "data": {
      "text/plain": [
       "assignees        1.0\n",
       "branches         1.0\n",
       "collaborators    1.0\n",
       "contributors     1.0\n",
       "forks            1.0\n",
       "hooks            1.0\n",
       "labels           1.0\n",
       "projects         1.0\n",
       "releases         1.0\n",
       "subscribers      1.0\n",
       "tags             1.0\n",
       "teams            1.0\n",
       "top_paths        1.0\n",
       "Name: name, dtype: float64"
      ]
     },
     "execution_count": 331,
     "metadata": {},
     "output_type": "execute_result"
    }
   ],
   "source": [
    "import numpy as np\n",
    "t = d.sum()\n",
    "t['name']\n",
    "d['name'].dropna()"
   ]
  },
  {
   "cell_type": "code",
   "execution_count": 228,
   "metadata": {},
   "outputs": [
    {
     "name": "stdout",
     "output_type": "stream",
     "text": [
      "issues number description:\tNumber uniquely identifying the issue within its repository\n",
      "milestones number description:\tThe number of the milestone.\n",
      "projects number description:\t\n",
      "pulls number description:\t\n",
      "top_referrers number description:\t\n"
     ]
    }
   ],
   "source": [
    "# It seems like the fields \"number\" (for issues), \"id\", and \"name\" are good candidates \n",
    "# for the unique key for the repo-level collections (issues, actions, etc.)\n",
    "# But though \"number\" means is a unique identifier for issues, it may not for other collections.\n",
    "\n",
    "for name in d['number'].dropna().index.values:\n",
    "    desc = collection_props.output_properties[name]['number'].get('description', '')\n",
    "    print(\n",
    "        f\"{name} number description:\\t{desc}\"\n",
    "    )"
   ]
  },
  {
   "cell_type": "code",
   "execution_count": 224,
   "metadata": {},
   "outputs": [
    {
     "data": {
      "text/plain": [
       "{'description': 'Number uniquely identifying the issue within its repository',\n",
       " 'example': 42,\n",
       " 'type': 'integer'}"
      ]
     },
     "execution_count": 224,
     "metadata": {},
     "output_type": "execute_result"
    }
   ],
   "source": [
    "collection_props.output_properties['issues']['number']"
   ]
  },
  {
   "cell_type": "markdown",
   "metadata": {},
   "source": [
    "## Asking chatGPT to find a property name to use as a key."
   ]
  },
  {
   "cell_type": "markdown",
   "metadata": {},
   "source": [
    "Here, I'll just write some code to extract some condensed information about the collections and \n",
    "their parameters, so I can give it to chatGPT and ask it to figure out a param to use for a unique id\n",
    "for each collection."
   ]
  },
  {
   "cell_type": "code",
   "execution_count": 315,
   "metadata": {},
   "outputs": [],
   "source": [
    "def extract_fields(d, fields):\n",
    "    for field in fields:\n",
    "        if field in d:\n",
    "            yield field, d[field]\n",
    "\n",
    "def extract_fields_from_values(d, fields, *, return_empty_extraction=False):\n",
    "    for k, v in d.items():\n",
    "        extraction = dict(extract_fields(v, fields))\n",
    "        if extraction or return_empty_extraction:\n",
    "            yield k, dict(extract_fields(v, fields))\n",
    "\n",
    "def prop_string_info_string(prop_props):\n",
    "    t = f'{prop_props.get(\"description\", \"\")}'\n",
    "    if example := prop_props.get('example', \"\"):\n",
    "        # print(example)\n",
    "        t += f\" (e.g. {example})\"\n",
    "    return t\n",
    "\n",
    "from functools import partial\n",
    "\n",
    "def output_props_extraction():\n",
    "    _extractor = partial(\n",
    "        extract_fields_from_values, \n",
    "        fields=['description', 'example'], \n",
    "        return_empty_extraction=False\n",
    "    )\n",
    "    def gen():\n",
    "        for collection in collection_props.output_properties:\n",
    "            # print(collection)\n",
    "            def _gen():\n",
    "                props = collection_props.output_properties[collection]\n",
    "                for name, name_props in _extractor(props):\n",
    "                    if name_props:\n",
    "                        # print(props)\n",
    "                        # print(props)\n",
    "                        yield f\"{name}: {prop_string_info_string(name_props)}\"\n",
    "            t = '\\n\\t'.join(_gen())\n",
    "            if t:\n",
    "                yield collection, '\\n\\t' + t\n",
    "    # return gen()\n",
    "    return '\\n\\n'.join(f\"{k}: {v}\" for k, v in gen())\n",
    "\n",
    "# dict(extract_fields_from_values(collection_props.output_properties['issues'], ['description', 'example']))\n",
    "collections_and_params_info = output_props_extraction()\n",
    "import pyperclip\n",
    "pyperclip.copy(collections_and_params_info)\n"
   ]
  },
  {
   "cell_type": "code",
   "execution_count": 332,
   "metadata": {},
   "outputs": [
    {
     "data": {
      "text/html": [
       "<div>\n",
       "<style scoped>\n",
       "    .dataframe tbody tr th:only-of-type {\n",
       "        vertical-align: middle;\n",
       "    }\n",
       "\n",
       "    .dataframe tbody tr th {\n",
       "        vertical-align: top;\n",
       "    }\n",
       "\n",
       "    .dataframe thead th {\n",
       "        text-align: right;\n",
       "    }\n",
       "</style>\n",
       "<table border=\"1\" class=\"dataframe\">\n",
       "  <thead>\n",
       "    <tr style=\"text-align: right;\">\n",
       "      <th></th>\n",
       "      <th>collection_name</th>\n",
       "      <th>your_best_choice_param_name_for_a_unique_id</th>\n",
       "    </tr>\n",
       "  </thead>\n",
       "  <tbody>\n",
       "    <tr>\n",
       "      <th>0</th>\n",
       "      <td>assignees</td>\n",
       "      <td>id</td>\n",
       "    </tr>\n",
       "    <tr>\n",
       "      <th>1</th>\n",
       "      <td>autolinks</td>\n",
       "      <td>id</td>\n",
       "    </tr>\n",
       "    <tr>\n",
       "      <th>2</th>\n",
       "      <td>branches</td>\n",
       "      <td>name</td>\n",
       "    </tr>\n",
       "    <tr>\n",
       "      <th>3</th>\n",
       "      <td>collaborators</td>\n",
       "      <td>id</td>\n",
       "    </tr>\n",
       "    <tr>\n",
       "      <th>4</th>\n",
       "      <td>comments</td>\n",
       "      <td>user</td>\n",
       "    </tr>\n",
       "    <tr>\n",
       "      <th>5</th>\n",
       "      <td>commits</td>\n",
       "      <td>sha</td>\n",
       "    </tr>\n",
       "    <tr>\n",
       "      <th>6</th>\n",
       "      <td>deployments</td>\n",
       "      <td>id</td>\n",
       "    </tr>\n",
       "    <tr>\n",
       "      <th>7</th>\n",
       "      <td>downloads</td>\n",
       "      <td>temp_download_token</td>\n",
       "    </tr>\n",
       "    <tr>\n",
       "      <th>8</th>\n",
       "      <td>environments</td>\n",
       "      <td>url</td>\n",
       "    </tr>\n",
       "    <tr>\n",
       "      <th>9</th>\n",
       "      <td>events</td>\n",
       "      <td>actor</td>\n",
       "    </tr>\n",
       "    <tr>\n",
       "      <th>10</th>\n",
       "      <td>forks</td>\n",
       "      <td>id</td>\n",
       "    </tr>\n",
       "    <tr>\n",
       "      <th>11</th>\n",
       "      <td>hooks</td>\n",
       "      <td>id</td>\n",
       "    </tr>\n",
       "    <tr>\n",
       "      <th>12</th>\n",
       "      <td>issues</td>\n",
       "      <td>number</td>\n",
       "    </tr>\n",
       "    <tr>\n",
       "      <th>13</th>\n",
       "      <td>issues_comments</td>\n",
       "      <td>id</td>\n",
       "    </tr>\n",
       "    <tr>\n",
       "      <th>14</th>\n",
       "      <td>issues_events</td>\n",
       "      <td>id</td>\n",
       "    </tr>\n",
       "    <tr>\n",
       "      <th>15</th>\n",
       "      <td>labels</td>\n",
       "      <td>id</td>\n",
       "    </tr>\n",
       "    <tr>\n",
       "      <th>16</th>\n",
       "      <td>milestones</td>\n",
       "      <td>id</td>\n",
       "    </tr>\n",
       "    <tr>\n",
       "      <th>17</th>\n",
       "      <td>network_events</td>\n",
       "      <td>id</td>\n",
       "    </tr>\n",
       "    <tr>\n",
       "      <th>18</th>\n",
       "      <td>notifications</td>\n",
       "      <td>repository</td>\n",
       "    </tr>\n",
       "    <tr>\n",
       "      <th>19</th>\n",
       "      <td>pending_invitations</td>\n",
       "      <td>url</td>\n",
       "    </tr>\n",
       "    <tr>\n",
       "      <th>20</th>\n",
       "      <td>projects</td>\n",
       "      <td>id</td>\n",
       "    </tr>\n",
       "    <tr>\n",
       "      <th>21</th>\n",
       "      <td>pulls</td>\n",
       "      <td>id</td>\n",
       "    </tr>\n",
       "    <tr>\n",
       "      <th>22</th>\n",
       "      <td>pulls_comments</td>\n",
       "      <td>id</td>\n",
       "    </tr>\n",
       "    <tr>\n",
       "      <th>23</th>\n",
       "      <td>pulls_review_comments</td>\n",
       "      <td>id</td>\n",
       "    </tr>\n",
       "    <tr>\n",
       "      <th>24</th>\n",
       "      <td>releases</td>\n",
       "      <td>tag_name</td>\n",
       "    </tr>\n",
       "    <tr>\n",
       "      <th>25</th>\n",
       "      <td>repository_advisories</td>\n",
       "      <td>id</td>\n",
       "    </tr>\n",
       "    <tr>\n",
       "      <th>26</th>\n",
       "      <td>secrets</td>\n",
       "      <td>name</td>\n",
       "    </tr>\n",
       "    <tr>\n",
       "      <th>27</th>\n",
       "      <td>self_hosted_runners</td>\n",
       "      <td>id</td>\n",
       "    </tr>\n",
       "    <tr>\n",
       "      <th>28</th>\n",
       "      <td>stargazers</td>\n",
       "      <td>user</td>\n",
       "    </tr>\n",
       "    <tr>\n",
       "      <th>29</th>\n",
       "      <td>stargazers_with_dates</td>\n",
       "      <td>user</td>\n",
       "    </tr>\n",
       "    <tr>\n",
       "      <th>30</th>\n",
       "      <td>stats_contributors</td>\n",
       "      <td>author</td>\n",
       "    </tr>\n",
       "    <tr>\n",
       "      <th>31</th>\n",
       "      <td>subscribers</td>\n",
       "      <td>id</td>\n",
       "    </tr>\n",
       "    <tr>\n",
       "      <th>32</th>\n",
       "      <td>tags</td>\n",
       "      <td>name</td>\n",
       "    </tr>\n",
       "    <tr>\n",
       "      <th>33</th>\n",
       "      <td>teams</td>\n",
       "      <td>html_url</td>\n",
       "    </tr>\n",
       "    <tr>\n",
       "      <th>34</th>\n",
       "      <td>top_paths</td>\n",
       "      <td>html_url</td>\n",
       "    </tr>\n",
       "    <tr>\n",
       "      <th>35</th>\n",
       "      <td>top_referrers</td>\n",
       "      <td>url</td>\n",
       "    </tr>\n",
       "    <tr>\n",
       "      <th>36</th>\n",
       "      <td>topics</td>\n",
       "      <td>name</td>\n",
       "    </tr>\n",
       "    <tr>\n",
       "      <th>37</th>\n",
       "      <td>variables</td>\n",
       "      <td>id</td>\n",
       "    </tr>\n",
       "    <tr>\n",
       "      <th>38</th>\n",
       "      <td>artifacts</td>\n",
       "      <td>id</td>\n",
       "    </tr>\n",
       "    <tr>\n",
       "      <th>39</th>\n",
       "      <td>codescan_alerts</td>\n",
       "      <td>id</td>\n",
       "    </tr>\n",
       "    <tr>\n",
       "      <th>40</th>\n",
       "      <td>watchers</td>\n",
       "      <td>user</td>\n",
       "    </tr>\n",
       "    <tr>\n",
       "      <th>41</th>\n",
       "      <td>workflow_runs</td>\n",
       "      <td>id</td>\n",
       "    </tr>\n",
       "    <tr>\n",
       "      <th>42</th>\n",
       "      <td>workflows</td>\n",
       "      <td>id</td>\n",
       "    </tr>\n",
       "    <tr>\n",
       "      <th>43</th>\n",
       "      <td>contributors</td>\n",
       "      <td>login</td>\n",
       "    </tr>\n",
       "    <tr>\n",
       "      <th>44</th>\n",
       "      <td>languages</td>\n",
       "      <td>name</td>\n",
       "    </tr>\n",
       "    <tr>\n",
       "      <th>45</th>\n",
       "      <td>git_refs</td>\n",
       "      <td>ref</td>\n",
       "    </tr>\n",
       "  </tbody>\n",
       "</table>\n",
       "</div>"
      ],
      "text/plain": [
       "          collection_name  your_best_choice_param_name_for_a_unique_id\n",
       "0               assignees                                           id\n",
       "1               autolinks                                           id\n",
       "2                branches                                         name\n",
       "3           collaborators                                           id\n",
       "4                comments                                         user\n",
       "5                 commits                                          sha\n",
       "6             deployments                                           id\n",
       "7               downloads                          temp_download_token\n",
       "8            environments                                          url\n",
       "9                  events                                        actor\n",
       "10                  forks                                           id\n",
       "11                  hooks                                           id\n",
       "12                 issues                                       number\n",
       "13        issues_comments                                           id\n",
       "14          issues_events                                           id\n",
       "15                 labels                                           id\n",
       "16             milestones                                           id\n",
       "17         network_events                                           id\n",
       "18          notifications                                   repository\n",
       "19    pending_invitations                                          url\n",
       "20               projects                                           id\n",
       "21                  pulls                                           id\n",
       "22         pulls_comments                                           id\n",
       "23  pulls_review_comments                                           id\n",
       "24               releases                                     tag_name\n",
       "25  repository_advisories                                           id\n",
       "26                secrets                                         name\n",
       "27    self_hosted_runners                                           id\n",
       "28             stargazers                                         user\n",
       "29  stargazers_with_dates                                         user\n",
       "30     stats_contributors                                       author\n",
       "31            subscribers                                           id\n",
       "32                   tags                                         name\n",
       "33                  teams                                     html_url\n",
       "34              top_paths                                     html_url\n",
       "35          top_referrers                                          url\n",
       "36                 topics                                         name\n",
       "37              variables                                           id\n",
       "38              artifacts                                           id\n",
       "39        codescan_alerts                                           id\n",
       "40               watchers                                         user\n",
       "41          workflow_runs                                           id\n",
       "42              workflows                                           id\n",
       "43           contributors                                        login\n",
       "44              languages                                         name\n",
       "45               git_refs                                          ref"
      ]
     },
     "execution_count": 332,
     "metadata": {},
     "output_type": "execute_result"
    }
   ],
   "source": [
    "prompt = \"\"\"The text above has the format:\n",
    "\n",
    "COLLECTION_NAME:\n",
    "    PARAM_NAME: PARAM_INFO\n",
    "    PARAM_NAME: PARAM_INFO\n",
    "    ...\n",
    "\n",
    "For each collection, I need to find a param_name that can be used as a unique id for a set of items of the collection. Please give me a csv of the following format:\n",
    "\n",
    "collection_name, your_best_choice_param_name_for_a_unique_id\n",
    "\"\"\"\n",
    "\n",
    "# Note: I needed two more requests after that prompt.\n",
    "# One where I told chatGPT that it missed some collections, told it which, and asked for a new table.\n",
    "# A second where I disagreed with some matches, told it which, asked it to figure out \"step by step\" why that was, \n",
    "# and then make a new table.\n",
    "# The result is below\n",
    "\n",
    "response = \"\"\"collection_name, your_best_choice_param_name_for_a_unique_id\n",
    "assignees, id\n",
    "autolinks, id\n",
    "branches, name\n",
    "collaborators, id\n",
    "comments, user\n",
    "commits, sha\n",
    "deployments, id\n",
    "downloads, temp_download_token\n",
    "environments, url\n",
    "events, actor\n",
    "forks, id\n",
    "hooks, id\n",
    "issues, number\n",
    "issues_comments, id\n",
    "issues_events, id\n",
    "labels, id\n",
    "milestones, id\n",
    "network_events, id\n",
    "notifications, repository\n",
    "pending_invitations, url\n",
    "projects, id\n",
    "pulls, id\n",
    "pulls_comments, id\n",
    "pulls_review_comments, id\n",
    "releases, tag_name\n",
    "repository_advisories, id\n",
    "secrets, name\n",
    "self_hosted_runners, id\n",
    "stargazers, user\n",
    "stargazers_with_dates, user\n",
    "stats_contributors, author\n",
    "subscribers, id\n",
    "tags, name\n",
    "teams, html_url\n",
    "top_paths, html_url\n",
    "top_referrers, url\n",
    "topics, name\n",
    "variables, id\n",
    "artifacts, id\n",
    "codescan_alerts, id\n",
    "watchers, user\n",
    "workflow_runs, id\n",
    "workflows, id\n",
    "contributors, login\n",
    "languages, name\n",
    "git_refs, ref\n",
    "\"\"\"\n",
    "\n",
    "import pandas as pd \n",
    "import io\n",
    "response_df = pd.read_csv(io.StringIO(response))\n",
    "response_df"
   ]
  },
  {
   "cell_type": "code",
   "execution_count": 333,
   "metadata": {},
   "outputs": [
    {
     "name": "stdout",
     "output_type": "stream",
     "text": [
      "set(response_df['collection_name']) - set(repo_collection_names)=set()\n",
      "set(repo_collection_names) - set(response_df['collection_name'])=set()\n"
     ]
    }
   ],
   "source": [
    "print(f\"{set(response_df['collection_name']) - set(repo_collection_names)=}\")\n",
    "print(f\"{set(repo_collection_names) - set(response_df['collection_name'])=}\")"
   ]
  },
  {
   "cell_type": "code",
   "execution_count": 375,
   "metadata": {},
   "outputs": [
    {
     "name": "stderr",
     "output_type": "stream",
     "text": [
      "/var/folders/s0/6rhqzsnx0lxbjs8r5rhld9km0000gn/T/ipykernel_64120/1532311661.py:11: FutureWarning: DataFrame.applymap has been deprecated. Use DataFrame.map instead.\n",
      "  response_df = response_df.applymap(str.strip)\n"
     ]
    }
   ],
   "source": [
    "import pandas as pd\n",
    "import json\n",
    "# repo_collections_key_props.json\n",
    "def csv_to_json_string(response):\n",
    "    import io\n",
    "    # Read the CSV data from the response\n",
    "    response_df = pd.read_csv(io.StringIO(response))\n",
    "\n",
    "    response_df = pd.read_csv(io.StringIO(response))\n",
    "    # apply str.strip to all cells of df\n",
    "    response_df = response_df.applymap(str.strip)\n",
    "    # apply str.strip to all column names\n",
    "    response_df = response_df.rename(columns=str.strip)\n",
    "\n",
    "    collection_and_id = zip(\n",
    "        response_df['collection_name'], response_df['your_best_choice_param_name_for_a_unique_id']\n",
    "    )\n",
    "    jdict = {collection: id_name for collection, id_name in collection_and_id}\n",
    "    return json.dumps(jdict, indent=4)\n",
    "\n",
    "json_str = csv_to_json_string(response)\n",
    "\n",
    "# print(json_str)\n",
    "__import__('pyperclip').copy(json_str)\n",
    "\n"
   ]
  },
  {
   "cell_type": "code",
   "execution_count": 393,
   "metadata": {},
   "outputs": [
    {
     "data": {
      "text/plain": [
       "'/Users/thorwhalen/.config/hubcap/configs/'"
      ]
     },
     "execution_count": 393,
     "metadata": {},
     "output_type": "execute_result"
    }
   ],
   "source": [
    "from hubcap.util import configs\n",
    "list(configs)\n",
    "configs.rootdir"
   ]
  },
  {
   "cell_type": "code",
   "execution_count": 394,
   "metadata": {},
   "outputs": [],
   "source": [
    "from hubcap import RepoReader\n"
   ]
  },
  {
   "cell_type": "code",
   "execution_count": 419,
   "metadata": {},
   "outputs": [
    {
     "data": {
      "text/plain": [
       "['artifacts',\n",
       " 'assignees',\n",
       " 'autolinks',\n",
       " 'branches',\n",
       " 'codescan_alerts',\n",
       " 'collaborators',\n",
       " 'comments',\n",
       " 'commits',\n",
       " 'contributors',\n",
       " 'deployments',\n",
       " 'discussions',\n",
       " 'downloads',\n",
       " 'environments',\n",
       " 'events',\n",
       " 'forks',\n",
       " 'git_refs',\n",
       " 'hooks',\n",
       " 'issues',\n",
       " 'issues_comments',\n",
       " 'issues_events',\n",
       " 'labels',\n",
       " 'languages',\n",
       " 'milestones',\n",
       " 'network_events',\n",
       " 'notifications',\n",
       " 'pending_invitations',\n",
       " 'projects',\n",
       " 'pulls',\n",
       " 'pulls_comments',\n",
       " 'pulls_review_comments',\n",
       " 'releases',\n",
       " 'repository_advisories',\n",
       " 'secrets',\n",
       " 'self_hosted_runners',\n",
       " 'stargazers',\n",
       " 'stargazers_with_dates',\n",
       " 'stats_contributors',\n",
       " 'subscribers',\n",
       " 'tags',\n",
       " 'teams',\n",
       " 'top_paths',\n",
       " 'top_referrers',\n",
       " 'topics',\n",
       " 'variables',\n",
       " 'watchers',\n",
       " 'workflow_runs',\n",
       " 'workflows']"
      ]
     },
     "execution_count": 419,
     "metadata": {},
     "output_type": "execute_result"
    }
   ],
   "source": [
    "from hubcap import RepoReader\n",
    "\n",
    "# r = RepoReader('thorwhalen/test_repo')\n",
    "sorted(r)\n",
    "\n"
   ]
  },
  {
   "cell_type": "code",
   "execution_count": 422,
   "metadata": {},
   "outputs": [
    {
     "data": {
      "text/plain": [
       "['ItemsView',\n",
       " 'KeysView',\n",
       " 'ValuesView',\n",
       " '__abstractmethods__',\n",
       " '__annotations__',\n",
       " '__class__',\n",
       " '__class_getitem__',\n",
       " '__contains__',\n",
       " '__delattr__',\n",
       " '__dict__',\n",
       " '__dir__',\n",
       " '__doc__',\n",
       " '__eq__',\n",
       " '__format__',\n",
       " '__ge__',\n",
       " '__getattribute__',\n",
       " '__getitem__',\n",
       " '__gt__',\n",
       " '__hash__',\n",
       " '__init__',\n",
       " '__init_subclass__',\n",
       " '__iter__',\n",
       " '__le__',\n",
       " '__len__',\n",
       " '__lt__',\n",
       " '__module__',\n",
       " '__ne__',\n",
       " '__new__',\n",
       " '__reduce__',\n",
       " '__reduce_ex__',\n",
       " '__repr__',\n",
       " '__reversed__',\n",
       " '__setattr__',\n",
       " '__sizeof__',\n",
       " '__slots__',\n",
       " '__str__',\n",
       " '__subclasshook__',\n",
       " '__weakref__',\n",
       " '_abc_impl',\n",
       " '_objs',\n",
       " 'data_of_obj',\n",
       " 'get',\n",
       " 'get_objs',\n",
       " 'get_objs_kwargs',\n",
       " 'head',\n",
       " 'items',\n",
       " 'keys',\n",
       " 'objs_to_items',\n",
       " 'repo',\n",
       " 'values']"
      ]
     },
     "execution_count": 422,
     "metadata": {},
     "output_type": "execute_result"
    }
   ],
   "source": [
    "b = r['branches']\n",
    "# dir(b)"
   ]
  },
  {
   "cell_type": "code",
   "execution_count": 426,
   "metadata": {},
   "outputs": [],
   "source": [
    "# # t = b.get_objs()\n",
    "# list(b)"
   ]
  },
  {
   "cell_type": "code",
   "execution_count": 378,
   "metadata": {},
   "outputs": [
    {
     "data": {
      "text/plain": [
       "'{\\n    \"assignees\": \"id\",\\n    \"autolinks\": \"id\",\\n    \"branches\": \"name\",\\n    \"collaborators\": \"id\",\\n    \"comments\": \"user\",\\n    \"commits\": \"sha\",\\n    \"deployments\": \"id\",\\n    \"downloads\": \"temp_download_token\",\\n    \"environments\": \"url\",\\n    \"events\": \"actor\",\\n    \"forks\": \"id\",\\n    \"hooks\": \"id\",\\n    \"issues\": \"number\",\\n    \"issues_comments\": \"id\",\\n    \"issues_events\": \"id\",\\n    \"labels\": \"id\",\\n    \"milestones\": \"id\",\\n    \"network_events\": \"id\",\\n    \"notifications\": \"repository\",\\n    \"pending_invitations\": \"url\",\\n    \"projects\": \"id\",\\n    \"pulls\": \"id\",\\n    \"pulls_comments\": \"id\",\\n    \"pulls_review_comments\": \"id\",\\n    \"releases\": \"tag_name\",\\n    \"repository_advisories\": \"id\",\\n    \"secrets\": \"name\",\\n    \"self_hosted_runners\": \"id\",\\n    \"stargazers\": \"user\",\\n    \"stargazers_with_dates\": \"user\",\\n    \"stats_contributors\": \"author\",\\n    \"subscribers\": \"id\",\\n    \"tags\": \"name\",\\n    \"teams\": \"html_url\",\\n    \"top_paths\": \"html_url\",\\n    \"top_referrers\": \"url\",\\n    \"topics\": \"name\",\\n    \"variables\": \"id\",\\n    \"artifacts\": \"id\",\\n    \"codescan_alerts\": \"id\",\\n    \"watchers\": \"user\",\\n    \"workflow_runs\": \"id\",\\n    \"workflows\": \"id\",\\n    \"contributors\": \"login\",\\n    \"languages\": \"name\",\\n    \"git_refs\": \"ref\"\\n}'"
      ]
     },
     "execution_count": 378,
     "metadata": {},
     "output_type": "execute_result"
    }
   ],
   "source": [
    "from hubcap.util import data_files\n",
    "\n",
    "data_files.joinpath('dflt_repo_collections_key_props.json').read_text()"
   ]
  },
  {
   "cell_type": "code",
   "execution_count": 371,
   "metadata": {},
   "outputs": [
    {
     "data": {
      "text/plain": [
       "''"
      ]
     },
     "execution_count": 371,
     "metadata": {},
     "output_type": "execute_result"
    }
   ],
   "source": [
    "from hubcap.util import get_config\n",
    "\n",
    "get_config('adsf')"
   ]
  },
  {
   "cell_type": "code",
   "execution_count": 363,
   "metadata": {},
   "outputs": [
    {
     "data": {
      "text/plain": [
       "TextFiles(rootdir='/Users/thorwhalen/.config/hubcap/configs', subpath='', pattern_for_field=None, max_levels=None, include_hidden=False, assert_rootdir_existence=False)"
      ]
     },
     "execution_count": 363,
     "metadata": {},
     "output_type": "execute_result"
    }
   ],
   "source": [
    "dir(get_config)\n",
    "get_config.configs"
   ]
  },
  {
   "cell_type": "code",
   "execution_count": null,
   "metadata": {},
   "outputs": [],
   "source": []
  },
  {
   "cell_type": "code",
   "execution_count": null,
   "metadata": {},
   "outputs": [],
   "source": []
  },
  {
   "cell_type": "code",
   "execution_count": 24,
   "metadata": {},
   "outputs": [
    {
     "data": {
      "text/plain": [
       "<Signature (type: str, limit: int = 10) -> None>"
      ]
     },
     "execution_count": 24,
     "metadata": {},
     "output_type": "execute_result"
    }
   ],
   "source": [
    "from pydantic import BaseModel, create_model\n",
    "from i2 import Sig, sort_params\n",
    "from inspect import Parameter, Signature\n",
    "from typing import List, Type, Dict, Any, Optional\n",
    "\n",
    "# Default mapping from JSON types to Pydantic fields\n",
    "default_type_mapping = {\n",
    "    'array': (List[Any], ...),\n",
    "    'integer': (int, ...),\n",
    "    'object': (Dict[Any, Any], ...),\n",
    "    'string': (str, ...),\n",
    "    'boolean': (bool, ...),\n",
    "    'number': (float, ...),\n",
    "}\n",
    "\n",
    "def json_to_pydantic_model(params: List[Dict[str, Any]], type_mapping: Dict[str, Type] = default_type_mapping) -> Type[BaseModel]:\n",
    "    fields = {}\n",
    "    for param in params:\n",
    "        field_info = type_mapping[param['schema']['type']]\n",
    "        # Set the default value if it's not required and a default is provided\n",
    "        if not param.get('required', False) and 'default' in param['schema']:\n",
    "            field_info = (field_info[0], param['schema']['default'])\n",
    "        fields[param['name']] = field_info\n",
    "    return create_model('DynamicModel', **fields)\n",
    "\n",
    "def pydantic_model_to_sig(model: Type[BaseModel], return_annotation: Any = None) -> Signature:\n",
    "    parameters = [\n",
    "        Parameter(\n",
    "            name=field.alias,\n",
    "            kind=Parameter.POSITIONAL_OR_KEYWORD,\n",
    "            default=field.default if not field.required else Parameter.empty,\n",
    "            annotation=field.outer_type_ if field.outer_type_ != Any else field.type_,\n",
    "        )\n",
    "        for field in model.__fields__.values()\n",
    "    ]\n",
    "    sorted_parameters = sort_params(parameters)  # Assuming this sorts parameters suitably for your use-case\n",
    "    return Signature(parameters=sorted_parameters, return_annotation=return_annotation)\n",
    "\n",
    "# Example usage\n",
    "params = [\n",
    "    {\n",
    "        'name': 'type',\n",
    "        'schema': {'type': 'string'},\n",
    "        'required': True,\n",
    "        'description': 'Type of items to list',\n",
    "    },\n",
    "    {\n",
    "        'name': 'limit',\n",
    "        'schema': {'type': 'integer', 'default': 10},\n",
    "        'required': False,\n",
    "        'description': 'Maximum number of items to return',\n",
    "    },\n",
    "]\n",
    "\n",
    "# Create a Pydantic model from the JSON schema parameters\n",
    "DynamicModel = json_to_pydantic_model(params)\n",
    "\n",
    "# Convert the Pydantic model to an inspect.Signature\n",
    "sig = pydantic_model_to_sig(DynamicModel)\n",
    "\n",
    "sig\n"
   ]
  },
  {
   "cell_type": "code",
   "execution_count": null,
   "metadata": {},
   "outputs": [],
   "source": []
  },
  {
   "cell_type": "code",
   "execution_count": 8,
   "metadata": {},
   "outputs": [],
   "source": [
    "from http2py.tests.util_test import _openapi_spec\n",
    "from http2py.util import Routes\n",
    "\n",
    "openapi_spec = _openapi_spec()\n",
    "\n",
    "routes = Routes(openapi_spec)\n",
    "get_route = routes['get', '/items']\n",
    "\n",
    "assert get_route.parameters == [{'in': 'query',\n",
    "  'name': 'type',\n",
    "  'schema': {'type': 'string'},\n",
    "  'required': True,\n",
    "  'description': 'Type of items to list'},\n",
    " {'in': 'query',\n",
    "  'name': 'limit',\n",
    "  'schema': {'type': 'integer', 'default': 10},\n",
    "  'required': False,\n",
    "  'description': 'Maximum number of items to return'}]\n",
    "\n",
    "post_route = routes['post', '/items']\n",
    "assert post_route.parameters == [\n",
    "    {'in': 'body', 'name': 'name', 'schema': {'type': 'string'}},\n",
    "   {'in': 'body', 'name': 'age', 'schema': {'type': 'integer', 'default': 42}}]"
   ]
  },
  {
   "cell_type": "code",
   "execution_count": 30,
   "metadata": {},
   "outputs": [
    {
     "name": "stdout",
     "output_type": "stream",
     "text": [
      "artifacts: []\n",
      "assignees: ['CHECK_AFTER_INIT_FLAG', 'avatar_url', 'bio', 'blog', 'collaborators', 'company', 'contributions', 'created_at', 'disk_usage', 'email', 'etag', 'events_url', 'followers', 'followers_url', 'following', 'following_url', 'get__repr__', 'get_events', 'get_followers', 'get_following', 'get_gists', 'get_keys', 'get_organization_membership', 'get_orgs', 'get_projects', 'get_public_events', 'get_public_received_events', 'get_received_events', 'get_repo', 'get_repos', 'get_starred', 'get_subscriptions', 'get_watched', 'gists_url', 'gravatar_id', 'has_in_following', 'hireable', 'html_url', 'id', 'invitation_teams_url', 'inviter', 'last_modified', 'location', 'login', 'name', 'node_id', 'organizations_url', 'owned_private_repos', 'permissions', 'plan', 'private_gists', 'public_gists', 'public_repos', 'raw_data', 'raw_headers', 'received_events_url', 'repos_url', 'role', 'setCheckAfterInitFlag', 'site_admin', 'starred_url', 'subscriptions_url', 'suspended_at', 'team_count', 'total_private_repos', 'twitter_username', 'type', 'update', 'updated_at', 'url']\n",
      "autolinks: ERROR: 404 {\"message\": \"Not Found\", \"documentation_url\": \"https://docs.github.com/rest/repos/autolinks#list-all-autolinks-of-a-repository\"}\n",
      "branches: ['CHECK_AFTER_INIT_FLAG', 'add_required_signatures', 'add_team_push_restrictions', 'add_user_push_restrictions', 'commit', 'edit_protection', 'edit_required_pull_request_reviews', 'edit_required_status_checks', 'etag', 'get__repr__', 'get_admin_enforcement', 'get_protection', 'get_required_pull_request_reviews', 'get_required_signatures', 'get_required_status_checks', 'get_team_push_restrictions', 'get_user_push_restrictions', 'last_modified', 'name', 'protected', 'protection_url', 'raw_data', 'raw_headers', 'remove_admin_enforcement', 'remove_protection', 'remove_push_restrictions', 'remove_required_pull_request_reviews', 'remove_required_signatures', 'remove_required_status_checks', 'remove_team_push_restrictions', 'remove_user_push_restrictions', 'replace_team_push_restrictions', 'replace_user_push_restrictions', 'setCheckAfterInitFlag', 'set_admin_enforcement']\n"
     ]
    },
    {
     "name": "stderr",
     "output_type": "stream",
     "text": [
      "Request GET /repos/thorwhalen/hubcap/code-scanning/alerts failed with 403: Forbidden\n"
     ]
    },
    {
     "name": "stdout",
     "output_type": "stream",
     "text": [
      "codescan_alerts: ERROR: 403 {\"message\": \"You are not authorized to read code scanning alerts.\", \"documentation_url\": \"https://docs.github.com/rest/code-scanning/code-scanning#list-code-scanning-alerts-for-a-repository\"}\n",
      "collaborators: ERROR: 401 {\"message\": \"Requires authentication\", \"documentation_url\": \"https://docs.github.com/rest/collaborators/collaborators#list-repository-collaborators\"}\n",
      "comments: []\n",
      "commits: ['CHECK_AFTER_INIT_FLAG', 'author', 'comments_url', 'commit', 'committer', 'create_comment', 'create_status', 'etag', 'files', 'get__repr__', 'get_check_runs', 'get_check_suites', 'get_combined_status', 'get_comments', 'get_pulls', 'get_statuses', 'html_url', 'last_modified', 'parents', 'raw_data', 'raw_headers', 'setCheckAfterInitFlag', 'sha', 'stats', 'update', 'url']\n",
      "contributors: ['CHECK_AFTER_INIT_FLAG', 'avatar_url', 'bio', 'blog', 'collaborators', 'company', 'contributions', 'created_at', 'disk_usage', 'email', 'etag', 'events_url', 'followers', 'followers_url', 'following', 'following_url', 'get__repr__', 'get_events', 'get_followers', 'get_following', 'get_gists', 'get_keys', 'get_organization_membership', 'get_orgs', 'get_projects', 'get_public_events', 'get_public_received_events', 'get_received_events', 'get_repo', 'get_repos', 'get_starred', 'get_subscriptions', 'get_watched', 'gists_url', 'gravatar_id', 'has_in_following', 'hireable', 'html_url', 'id', 'invitation_teams_url', 'inviter', 'last_modified', 'location', 'login', 'name', 'node_id', 'organizations_url', 'owned_private_repos', 'permissions', 'plan', 'private_gists', 'public_gists', 'public_repos', 'raw_data', 'raw_headers', 'received_events_url', 'repos_url', 'role', 'setCheckAfterInitFlag', 'site_admin', 'starred_url', 'subscriptions_url', 'suspended_at', 'team_count', 'total_private_repos', 'twitter_username', 'type', 'update', 'updated_at', 'url']\n",
      "deployments: ['CHECK_AFTER_INIT_FLAG', 'create_status', 'created_at', 'creator', 'description', 'environment', 'etag', 'get__repr__', 'get_status', 'get_statuses', 'id', 'last_modified', 'original_environment', 'payload', 'production_environment', 'raw_data', 'raw_headers', 'ref', 'repository_url', 'setCheckAfterInitFlag', 'sha', 'statuses_url', 'task', 'transient_environment', 'update', 'updated_at', 'url']\n",
      "downloads: ERROR: 404 {\"message\": \"Not Found\", \"documentation_url\": \"https://docs.github.com/rest\"}\n",
      "environments: ['CHECK_AFTER_INIT_FLAG', 'created_at', 'deployment_branch_policy', 'etag', 'get__repr__', 'html_url', 'id', 'last_modified', 'name', 'node_id', 'protection_rules', 'raw_data', 'raw_headers', 'setCheckAfterInitFlag', 'update', 'updated_at', 'url']\n",
      "events: ['CHECK_AFTER_INIT_FLAG', 'actor', 'created_at', 'etag', 'get__repr__', 'id', 'last_modified', 'org', 'payload', 'public', 'raw_data', 'raw_headers', 'repo', 'setCheckAfterInitFlag', 'type']\n",
      "forks: []\n",
      "git_refs: ['CHECK_AFTER_INIT_FLAG', 'delete', 'edit', 'etag', 'get__repr__', 'last_modified', 'object', 'raw_data', 'raw_headers', 'ref', 'setCheckAfterInitFlag', 'update', 'url']\n",
      "hooks: ERROR: 404 {\"message\": \"Not Found\", \"documentation_url\": \"https://docs.github.com/rest/repos/webhooks#list-repository-webhooks\"}\n",
      "issues: ['CHECK_AFTER_INIT_FLAG', 'active_lock_reason', 'add_to_assignees', 'add_to_labels', 'as_pull_request', 'assignee', 'assignees', 'body', 'closed_at', 'closed_by', 'comments', 'comments_url', 'create_comment', 'create_reaction', 'created_at', 'delete_labels', 'delete_reaction', 'edit', 'etag', 'events_url', 'get__repr__', 'get_comment', 'get_comments', 'get_events', 'get_labels', 'get_reactions', 'get_timeline', 'html_url', 'id', 'labels', 'labels_url', 'last_modified', 'lock', 'locked', 'milestone', 'number', 'pull_request', 'raw_data', 'raw_headers', 'remove_from_assignees', 'remove_from_labels', 'repository', 'setCheckAfterInitFlag', 'set_labels', 'state', 'state_reason', 'title', 'unlock', 'update', 'updated_at', 'url', 'user']\n",
      "issues_comments: ['CHECK_AFTER_INIT_FLAG', 'body', 'create_reaction', 'created_at', 'delete', 'delete_reaction', 'edit', 'etag', 'get__repr__', 'get_reactions', 'html_url', 'id', 'issue_url', 'last_modified', 'raw_data', 'raw_headers', 'setCheckAfterInitFlag', 'update', 'updated_at', 'url', 'user']\n",
      "issues_events: ['CHECK_AFTER_INIT_FLAG', 'actor', 'assignee', 'assigner', 'commit_id', 'commit_url', 'created_at', 'dismissed_review', 'etag', 'event', 'get__repr__', 'id', 'issue', 'label', 'last_modified', 'lock_reason', 'milestone', 'node_id', 'raw_data', 'raw_headers', 'rename', 'requested_reviewer', 'review_requester', 'setCheckAfterInitFlag', 'update', 'url']\n",
      "labels: ['CHECK_AFTER_INIT_FLAG', 'color', 'delete', 'description', 'edit', 'etag', 'get__repr__', 'last_modified', 'name', 'raw_data', 'raw_headers', 'setCheckAfterInitFlag', 'update', 'url']\n",
      "languages: ['capitalize', 'casefold', 'center', 'count', 'encode', 'endswith', 'expandtabs', 'find', 'format', 'format_map', 'index', 'isalnum', 'isalpha', 'isascii', 'isdecimal', 'isdigit', 'isidentifier', 'islower', 'isnumeric', 'isprintable', 'isspace', 'istitle', 'isupper', 'join', 'ljust', 'lower', 'lstrip', 'maketrans', 'partition', 'removeprefix', 'removesuffix', 'replace', 'rfind', 'rindex', 'rjust', 'rpartition', 'rsplit', 'rstrip', 'split', 'splitlines', 'startswith', 'strip', 'swapcase', 'title', 'translate', 'upper', 'zfill']\n",
      "milestones: []\n"
     ]
    },
    {
     "name": "stderr",
     "output_type": "stream",
     "text": [
      "Request GET /networks/thorwhalen/hubcap/events failed with 403: rate limit exceeded\n",
      "Setting next backoff to 2746.164692s\n"
     ]
    }
   ],
   "source": [
    "from hubcap import RepoReader\n",
    "from hubcap.constants import repo_collection_names\n",
    "\n",
    "r = RepoReader('thorwhalen/hubcap').repo\n",
    "for x in repo_collection_names:\n",
    "    t = getattr(r, f\"get_{x}\")()\n",
    "    if t:\n",
    "        try:\n",
    "            t = next(iter(t), None)\n",
    "            if isinstance(t, dict):\n",
    "                print(f\"{x}: {list(t.keys())}\")\n",
    "            else:\n",
    "                print(f\"{x}: {[x for x in dir(t) if not x.startswith('_')]}\")\n",
    "        except Exception as e:\n",
    "            print(f\"{x}: ERROR: {e}\")"
   ]
  },
  {
   "cell_type": "code",
   "execution_count": 6,
   "metadata": {},
   "outputs": [
    {
     "name": "stdout",
     "output_type": "stream",
     "text": [
      "artifacts assignees autolinks branches codescan_alerts collaborators comments commits contributors deployments downloads events forks git_refs hooks issues issues_comments issues_events labels languages milestones network_events notifications pending_invitations projects pulls pulls_comments pulls_review_comments releases self_hosted_runners stargazers stargazers_with_dates stats_contributors subscribers tags teams top_paths top_referrers topics watchers workflow_runs workflows\n"
     ]
    }
   ],
   "source": [
    "r = RepoReader('thorwhalen/hubcap')\n",
    "print(*r)\n"
   ]
  },
  {
   "cell_type": "code",
   "execution_count": 115,
   "metadata": {},
   "outputs": [
    {
     "data": {
      "text/plain": [
       "['master']"
      ]
     },
     "execution_count": 115,
     "metadata": {},
     "output_type": "execute_result"
    }
   ],
   "source": [
    "from hubcap.tools import Hubcap\n",
    "\n",
    "s = Hubcap('thorwhalen/hubcap')\n",
    "list(s)\n",
    "\n"
   ]
  },
  {
   "cell_type": "code",
   "execution_count": 109,
   "metadata": {},
   "outputs": [
    {
     "data": {
      "text/plain": [
       "[3]"
      ]
     },
     "execution_count": 109,
     "metadata": {},
     "output_type": "execute_result"
    }
   ],
   "source": [
    "dflt_repo_kwargs = dict(\n",
    "    issues=dict(objs_to_items='number', get_objs_kwargs=(('state', 'open'),)),\n",
    "    workflows=dict(objs_to_items='id'),\n",
    ")\n",
    "\n",
    "def repo_objects_instance(repo, object_name: str):\n",
    "    return RepoObjects(\n",
    "        repo, \n",
    "        get_objs=getattr(Repository, f'get_{object_name}'), \n",
    "        **dflt_repo_kwargs.get(object_name, {})\n",
    "    )\n",
    "\n",
    "issues = repo_objects_instance(r, 'issues')\n",
    "list(issues)"
   ]
  },
  {
   "cell_type": "code",
   "execution_count": 110,
   "metadata": {},
   "outputs": [
    {
     "data": {
      "text/plain": [
       "Issue(title=\"Test Issue\", number=3)"
      ]
     },
     "execution_count": 110,
     "metadata": {},
     "output_type": "execute_result"
    }
   ],
   "source": [
    "issues[3]"
   ]
  },
  {
   "cell_type": "code",
   "execution_count": 89,
   "metadata": {},
   "outputs": [
    {
     "ename": "TypeError",
     "evalue": "Repository.get_git_matching_refs() missing 1 required positional argument: 'ref'",
     "output_type": "error",
     "traceback": [
      "\u001b[0;31m---------------------------------------------------------------------------\u001b[0m",
      "\u001b[0;31mTypeError\u001b[0m                                 Traceback (most recent call last)",
      "\u001b[1;32m/Users/thorwhalen/Dropbox/py/proj/t/hubcap/misc/Hubcap Construction Site.ipynb Cell 7\u001b[0m line \u001b[0;36m1\n\u001b[0;32m----> <a href='vscode-notebook-cell:/Users/thorwhalen/Dropbox/py/proj/t/hubcap/misc/Hubcap%20Construction%20Site.ipynb#Y111sZmlsZQ%3D%3D?line=0'>1</a>\u001b[0m r\u001b[39m.\u001b[39;49mget_git_matching_refs()\n",
      "\u001b[0;31mTypeError\u001b[0m: Repository.get_git_matching_refs() missing 1 required positional argument: 'ref'"
     ]
    }
   ],
   "source": [
    "r.get_git_matching_refs()"
   ]
  },
  {
   "cell_type": "code",
   "execution_count": 88,
   "metadata": {},
   "outputs": [
    {
     "data": {
      "text/plain": [
       "{'get_artifacts': <Sig ()>,\n",
       " 'get_assignees': <Sig ()>,\n",
       " 'get_autolinks': <Sig ()>,\n",
       " 'get_branches': <Sig ()>,\n",
       " 'get_codescan_alerts': <Sig ()>,\n",
       " 'get_collaborators': <Sig (affiliation=NotSet)>,\n",
       " 'get_comments': <Sig ()>,\n",
       " 'get_commits': <Sig (sha=NotSet, path=NotSet, since=NotSet, until=NotSet, author=NotSet)>,\n",
       " 'get_contents': <Sig (path, ref=NotSet)>,\n",
       " 'get_contributors': <Sig (anon=NotSet)>,\n",
       " 'get_deployments': <Sig (sha=NotSet, ref=NotSet, task=NotSet, environment=NotSet)>,\n",
       " 'get_dir_contents': <Sig (path, ref=NotSet)>,\n",
       " 'get_downloads': <Sig ()>,\n",
       " 'get_events': <Sig ()>,\n",
       " 'get_forks': <Sig ()>,\n",
       " 'get_git_matching_refs': <Sig (ref)>,\n",
       " 'get_git_refs': <Sig ()>,\n",
       " 'get_hooks': <Sig ()>,\n",
       " 'get_issues': <Sig (milestone=NotSet, state=NotSet, assignee=NotSet, mentioned=NotSet, labels=NotSet, sort=NotSet, direction=NotSet, since=NotSet, creator=NotSet)>,\n",
       " 'get_issues_comments': <Sig (sort=NotSet, direction=NotSet, since=NotSet)>,\n",
       " 'get_issues_events': <Sig ()>,\n",
       " 'get_keys': <Sig ()>,\n",
       " 'get_labels': <Sig ()>,\n",
       " 'get_languages': <Sig ()>,\n",
       " 'get_milestones': <Sig (state=NotSet, sort=NotSet, direction=NotSet)>,\n",
       " 'get_network_events': <Sig ()>,\n",
       " 'get_notifications': <Sig (all=NotSet, participating=NotSet, since=NotSet, before=NotSet)>,\n",
       " 'get_pending_invitations': <Sig ()>,\n",
       " 'get_projects': <Sig (state=NotSet)>,\n",
       " 'get_pulls': <Sig (state=NotSet, sort=NotSet, direction=NotSet, base=NotSet, head=NotSet)>,\n",
       " 'get_pulls_comments': <Sig (sort=NotSet, direction=NotSet, since=NotSet)>,\n",
       " 'get_pulls_review_comments': <Sig (sort=NotSet, direction=NotSet, since=NotSet)>,\n",
       " 'get_releases': <Sig ()>,\n",
       " 'get_self_hosted_runners': <Sig ()>,\n",
       " 'get_stargazers': <Sig ()>,\n",
       " 'get_stargazers_with_dates': <Sig ()>,\n",
       " 'get_stats_contributors': <Sig ()>,\n",
       " 'get_subscribers': <Sig ()>,\n",
       " 'get_tags': <Sig ()>,\n",
       " 'get_teams': <Sig ()>,\n",
       " 'get_top_paths': <Sig ()>,\n",
       " 'get_top_referrers': <Sig ()>,\n",
       " 'get_topics': <Sig ()>,\n",
       " 'get_watchers': <Sig ()>,\n",
       " 'get_workflow_runs': <Sig (actor=NotSet, branch=NotSet, event=NotSet, status=NotSet)>,\n",
       " 'get_workflows': <Sig ()>}"
      ]
     },
     "execution_count": 88,
     "metadata": {},
     "output_type": "execute_result"
    }
   ],
   "source": [
    "from i2 import Sig\n",
    "\n",
    "get_funcs = {\n",
    "    k: Sig(getattr(r, k)) for k in dir(r) if k.startswith('get_') and k.endswith('s')\n",
    "}\n",
    "get_funcs"
   ]
  },
  {
   "cell_type": "code",
   "execution_count": 42,
   "metadata": {},
   "outputs": [
    {
     "data": {
      "text/plain": [
       "<bound method Repository.get_issues of Repository(full_name=\"thorwhalen/hubcap\")>"
      ]
     },
     "execution_count": 42,
     "metadata": {},
     "output_type": "execute_result"
    }
   ],
   "source": [
    "r.get_issues"
   ]
  },
  {
   "cell_type": "code",
   "execution_count": 52,
   "metadata": {},
   "outputs": [
    {
     "data": {
      "text/plain": [
       "[3]"
      ]
     },
     "execution_count": 52,
     "metadata": {},
     "output_type": "execute_result"
    }
   ],
   "source": [
    "from github.Repository import Repository\n",
    "from functools import partial\n",
    "\n",
    "mk_issues = partial(\n",
    "    GitObjects, \n",
    "    get_objs=Repository.get_issues, \n",
    "    objs_to_items='number'\n",
    ")\n",
    "\n",
    "s = mk_issues(r)\n",
    "list(s)"
   ]
  },
  {
   "cell_type": "code",
   "execution_count": 54,
   "metadata": {},
   "outputs": [
    {
     "data": {
      "text/plain": [
       "[15622701, 19162183]"
      ]
     },
     "execution_count": 54,
     "metadata": {},
     "output_type": "execute_result"
    }
   ],
   "source": [
    "mk_workflows = partial(\n",
    "    GitObjects, \n",
    "    get_objs=Repository.get_workflows, \n",
    "    objs_to_items='id'\n",
    ")\n",
    "\n",
    "s = mk_workflows(r)\n",
    "list(s)"
   ]
  },
  {
   "cell_type": "code",
   "execution_count": null,
   "metadata": {},
   "outputs": [],
   "source": [
    "\n",
    "    def __init__(\n",
    "        self,\n",
    "        repo: RepoSpec,\n",
    "        *,\n",
    "        issue_key: str = 'number',\n",
    "        state=\"open\",\n",
    "        **issues_filt,\n",
    "    ):\n",
    "        \"\"\"\n",
    "        :param repo: :class:`github.Repository.Repository`\n",
    "        :param issue_key: str, or callable that takes an iterable of issues and returns\n",
    "            an iterable of (key, issue) pairs (e.g. `enumerate`).\n",
    "            If str, then the attribute of the issue to use as the key.\n",
    "        \"\"\"\n",
    "        self.src = ensure_repo_obj(repo)\n",
    "        if isinstance(issue_key, str):\n",
    "            key_attr = issue_key\n",
    "            _get_key = attrgetter(key_attr)\n",
    "            self._issue_key = lambda x: zip(map(_get_key, x), x)\n",
    "        else:\n",
    "            assert callable(issue_key), \"issue_key must be a str or callable\"\n",
    "            self._issue_key = issue_key\n",
    "        self.state = state\n",
    "        self.issues_filt = issues_filt\n",
    "\n",
    "    @cached_property\n",
    "    def _issues(self):\n",
    "        return {\n",
    "            k: v\n",
    "            for k, v in self._issue_key(\n",
    "                self.src.get_issues(state=self.state, **self.issues_filt)\n",
    "            )\n",
    "        }\n",
    "\n",
    "    def __iter__(self):\n",
    "        yield from self._issues\n",
    "\n",
    "    def __getitem__(self, k):\n",
    "        return self._issues[k]\n"
   ]
  },
  {
   "cell_type": "markdown",
   "metadata": {},
   "source": [
    "# Objects"
   ]
  },
  {
   "cell_type": "code",
   "execution_count": 6,
   "metadata": {},
   "outputs": [
    {
     "data": {
      "text/plain": [
       "(AuthenticatedUser(login=None), AuthenticatedUser(login=None))"
      ]
     },
     "execution_count": 6,
     "metadata": {},
     "output_type": "execute_result"
    }
   ],
   "source": [
    "from hubcap import GithubReader\n",
    "\n",
    "gr = GithubReader()\n",
    "gr._github.get_user(), gr.src"
   ]
  },
  {
   "cell_type": "code",
   "execution_count": 7,
   "metadata": {},
   "outputs": [
    {
     "data": {
      "text/plain": [
       "NamedUser(login=\"i2mint\")"
      ]
     },
     "execution_count": 7,
     "metadata": {},
     "output_type": "execute_result"
    }
   ],
   "source": [
    "gr = GithubReader('i2mint')\n",
    "gr.src"
   ]
  },
  {
   "cell_type": "code",
   "execution_count": 30,
   "metadata": {},
   "outputs": [
    {
     "data": {
      "text/plain": [
       "False"
      ]
     },
     "execution_count": 30,
     "metadata": {},
     "output_type": "execute_result"
    }
   ],
   "source": [
    "from hubcap import hubcap\n",
    "\n",
    "repositories = hubcap('thorwhalen')\n",
    "'hubcap' in repositories\n",
    "hubcap_repo = repositories['hubcap']\n",
    "\n",
    "repo = hubcap('thorwhalen/hubcap')\n",
    "'master' in repo\n",
    "master_files = repo['master']\n",
    "\n",
    "files = hubcap('thorwhalen/hubcap/master')\n",
    "'/README.md' in files\n",
    "'/hubcap/' in files\n",
    "hubcap_files = files['/hubcap/']\n",
    "'/hubcap/base.py' in hubcap_files\n",
    "\n",
    "\n",
    "discussions = hubcap('thorwhalen/hubcap/discussions')\n",
    "2 in discussions\n",
    "discussion = discussions[2]\n",
    "discussion['title']\n"
   ]
  },
  {
   "cell_type": "code",
   "execution_count": 13,
   "metadata": {},
   "outputs": [
    {
     "data": {
      "text/plain": [
       "1"
      ]
     },
     "execution_count": 13,
     "metadata": {},
     "output_type": "execute_result"
    }
   ],
   "source": [
    "from hubcap import hubcap\n",
    "issues = hubcap('thorwhalen/hubcap/issues')\n",
    "3 in issues  # there's a \"number 3\" issue\n",
    "issue = issues[3]\n",
    "issue.title\n",
    "issue.body\n",
    "issue.comments\n",
    "\n"
   ]
  },
  {
   "cell_type": "code",
   "execution_count": 14,
   "metadata": {},
   "outputs": [
    {
     "data": {
      "text/plain": [
       "False"
      ]
     },
     "execution_count": 14,
     "metadata": {},
     "output_type": "execute_result"
    }
   ],
   "source": [
    "# TODO: This doesn't work yet\n",
    "hubcap_files_ = hubcap('thorwhalen/hubcap/master/hubcap/')\n",
    "'/hubcap/base.py' in hubcap_files_\n",
    "# s = hubcap('thorwhalen/hubcap/tree/b21958421d2eddfa9340f710e933a454938d4dcb')\n",
    "\n"
   ]
  },
  {
   "cell_type": "code",
   "execution_count": 19,
   "metadata": {},
   "outputs": [],
   "source": [
    "b = hubcap('thorwhalen/hubcap')\n",
    "r = b.src"
   ]
  },
  {
   "cell_type": "code",
   "execution_count": 20,
   "metadata": {},
   "outputs": [],
   "source": [
    "a = r.get_workflows()"
   ]
  },
  {
   "cell_type": "code",
   "execution_count": 31,
   "metadata": {},
   "outputs": [],
   "source": [
    "for aa in a:\n",
    "    pass\n",
    "    # print(aa)"
   ]
  },
  {
   "cell_type": "code",
   "execution_count": 32,
   "metadata": {},
   "outputs": [
    {
     "data": {
      "text/plain": [
       "Workflow(url=\"https://api.github.com/repos/thorwhalen/hubcap/actions/workflows/19162183\", name=\"pages-build-deployment\")"
      ]
     },
     "execution_count": 32,
     "metadata": {},
     "output_type": "execute_result"
    }
   ],
   "source": [
    "aa"
   ]
  },
  {
   "cell_type": "code",
   "execution_count": 24,
   "metadata": {},
   "outputs": [],
   "source": [
    "from hubcap.base import PaginatedListDol\n",
    "\n",
    "t = PaginatedListDol(a)"
   ]
  },
  {
   "cell_type": "code",
   "execution_count": 26,
   "metadata": {},
   "outputs": [],
   "source": [
    "it = iter(t)"
   ]
  },
  {
   "cell_type": "code",
   "execution_count": 27,
   "metadata": {},
   "outputs": [
    {
     "data": {
      "text/plain": [
       "Workflow(url=\"https://api.github.com/repos/thorwhalen/hubcap/actions/workflows/15622701\", name=\"Continuous Integration\")"
      ]
     },
     "execution_count": 27,
     "metadata": {},
     "output_type": "execute_result"
    }
   ],
   "source": [
    "next(it)"
   ]
  },
  {
   "cell_type": "markdown",
   "metadata": {},
   "source": [
    "# Exploring github APIs possibilities"
   ]
  },
  {
   "cell_type": "code",
   "execution_count": 1,
   "metadata": {
    "ExecuteTime": {
     "end_time": "2021-12-05T00:07:28.447132Z",
     "start_time": "2021-12-05T00:07:27.496563Z"
    }
   },
   "outputs": [
    {
     "name": "stdout",
     "output_type": "stream",
     "text": [
      "FIX_REPO_GET_GIT_REF, create_from_raw_data, dump, get_app, get_emojis, get_events, get_gist, get_gists, get_gitignore_template, get_gitignore_templates, get_hook, get_hooks, get_license, get_licenses, get_oauth_application, get_organization, get_organizations, get_project, get_project_column, get_rate_limit, get_repo, get_repos, get_user, get_user_by_id, get_users, load, oauth_scopes, per_page, rate_limiting, rate_limiting_resettime, render_markdown, search_code, search_commits, search_issues, search_repositories, search_topics, search_users\n"
     ]
    }
   ],
   "source": [
    "import os\n",
    "from github import Github\n",
    "\n",
    "ddir = lambda o: [a for a in dir(o) if not a.startswith('_')]\n",
    "print(*ddir(Github), sep=', ')"
   ]
  },
  {
   "cell_type": "code",
   "execution_count": 2,
   "metadata": {
    "ExecuteTime": {
     "end_time": "2021-12-05T00:07:28.556695Z",
     "start_time": "2021-12-05T00:07:28.523933Z"
    }
   },
   "outputs": [
    {
     "data": {
      "text/plain": [
       "['app',\n",
       " 'emojis',\n",
       " 'events',\n",
       " 'gist',\n",
       " 'gists',\n",
       " 'gitignore_template',\n",
       " 'gitignore_templates',\n",
       " 'hook',\n",
       " 'hooks',\n",
       " 'license',\n",
       " 'licenses',\n",
       " 'oauth_application',\n",
       " 'organization',\n",
       " 'organizations',\n",
       " 'project',\n",
       " 'project_column',\n",
       " 'rate_limit',\n",
       " 'repo',\n",
       " 'repos',\n",
       " 'user',\n",
       " 'user_by_id',\n",
       " 'users']"
      ]
     },
     "execution_count": 2,
     "metadata": {},
     "output_type": "execute_result"
    }
   ],
   "source": [
    "get_methods = [a for a in dir(Github) if a.startswith('get_')]\n",
    "get_names = [a[4:] for a in get_methods]\n",
    "get_names"
   ]
  },
  {
   "cell_type": "code",
   "execution_count": 72,
   "metadata": {
    "ExecuteTime": {
     "end_time": "2021-11-25T21:54:18.237145Z",
     "start_time": "2021-11-25T21:54:18.203878Z"
    }
   },
   "outputs": [
    {
     "name": "stdout",
     "output_type": "stream",
     "text": [
      "----- Methods -----\n",
      "         get_rate_limit: \n",
      "            get_license: key\n",
      "           get_licenses: \n",
      "             get_events: \n",
      "               get_user: login\n",
      "         get_user_by_id: user_id\n",
      "              get_users: since\n",
      "       get_organization: login\n",
      "      get_organizations: since\n",
      "               get_repo: full_name_or_id, lazy\n",
      "              get_repos: since, visibility\n",
      "            get_project: id\n",
      "     get_project_column: id\n",
      "               get_gist: id\n",
      "              get_gists: since\n",
      "    search_repositories: query, sort, order, qualifiers\n",
      "           search_users: query, sort, order, qualifiers\n",
      "          search_issues: query, sort, order, qualifiers\n",
      "            search_code: query, sort, order, highlight, qualifiers\n",
      "         search_commits: query, sort, order, qualifiers\n",
      "          search_topics: query, qualifiers\n",
      "        render_markdown: text, context\n",
      "               get_hook: name\n",
      "              get_hooks: \n",
      "get_gitignore_templates: \n",
      " get_gitignore_template: name\n",
      "             get_emojis: \n",
      "   create_from_raw_data: klass, raw_data, headers\n",
      "                   dump: obj, file, protocol\n",
      "                   load: f\n",
      "  get_oauth_application: client_id, client_secret\n",
      "                get_app: slug\n",
      "------ Props ------\n",
      "FIX_REPO_GET_GIT_REF\n",
      "per_page\n",
      "rate_limiting\n",
      "rate_limiting_resettime\n",
      "oauth_scopes\n"
     ]
    }
   ],
   "source": [
    "print_attrs_info(Github)"
   ]
  },
  {
   "cell_type": "code",
   "execution_count": 3,
   "metadata": {
    "ExecuteTime": {
     "end_time": "2021-12-05T00:08:01.832862Z",
     "start_time": "2021-12-05T00:08:01.803922Z"
    }
   },
   "outputs": [],
   "source": [
    "g = Github()"
   ]
  },
  {
   "cell_type": "code",
   "execution_count": 4,
   "metadata": {
    "ExecuteTime": {
     "end_time": "2021-12-05T00:08:02.707342Z",
     "start_time": "2021-12-05T00:08:02.379313Z"
    }
   },
   "outputs": [
    {
     "data": {
      "text/plain": [
       "NamedUser(login=\"thorwhalen\")"
      ]
     },
     "execution_count": 4,
     "metadata": {},
     "output_type": "execute_result"
    }
   ],
   "source": [
    "t = g.get_user('thorwhalen')\n",
    "t"
   ]
  },
  {
   "cell_type": "code",
   "execution_count": 5,
   "metadata": {
    "ExecuteTime": {
     "end_time": "2021-12-05T00:08:07.600393Z",
     "start_time": "2021-12-05T00:08:07.567511Z"
    }
   },
   "outputs": [
    {
     "data": {
      "text/plain": [
       "[github.NamedUser.NamedUser,\n",
       " github.GithubObject.CompletableGithubObject,\n",
       " github.GithubObject.GithubObject,\n",
       " object]"
      ]
     },
     "execution_count": 5,
     "metadata": {},
     "output_type": "execute_result"
    }
   ],
   "source": [
    "type(t).mro()"
   ]
  },
  {
   "cell_type": "code",
   "execution_count": 8,
   "metadata": {
    "ExecuteTime": {
     "end_time": "2021-12-05T00:09:16.508168Z",
     "start_time": "2021-12-05T00:09:15.172789Z"
    }
   },
   "outputs": [
    {
     "data": {
      "text/plain": [
       "[NamedUser(login=\"thejeshgn\"),\n",
       " NamedUser(login=\"Rokotyan\"),\n",
       " NamedUser(login=\"yz-\"),\n",
       " NamedUser(login=\"Magicianred\"),\n",
       " NamedUser(login=\"iDoka\"),\n",
       " NamedUser(login=\"leb9212\"),\n",
       " NamedUser(login=\"cavart28\"),\n",
       " NamedUser(login=\"izcet\"),\n",
       " NamedUser(login=\"andeaseme\"),\n",
       " NamedUser(login=\"jakka351\"),\n",
       " NamedUser(login=\"zfeng10\")]"
      ]
     },
     "execution_count": 8,
     "metadata": {},
     "output_type": "execute_result"
    }
   ],
   "source": [
    "from hubcap.base import PaginatedListDol\n",
    "p = PaginatedListDol(t.get_followers())\n",
    "list(p)"
   ]
  },
  {
   "cell_type": "code",
   "execution_count": 120,
   "metadata": {
    "ExecuteTime": {
     "end_time": "2021-11-27T17:28:18.584522Z",
     "start_time": "2021-11-27T17:28:18.548053Z"
    }
   },
   "outputs": [
    {
     "name": "stdout",
     "output_type": "stream",
     "text": [
      "----- Methods -----\n",
      "                get__repr__: params\n",
      "                 get_events: \n",
      "              get_followers: \n",
      "              get_following: \n",
      "                  get_gists: since\n",
      "                   get_keys: \n",
      "get_organization_membership: org\n",
      "                   get_orgs: \n",
      "               get_projects: state\n",
      "          get_public_events: \n",
      " get_public_received_events: \n",
      "        get_received_events: \n",
      "                   get_repo: name\n",
      "                  get_repos: type, sort, direction\n",
      "                get_starred: \n",
      "          get_subscriptions: \n",
      "                get_watched: \n",
      "           has_in_following: following\n",
      "      setCheckAfterInitFlag: flag\n",
      "                     update: additional_headers\n",
      "------ Props ------\n",
      "CHECK_AFTER_INIT_FLAG\n",
      "avatar_url\n",
      "bio\n",
      "blog\n",
      "collaborators\n",
      "company\n",
      "contributions\n",
      "created_at\n",
      "disk_usage\n",
      "email\n",
      "etag\n",
      "events_url\n",
      "followers\n",
      "followers_url\n",
      "following\n",
      "following_url\n",
      "gists_url\n",
      "gravatar_id\n",
      "hireable\n",
      "html_url\n",
      "id\n",
      "invitation_teams_url\n",
      "inviter\n",
      "last_modified\n",
      "location\n",
      "login\n",
      "name\n",
      "node_id\n",
      "organizations_url\n",
      "owned_private_repos\n",
      "permissions\n",
      "plan\n",
      "private_gists\n",
      "public_gists\n",
      "public_repos\n",
      "raw_data\n",
      "raw_headers\n",
      "received_events_url\n",
      "repos_url\n",
      "role\n",
      "site_admin\n",
      "starred_url\n",
      "subscriptions_url\n",
      "suspended_at\n",
      "team_count\n",
      "total_private_repos\n",
      "twitter_username\n",
      "type\n",
      "updated_at\n",
      "url\n"
     ]
    }
   ],
   "source": [
    "print_attrs_info(t)"
   ]
  },
  {
   "cell_type": "code",
   "execution_count": 122,
   "metadata": {
    "ExecuteTime": {
     "end_time": "2021-11-27T17:29:42.906072Z",
     "start_time": "2021-11-27T17:29:41.336939Z"
    }
   },
   "outputs": [
    {
     "name": "stdout",
     "output_type": "stream",
     "text": [
      "----- Methods -----\n",
      "  get_page: page\n",
      "------ Props ------\n",
      "reversed\n",
      "totalCount\n"
     ]
    }
   ],
   "source": [
    "r = t.get_repos()\n",
    "print_attrs_info(r)"
   ]
  },
  {
   "cell_type": "code",
   "execution_count": 429,
   "metadata": {
    "ExecuteTime": {
     "end_time": "2021-11-27T17:41:39.888437Z",
     "start_time": "2021-11-27T17:41:38.294682Z"
    }
   },
   "outputs": [],
   "source": [
    "from hubcap.base import PaginatedListDol\n",
    "\n",
    "rr = PaginatedListDol(r)\n",
    "repositories = list(rr)\n",
    "# repositories"
   ]
  },
  {
   "cell_type": "code",
   "execution_count": 171,
   "metadata": {
    "ExecuteTime": {
     "end_time": "2021-11-27T18:05:10.155480Z",
     "start_time": "2021-11-27T18:05:09.915770Z"
    }
   },
   "outputs": [
    {
     "data": {
      "text/plain": [
       "566"
      ]
     },
     "execution_count": 171,
     "metadata": {},
     "output_type": "execute_result"
    }
   ],
   "source": [
    "s = g.search_repositories('sound recognition')\n",
    "s.totalCount"
   ]
  },
  {
   "cell_type": "code",
   "execution_count": 170,
   "metadata": {
    "ExecuteTime": {
     "end_time": "2021-11-27T18:03:57.572863Z",
     "start_time": "2021-11-27T18:03:57.020780Z"
    }
   },
   "outputs": [
    {
     "data": {
      "text/plain": [
       "[Repository(full_name=\"carlosmwh1985/sound_recognition_ml\"),\n",
       " Repository(full_name=\"otosense/viable\"),\n",
       " Repository(full_name=\"ChaimTeitelbaum/Project_3_ML_sound_recognition\"),\n",
       " Repository(full_name=\"MahmoodAbuAwwad/Sound_Detection_ML\"),\n",
       " Repository(full_name=\"saurabh23897/FaultyTileSoundRecognition_PythonML\"),\n",
       " Repository(full_name=\"tayciryahmed/ml-challenges\"),\n",
       " Repository(full_name=\"chelakis/---Automatic-Speaker-Recognition-using-ML\"),\n",
       " Repository(full_name=\"jogomez97/BirdMLClassification\"),\n",
       " Repository(full_name=\"snpushpi/Speech_Emotion_recognition_Project\"),\n",
       " Repository(full_name=\"doans/Underwater-Acoustic-Target-Classification-Based-on-Dense-Convolutional-Neural-Network\"),\n",
       " Repository(full_name=\"erikd234/BikeSentry\"),\n",
       " Repository(full_name=\"AnbuKumar-maker/Machine-Learning---Sensor-Data-Analytics\")]"
      ]
     },
     "execution_count": 170,
     "metadata": {},
     "output_type": "execute_result"
    }
   ],
   "source": [
    "list(s)"
   ]
  },
  {
   "cell_type": "code",
   "execution_count": 158,
   "metadata": {
    "ExecuteTime": {
     "end_time": "2021-11-27T17:50:45.352754Z",
     "start_time": "2021-11-27T17:50:45.315803Z"
    }
   },
   "outputs": [
    {
     "data": {
      "text/plain": [
       "Repository(full_name=\"thorwhalen/graze\")"
      ]
     },
     "execution_count": 158,
     "metadata": {},
     "output_type": "execute_result"
    }
   ],
   "source": [
    "repo = repositories[19]\n",
    "repo"
   ]
  },
  {
   "cell_type": "code",
   "execution_count": 430,
   "metadata": {
    "ExecuteTime": {
     "end_time": "2021-11-27T17:43:42.239145Z",
     "start_time": "2021-11-27T17:43:41.869127Z"
    }
   },
   "outputs": [],
   "source": [
    "# print_attrs_info(repo)"
   ]
  },
  {
   "cell_type": "code",
   "execution_count": 160,
   "metadata": {
    "ExecuteTime": {
     "end_time": "2021-11-27T17:51:12.214988Z",
     "start_time": "2021-11-27T17:51:11.951367Z"
    }
   },
   "outputs": [
    {
     "data": {
      "text/plain": [
       "24"
      ]
     },
     "execution_count": 160,
     "metadata": {},
     "output_type": "execute_result"
    }
   ],
   "source": [
    "w = PaginatedListDol(repo.get_commits())\n",
    "len(w)"
   ]
  },
  {
   "cell_type": "code",
   "execution_count": 431,
   "metadata": {
    "ExecuteTime": {
     "end_time": "2021-11-27T17:53:09.692961Z",
     "start_time": "2021-11-27T17:53:07.431154Z"
    }
   },
   "outputs": [],
   "source": [
    "# w = PaginatedListDol(g.get_repo('i2mint/dol').get_commits())\n",
    "# print(f\"{len(w)=}\")\n",
    "# ww = list(w.paginated_list)\n",
    "# print(f\"{len(ww)=}\")\n",
    "# ww"
   ]
  },
  {
   "cell_type": "code",
   "execution_count": 157,
   "metadata": {
    "ExecuteTime": {
     "end_time": "2021-11-27T17:50:22.957677Z",
     "start_time": "2021-11-27T17:50:22.726200Z"
    }
   },
   "outputs": [
    {
     "data": {
      "text/plain": [
       "Repository(full_name=\"i2mint/dol\")"
      ]
     },
     "execution_count": 157,
     "metadata": {},
     "output_type": "execute_result"
    }
   ],
   "source": [
    "repo = g.get_repo('i2mint/dol')\n",
    "repo"
   ]
  },
  {
   "cell_type": "code",
   "execution_count": null,
   "metadata": {},
   "outputs": [],
   "source": []
  },
  {
   "cell_type": "code",
   "execution_count": 432,
   "metadata": {
    "ExecuteTime": {
     "end_time": "2021-11-27T17:49:55.973068Z",
     "start_time": "2021-11-27T17:49:55.774807Z"
    }
   },
   "outputs": [],
   "source": [
    "# w = PaginatedListDol(repo.get_collaborators())\n",
    "# list(w)"
   ]
  },
  {
   "cell_type": "code",
   "execution_count": 125,
   "metadata": {
    "ExecuteTime": {
     "end_time": "2021-11-27T17:30:03.709731Z",
     "start_time": "2021-11-27T17:30:03.678350Z"
    }
   },
   "outputs": [
    {
     "data": {
      "text/plain": [
       "[github.PaginatedList.PaginatedList,\n",
       " github.PaginatedList.PaginatedListBase,\n",
       " object]"
      ]
     },
     "execution_count": 125,
     "metadata": {},
     "output_type": "execute_result"
    }
   ],
   "source": [
    "type(r).mro()"
   ]
  },
  {
   "cell_type": "code",
   "execution_count": 121,
   "metadata": {
    "ExecuteTime": {
     "end_time": "2021-11-27T17:28:51.071458Z",
     "start_time": "2021-11-27T17:28:49.677533Z"
    }
   },
   "outputs": [
    {
     "name": "stdout",
     "output_type": "stream",
     "text": [
      "----- Methods -----\n",
      "  get_page: page\n",
      "------ Props ------\n",
      "reversed\n",
      "totalCount\n"
     ]
    }
   ],
   "source": [
    "p = t.get_gists()\n",
    "print_attrs_info(p)"
   ]
  },
  {
   "cell_type": "code",
   "execution_count": 112,
   "metadata": {
    "ExecuteTime": {
     "end_time": "2021-11-26T20:05:47.771562Z",
     "start_time": "2021-11-26T20:05:47.526190Z"
    }
   },
   "outputs": [
    {
     "data": {
      "text/plain": [
       "18"
      ]
     },
     "execution_count": 112,
     "metadata": {},
     "output_type": "execute_result"
    }
   ],
   "source": [
    "p.totalCount"
   ]
  },
  {
   "cell_type": "code",
   "execution_count": null,
   "metadata": {},
   "outputs": [],
   "source": []
  },
  {
   "cell_type": "code",
   "execution_count": 433,
   "metadata": {
    "ExecuteTime": {
     "end_time": "2021-11-26T19:15:57.075366Z",
     "start_time": "2021-11-26T19:15:57.040428Z"
    }
   },
   "outputs": [],
   "source": [
    "# for x in type(t).mro():\n",
    "#     print(f'******** {x} *************')\n",
    "#     print_attrs_info(x)"
   ]
  },
  {
   "cell_type": "code",
   "execution_count": 73,
   "metadata": {
    "ExecuteTime": {
     "end_time": "2021-11-25T21:54:25.523674Z",
     "start_time": "2021-11-25T21:54:25.482628Z"
    }
   },
   "outputs": [
    {
     "ename": "ValueError",
     "evalue": "max() arg is an empty sequence",
     "output_type": "error",
     "traceback": [
      "\u001b[0;31m---------------------------------------------------------------------------\u001b[0m",
      "\u001b[0;31mValueError\u001b[0m                                Traceback (most recent call last)",
      "\u001b[0;32m<ipython-input-73-73d2d432e0ad>\u001b[0m in \u001b[0;36m<module>\u001b[0;34m\u001b[0m\n\u001b[0;32m----> 1\u001b[0;31m \u001b[0mprint_attrs_info\u001b[0m\u001b[0;34m(\u001b[0m\u001b[0mt\u001b[0m\u001b[0;34m)\u001b[0m\u001b[0;34m\u001b[0m\u001b[0;34m\u001b[0m\u001b[0m\n\u001b[0m",
      "\u001b[0;32m<ipython-input-71-f219e9e841e1>\u001b[0m in \u001b[0;36mprint_attrs_info\u001b[0;34m(obj, attrs, include_hidden)\u001b[0m\n\u001b[1;32m     11\u001b[0m     \u001b[0mmethods\u001b[0m \u001b[0;34m=\u001b[0m \u001b[0mlist\u001b[0m\u001b[0;34m(\u001b[0m\u001b[0mfilter\u001b[0m\u001b[0;34m(\u001b[0m\u001b[0;32mlambda\u001b[0m \u001b[0ma\u001b[0m\u001b[0;34m:\u001b[0m \u001b[0mcallable\u001b[0m\u001b[0;34m(\u001b[0m\u001b[0mattr_obj\u001b[0m\u001b[0;34m(\u001b[0m\u001b[0ma\u001b[0m\u001b[0;34m)\u001b[0m\u001b[0;34m)\u001b[0m\u001b[0;34m,\u001b[0m \u001b[0mattrs\u001b[0m\u001b[0;34m)\u001b[0m\u001b[0;34m)\u001b[0m\u001b[0;34m\u001b[0m\u001b[0;34m\u001b[0m\u001b[0m\n\u001b[1;32m     12\u001b[0m     \u001b[0mprops\u001b[0m \u001b[0;34m=\u001b[0m \u001b[0mlist\u001b[0m\u001b[0;34m(\u001b[0m\u001b[0mfilter\u001b[0m\u001b[0;34m(\u001b[0m\u001b[0;32mlambda\u001b[0m \u001b[0ma\u001b[0m\u001b[0;34m:\u001b[0m \u001b[0;32mnot\u001b[0m \u001b[0mcallable\u001b[0m\u001b[0;34m(\u001b[0m\u001b[0mattr_obj\u001b[0m\u001b[0;34m(\u001b[0m\u001b[0ma\u001b[0m\u001b[0;34m)\u001b[0m\u001b[0;34m)\u001b[0m\u001b[0;34m,\u001b[0m \u001b[0mattrs\u001b[0m\u001b[0;34m)\u001b[0m\u001b[0;34m)\u001b[0m\u001b[0;34m\u001b[0m\u001b[0;34m\u001b[0m\u001b[0m\n\u001b[0;32m---> 13\u001b[0;31m     \u001b[0mn\u001b[0m \u001b[0;34m=\u001b[0m \u001b[0mmax\u001b[0m\u001b[0;34m(\u001b[0m\u001b[0mmap\u001b[0m\u001b[0;34m(\u001b[0m\u001b[0mlen\u001b[0m\u001b[0;34m,\u001b[0m \u001b[0mattrs\u001b[0m\u001b[0;34m)\u001b[0m\u001b[0;34m)\u001b[0m\u001b[0;34m\u001b[0m\u001b[0;34m\u001b[0m\u001b[0m\n\u001b[0m\u001b[1;32m     14\u001b[0m     \u001b[0mi\u001b[0m \u001b[0;34m=\u001b[0m \u001b[0mint\u001b[0m\u001b[0;34m(\u001b[0m\u001b[0misinstance\u001b[0m\u001b[0;34m(\u001b[0m\u001b[0mobj\u001b[0m\u001b[0;34m,\u001b[0m \u001b[0mtype\u001b[0m\u001b[0;34m)\u001b[0m\u001b[0;34m)\u001b[0m\u001b[0;34m\u001b[0m\u001b[0;34m\u001b[0m\u001b[0m\n\u001b[1;32m     15\u001b[0m     \u001b[0mprint\u001b[0m\u001b[0;34m(\u001b[0m\u001b[0;34m\"----- Methods -----\"\u001b[0m\u001b[0;34m)\u001b[0m\u001b[0;34m\u001b[0m\u001b[0;34m\u001b[0m\u001b[0m\n",
      "\u001b[0;31mValueError\u001b[0m: max() arg is an empty sequence"
     ]
    }
   ],
   "source": [
    "print_attrs_info(t)"
   ]
  },
  {
   "cell_type": "code",
   "execution_count": 434,
   "metadata": {
    "ExecuteTime": {
     "end_time": "2021-11-25T21:26:42.235642Z",
     "start_time": "2021-11-25T21:26:41.694637Z"
    }
   },
   "outputs": [],
   "source": [
    "# tt = g.get_repo()"
   ]
  },
  {
   "cell_type": "code",
   "execution_count": null,
   "metadata": {},
   "outputs": [],
   "source": []
  },
  {
   "cell_type": "code",
   "execution_count": null,
   "metadata": {},
   "outputs": [],
   "source": []
  }
 ],
 "metadata": {
  "kernelspec": {
   "display_name": "Python 3",
   "language": "python",
   "name": "python3"
  },
  "language_info": {
   "codemirror_mode": {
    "name": "ipython",
    "version": 3
   },
   "file_extension": ".py",
   "mimetype": "text/x-python",
   "name": "python",
   "nbconvert_exporter": "python",
   "pygments_lexer": "ipython3",
   "version": "3.10.8"
  },
  "latex_envs": {
   "LaTeX_envs_menu_present": true,
   "autoclose": false,
   "autocomplete": true,
   "bibliofile": "biblio.bib",
   "cite_by": "apalike",
   "current_citInitial": 1,
   "eqLabelWithNumbers": true,
   "eqNumInitial": 1,
   "hotkeys": {
    "equation": "Ctrl-E",
    "itemize": "Ctrl-I"
   },
   "labels_anchors": false,
   "latex_user_defs": false,
   "report_style_numbering": false,
   "user_envs_cfg": false
  },
  "toc": {
   "base_numbering": 1,
   "nav_menu": {},
   "number_sections": true,
   "sideBar": true,
   "skip_h1_title": false,
   "title_cell": "Table of Contents",
   "title_sidebar": "Contents",
   "toc_cell": true,
   "toc_position": {
    "height": "calc(100% - 180px)",
    "left": "10px",
    "top": "150px",
    "width": "230.764px"
   },
   "toc_section_display": true,
   "toc_window_display": true
  }
 },
 "nbformat": 4,
 "nbformat_minor": 4
}
