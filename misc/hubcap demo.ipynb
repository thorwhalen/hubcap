{
 "cells": [
  {
   "cell_type": "markdown",
   "id": "06646a28",
   "metadata": {
    "toc": true
   },
   "source": [
    "<h1>Table of Contents<span class=\"tocSkip\"></span></h1>\n",
    "<div class=\"toc\"><ul class=\"toc-item\"><li><span><a href=\"#Talking-to-github\" data-toc-modified-id=\"Talking-to-github-1\"><span class=\"toc-item-num\">1&nbsp;&nbsp;</span>Talking to github</a></span><ul class=\"toc-item\"><li><span><a href=\"#Get-repositories-list\" data-toc-modified-id=\"Get-repositories-list-1.1\"><span class=\"toc-item-num\">1.1&nbsp;&nbsp;</span>Get repositories list</a></span></li><li><span><a href=\"#See-recently-updated-repos\" data-toc-modified-id=\"See-recently-updated-repos-1.2\"><span class=\"toc-item-num\">1.2&nbsp;&nbsp;</span>See recently updated repos</a></span></li><li><span><a href=\"#check-if-most-recently-changed-repositories'-CI-failed-or-not\" data-toc-modified-id=\"check-if-most-recently-changed-repositories'-CI-failed-or-not-1.3\"><span class=\"toc-item-num\">1.3&nbsp;&nbsp;</span>check if most recently changed repositories' CI failed or not</a></span></li><li><span><a href=\"#See-actions-status-of-repository\" data-toc-modified-id=\"See-actions-status-of-repository-1.4\"><span class=\"toc-item-num\">1.4&nbsp;&nbsp;</span>See actions status of repository</a></span></li></ul></li><li><span><a href=\"#Appendix:-workflow-scrap\" data-toc-modified-id=\"Appendix:-workflow-scrap-2\"><span class=\"toc-item-num\">2&nbsp;&nbsp;</span>Appendix: workflow scrap</a></span></li><li><span><a href=\"#A-one-cell-demo\" data-toc-modified-id=\"A-one-cell-demo-3\"><span class=\"toc-item-num\">3&nbsp;&nbsp;</span>A one cell demo</a></span></li><li><span><a href=\"#Talking-to-github\" data-toc-modified-id=\"Talking-to-github-4\"><span class=\"toc-item-num\">4&nbsp;&nbsp;</span>Talking to github</a></span><ul class=\"toc-item\"><li><span><a href=\"#Get-repositories-list\" data-toc-modified-id=\"Get-repositories-list-4.1\"><span class=\"toc-item-num\">4.1&nbsp;&nbsp;</span>Get repositories list</a></span></li><li><span><a href=\"#check-if-most-recently-changed-repositories'-CI-failed-or-not\" data-toc-modified-id=\"check-if-most-recently-changed-repositories'-CI-failed-or-not-4.2\"><span class=\"toc-item-num\">4.2&nbsp;&nbsp;</span>check if most recently changed repositories' CI failed or not</a></span></li><li><span><a href=\"#See-recently-updated-repos\" data-toc-modified-id=\"See-recently-updated-repos-4.3\"><span class=\"toc-item-num\">4.3&nbsp;&nbsp;</span>See recently updated repos</a></span></li><li><span><a href=\"#See-actions-status-of-repository\" data-toc-modified-id=\"See-actions-status-of-repository-4.4\"><span class=\"toc-item-num\">4.4&nbsp;&nbsp;</span>See actions status of repository</a></span></li><li><span><a href=\"#with-github-python-package\" data-toc-modified-id=\"with-github-python-package-4.5\"><span class=\"toc-item-num\">4.5&nbsp;&nbsp;</span>with github python package</a></span></li></ul></li></ul></div>"
   ]
  },
  {
   "cell_type": "code",
   "execution_count": null,
   "id": "9a4955e2",
   "metadata": {},
   "outputs": [],
   "source": []
  },
  {
   "cell_type": "markdown",
   "id": "808250f1",
   "metadata": {},
   "source": [
    "# Recipes"
   ]
  },
  {
   "cell_type": "code",
   "execution_count": 8,
   "id": "91e9ab8f",
   "metadata": {},
   "outputs": [],
   "source": [
    "from hubcap import git_clone, git_wiki_clone\n",
    "from dol import TextFiles, filt_iter, Pipe\n",
    "\n",
    "repo_py_files = Pipe(\n",
    "    git_clone, TextFiles, filt_iter(filt=lambda x: x.endswith('.py'))\n",
    ")\n",
    "repo_wiki_files = Pipe(git_wiki_clone, TextFiles)"
   ]
  },
  {
   "cell_type": "code",
   "execution_count": 6,
   "id": "e46d7b66",
   "metadata": {},
   "outputs": [
    {
     "name": "stderr",
     "output_type": "stream",
     "text": [
      "Cloning into '/var/folders/mc/c070wfh51kxd9lft8dl74q1r0000gn/T/tmp01o3lutw'...\n"
     ]
    },
    {
     "data": {
      "text/plain": [
       "37"
      ]
     },
     "execution_count": 6,
     "metadata": {},
     "output_type": "execute_result"
    }
   ],
   "source": [
    "py_files = repo_py_files('i2mint/dol')\n",
    "len(py_files)"
   ]
  },
  {
   "cell_type": "code",
   "execution_count": 9,
   "id": "d94b1e12",
   "metadata": {},
   "outputs": [
    {
     "name": "stderr",
     "output_type": "stream",
     "text": [
      "Cloning into '/var/folders/mc/c070wfh51kxd9lft8dl74q1r0000gn/T/tmprr4aak1w'...\n"
     ]
    },
    {
     "data": {
      "text/plain": [
       "['Recipes.md',\n",
       " 'Critiques-and-their-comebacks.md',\n",
       " 'Home.md',\n",
       " 'Mapping-Views.md']"
      ]
     },
     "execution_count": 9,
     "metadata": {},
     "output_type": "execute_result"
    }
   ],
   "source": [
    "wiki_files = repo_wiki_files('i2mint/dol')\n",
    "list(wiki_files)"
   ]
  },
  {
   "cell_type": "markdown",
   "id": "dd23b6f7",
   "metadata": {},
   "source": [
    "# Talking to github"
   ]
  },
  {
   "cell_type": "markdown",
   "id": "51b356a5",
   "metadata": {},
   "source": [
    "The first few here don't require the github python package. Just `requests`. \n",
    "\n",
    "But they do require a token (e.g. in environment variable `GITHUB_TOKEN`)."
   ]
  },
  {
   "cell_type": "code",
   "execution_count": 116,
   "id": "0cabee12",
   "metadata": {
    "ExecuteTime": {
     "end_time": "2021-11-22T23:10:59.436174Z",
     "start_time": "2021-11-22T23:10:58.935874Z"
    }
   },
   "outputs": [],
   "source": [
    "import pandas as pd  # pip install pandas"
   ]
  },
  {
   "cell_type": "markdown",
   "id": "496fc254",
   "metadata": {},
   "source": [
    "## Get repositories list"
   ]
  },
  {
   "cell_type": "code",
   "execution_count": 1,
   "id": "511db2e8",
   "metadata": {
    "ExecuteTime": {
     "end_time": "2022-08-12T19:54:00.579349Z",
     "start_time": "2022-08-12T19:53:53.736369Z"
    }
   },
   "outputs": [],
   "source": [
    "from hubcap.examples import repos_info, actions_info, date_selection_lidx\n",
    "otosense = repos_info('otosense')\n",
    "i2mint = repos_info('i2mint')"
   ]
  },
  {
   "cell_type": "markdown",
   "id": "36e8902d",
   "metadata": {},
   "source": [
    "# RepoReader"
   ]
  },
  {
   "cell_type": "code",
   "execution_count": 2,
   "id": "ee9b1048",
   "metadata": {},
   "outputs": [
    {
     "data": {
      "text/plain": [
       "48"
      ]
     },
     "execution_count": 2,
     "metadata": {},
     "output_type": "execute_result"
    }
   ],
   "source": [
    "from hubcap import RepoReader\n",
    "\n",
    "s = RepoReader('thorwhalen/hubcap')\n",
    "len(s)"
   ]
  },
  {
   "cell_type": "code",
   "execution_count": 22,
   "id": "635711b1",
   "metadata": {},
   "outputs": [
    {
     "name": "stdout",
     "output_type": "stream",
     "text": [
      "artifacts, assignees, autolinks, branches, codescan_alerts, collaborators,\n",
      "comments, commits, contributors, dependabot_alerts, deployments, discussions,\n",
      "downloads, environments, events, forks, git_refs, hooks, issues,\n",
      "issues_comments, issues_events, labels, languages, milestones, network_events,\n",
      "notifications, pending_invitations, projects, pulls, pulls_comments,\n",
      "pulls_review_comments, releases, repository_advisories, secrets,\n",
      "self_hosted_runners, stargazers, stargazers_with_dates, stats_contributors,\n",
      "subscribers, tags, teams, top_paths, top_referrers, topics, variables, watchers,\n",
      "workflow_runs, workflows\n"
     ]
    }
   ],
   "source": [
    "# the keys of a RepoReader object are the names of the different \n",
    "# things you can get from the repo\n",
    "from lkj import wrapped_print\n",
    "\n",
    "repo_reader_keys = list(s)\n",
    "wrapped_print(repo_reader_keys)\n"
   ]
  },
  {
   "cell_type": "markdown",
   "id": "17f46a26",
   "metadata": {},
   "source": [
    "## Files (branches)"
   ]
  },
  {
   "cell_type": "code",
   "execution_count": 3,
   "id": "4b0c5af7",
   "metadata": {},
   "outputs": [],
   "source": [
    "branches = s['branches']"
   ]
  },
  {
   "cell_type": "code",
   "execution_count": 4,
   "id": "adf638f1",
   "metadata": {},
   "outputs": [
    {
     "data": {
      "text/plain": [
       "['master']"
      ]
     },
     "execution_count": 4,
     "metadata": {},
     "output_type": "execute_result"
    }
   ],
   "source": [
    "list(branches)"
   ]
  },
  {
   "cell_type": "code",
   "execution_count": 6,
   "id": "ca99c71c",
   "metadata": {},
   "outputs": [
    {
     "data": {
      "text/plain": [
       "Branch(name=\"master\")"
      ]
     },
     "execution_count": 6,
     "metadata": {},
     "output_type": "execute_result"
    }
   ],
   "source": [
    "branch = branches['master']\n",
    "branch\n"
   ]
  },
  {
   "cell_type": "markdown",
   "id": "56277fb5",
   "metadata": {},
   "source": [
    "## Issues"
   ]
  },
  {
   "cell_type": "code",
   "execution_count": 4,
   "id": "2481e210",
   "metadata": {},
   "outputs": [
    {
     "data": {
      "text/plain": [
       "[3]"
      ]
     },
     "execution_count": 4,
     "metadata": {},
     "output_type": "execute_result"
    }
   ],
   "source": [
    "issues = s['issues']\n",
    "list(issues)"
   ]
  },
  {
   "cell_type": "code",
   "execution_count": 5,
   "id": "18958767",
   "metadata": {},
   "outputs": [
    {
     "data": {
      "text/plain": [
       "['body', 'comments']"
      ]
     },
     "execution_count": 5,
     "metadata": {},
     "output_type": "execute_result"
    }
   ],
   "source": [
    "issue = issues[3]\n",
    "list(issue)"
   ]
  },
  {
   "cell_type": "code",
   "execution_count": 6,
   "id": "aaf47838",
   "metadata": {},
   "outputs": [
    {
     "data": {
      "text/plain": [
       "'This is just a test issue to test that hubcap can see it.\\r\\n'"
      ]
     },
     "execution_count": 6,
     "metadata": {},
     "output_type": "execute_result"
    }
   ],
   "source": [
    "issue['body']"
   ]
  },
  {
   "cell_type": "code",
   "execution_count": 7,
   "id": "df28c272",
   "metadata": {},
   "outputs": [
    {
     "data": {
      "text/plain": [
       "[0, 1]"
      ]
     },
     "execution_count": 7,
     "metadata": {},
     "output_type": "execute_result"
    }
   ],
   "source": [
    "comments = issue['comments']\n",
    "list(comments)"
   ]
  },
  {
   "cell_type": "code",
   "execution_count": 8,
   "id": "28eadb54",
   "metadata": {},
   "outputs": [
    {
     "data": {
      "text/plain": [
       "'This is an issue comment.'"
      ]
     },
     "execution_count": 8,
     "metadata": {},
     "output_type": "execute_result"
    }
   ],
   "source": [
    "comments[0]"
   ]
  },
  {
   "cell_type": "markdown",
   "id": "3f934c56",
   "metadata": {},
   "source": [
    "## discussions"
   ]
  },
  {
   "cell_type": "code",
   "execution_count": 19,
   "id": "8623c5da",
   "metadata": {},
   "outputs": [
    {
     "data": {
      "text/plain": [
       "[2]"
      ]
     },
     "execution_count": 19,
     "metadata": {},
     "output_type": "execute_result"
    }
   ],
   "source": [
    "discussions = s['discussions']\n",
    "list(discussions)"
   ]
  },
  {
   "cell_type": "code",
   "execution_count": 20,
   "id": "d1c2f1b3",
   "metadata": {},
   "outputs": [
    {
     "data": {
      "text/plain": [
       "{'number': 2,\n",
       " 'title': 'Root interface of hubcap',\n",
       " 'body': 'Every time I need to do something with `hubcap` I need to look up how it works again. \\r\\n\\r\\nThat\\'s negative points for UX design right there! We should strive for \"no manual needed\". \\r\\n\\r\\nI made the mistake, yet again, of letting what I was wrapping have to much influence on the design of my interface. \\r\\nIt\\'s okay, and even often desirable, to have a layer that is \"inner oriented\" (what I sometimes call the \"long language\"), \\r\\nbut we shouldn\\'t forget the domain-oriented interface in the process. \\r\\n\\r\\nSo what would I want the interface to be?\\r\\n\\r\\n## Root\\r\\n\\r\\nI\\'m considering something like, by default getting a mapping at the highest level of github (I\\'ll use `Hubcap` here, since `GithubReader` is already used in my code):\\r\\n\\r\\n```python\\r\\ns = Hubcap()\\r\\nu = s[\\'thorwhalen\\']  # mapping of repos of thorwhalen\\r\\nlist(org)  # will list repos of thorwhalen user/org, for example\\r\\nr = u[\\'hubcap\\']  # mapping for the contents of the repo\\r\\n# etc.\\r\\n```\\r\\n\\r\\nRight now, we can do:\\r\\n\\r\\n```python\\r\\nss = GithubReader()\\r\\n```\\r\\n\\r\\nBut it will default to the user/org associated with the default login/token (the one used by the API). \\r\\n\\r\\nHere, `list(ss)` will list the repos for that user (we haven\\'t defined what `list(s)` would be yet), but what\\'s not nice is that you can\\'t start at the very top of github. Is that a problem? Should we consider that the user must start with specifying a user/org first? Maybe. \\r\\n\\r\\nIf `Hubcap` has any iter, what would it be? Obviously, we wouldn\\'t want to list all user/orgs. We could implement `__contains__` at that level, but listing all user/orgs (in list(s)) would result in a very long process. Perhaps we still default to the current user (as with GithubReader), or allow the user to specify a list of users/orgs to start with, or perhaps we list any org they\\'re part of and/or starred... \\r\\n\\r\\n## And then...\\r\\n\\r\\nThe first level is user/org. Then there\\'s repos (but are there other choices). What next?\\r\\n\\r\\nRight now we have `branch` as being the next level -- but again, what are the other choices?\\r\\nThere are other resources associated with the user/org. Issues, discussions, wikis, etc.\\r\\nFurther, even having to specify branches is annoying -- we\\'d like to easily default to a branch and directly get to the files. \\r\\n\\r\\nSo the situation is that we have a tree -- something like (we\\'ll just say \"org\" instead of \"user/org\" from now on. \\r\\n\\r\\n```\\r\\nROOT\\r\\n  ORGS\\r\\n    REPOS\\r\\n       ACTIONS\\r\\n       ISSUES\\r\\n          COMMENTS\\r\\n             REPLIES\\r\\n       DISCUSSIONS\\r\\n          COMMENTS\\r\\n             REPLIES\\r\\n       WIKIS\\r\\n       ...\\r\\n       BRANCHES\\r\\n          COMMITS\\r\\n             FILES\\r\\n```\\r\\n\\r\\nWe\\'d like to have access to all these resources, with a mapping interface of the tree.\\r\\n\\r\\nWe\\'d also like to have convenient mappings like `ORGS/REPOS/master/last_commit/FILES`. \\r\\n(Notice here that `master` is static, but `last_commit` is dynamic (it will change with time).)\\r\\n\\r\\nThis is not a `hubcap` problem by the way, but a general `dol` one. See for example, the `py2store` [Hypercubic keys and slicing](https://github.com/i2mint/py2store/issues/33) issue and [this comment](https://github.com/i2mint/py2store/issues/33#issuecomment-1798158170) mentioning the hubcap use case.\\r\\n\\r\\n',\n",
       " 'author': {'login': 'thorwhalen'},\n",
       " 'createdAt': '2023-11-07T09:30:59Z',\n",
       " 'updatedAt': '2023-12-05T08:25:39Z',\n",
       " 'comments': [{'body': 'Further it would be nice if we could access resources via a url copied as is from viewing it on the browser. \\r\\n\\r\\nIt\\'s what the [hubcap.hub](https://github.com/thorwhalen/hubcap/blob/6d5d7b9813e068ef4bcf1e6b905cc2febd38e468/hubcap/tools.py#L18) function is intended to do -- and does, **at the time of writing this**, somewhat, partially, but with a terrible design and unreliable robustness (due to the fact that [RepoReader](https://github.com/thorwhalen/hubcap/blob/6d5d7b9813e068ef4bcf1e6b905cc2febd38e468/hubcap/base.py#L121) isn\\'t really finished. What is left to do there is finish completing the declarative configuration that is [dflt_repo_kwargs](https://github.com/thorwhalen/hubcap/blob/6d5d7b9813e068ef4bcf1e6b905cc2febd38e468/hubcap/base.py#L102) and make things recursive (e.g. when we do `issue = repo_reader[\\'issues\\'][3]`, `issue` should be a `Mapping` with it\\'s own key-value definition, which includes \"leaf\" properties (like title, creation date, etc.) as well as other nested mappings (such as comments). \\r\\n\\r\\n\\r\\n## Examples of github urls\\r\\n\\r\\n```\\r\\nhttps://github.com/thorwhalen/test_repo/tree/main/folder_1\\r\\n```\\r\\n\\r\\ncorresponds to \\r\\n\\r\\n```\\r\\n{\"org\": \"thorwhalen\", \"repo\": \"test_repo\", \"branch\": \"main\", \"commit\": \"most_recent\", \"path\": \"folder_1/\"}\\r\\n```\\r\\n\\r\\nwhose reduced form url could be\\r\\n\\r\\n```\\r\\nthorwhalen/test_repo/main/most_recent/folder_1\\r\\n```\\r\\n\\r\\nor even (with a default interpretation that assumes commit=most_recent without confusing commit and path):\\r\\n\\r\\n```\\r\\nthorwhalen/test_repo/main/folder_1\\r\\n```\\r\\n\\r\\nNote a few other urls (interpretation and pattern extraction left to the reader!):\\r\\n\\r\\n```\\r\\nhttps://github.com/thorwhalen/test_repo/blob/main/folder_1/file_1_level_2 \\r\\nhttps://github.com/thorwhalen/test_repo/blob/117dded5171a23d465f7b3d6ae3204a4e105cfb2/folder_1/file_1_level_2 \\r\\n```\\r\\n\\r\\nNote how the branch doesn\\'t show when the commit hash is present. There must be a ledger that links a commit to the branch it was created on. I should read about the exact logic there! What does it mean as far a our dimensioned indexation schema goes? It seems we still need both a branch and a commit dimension since it\\'s a many-to-1 relationship: a branch may have several commits.\\r\\n\\r\\nNote also how we had \"tree\" when the path pointed to a folder, replaced by \"blob\" when it points to a file (so, unlike in unix, where [\"everything is a file\"](https://en.wikipedia.org/wiki/Everything_is_a_file), a folder is not considered a file here?)\\r\\n\\r\\nMore...\\r\\n\\r\\n```\\r\\nhttps://github.com/thorwhalen/test_repo/wiki\\r\\nhttps://github.com/thorwhalen/test_repo/wiki/Test-Wiki-A\\r\\n\\r\\nhttps://github.com/thorwhalen/test_repo/issues\\r\\nhttps://github.com/thorwhalen/test_repo/issues/4\\r\\nhttps://github.com/thorwhalen/test_repo/issues/4#issuecomment-1801792378\\r\\n\\r\\nhttps://github.com/thorwhalen/test_repo/discussions\\r\\nhttps://github.com/thorwhalen/test_repo/discussions/1\\r\\nhttps://github.com/thorwhalen/test_repo/discussions/1#discussioncomment-7509953\\r\\nhttps://github.com/thorwhalen/test_repo/discussions/1#discussioncomment-7509957  # it\\'s actually a comment \"reply\" here\\r\\n```\\r\\n\\r\\n\\r\\n\\r\\n\\r\\n',\n",
       "   'author': 'thorwhalen',\n",
       "   'replies': []}]}"
      ]
     },
     "execution_count": 20,
     "metadata": {},
     "output_type": "execute_result"
    }
   ],
   "source": [
    "discussion = discussions[2]\n",
    "discussion"
   ]
  },
  {
   "cell_type": "code",
   "execution_count": null,
   "id": "17cdfb71",
   "metadata": {},
   "outputs": [],
   "source": [
    "discussion['title'], discussion['body'], [x['body'] for x in discussion['comments']]"
   ]
  },
  {
   "cell_type": "code",
   "execution_count": 23,
   "id": "712ca2fe",
   "metadata": {},
   "outputs": [],
   "source": [
    "from hubcap import hub, ensure_github_url\n",
    "\n",
    "t = hub('thorwhalen/hubcap/discussions')"
   ]
  },
  {
   "cell_type": "code",
   "execution_count": 38,
   "id": "f39f35dd",
   "metadata": {},
   "outputs": [],
   "source": [
    "from hubcap.repo_slurp import discussions_mapping\n",
    "\n",
    "discussions = discussions_mapping('thorwhalen/hubcap')\n"
   ]
  },
  {
   "cell_type": "code",
   "execution_count": 42,
   "id": "e19ecabe",
   "metadata": {},
   "outputs": [],
   "source": [
    "# print(next(iter(discussions.values())))"
   ]
  },
  {
   "cell_type": "markdown",
   "id": "8e590d62",
   "metadata": {},
   "source": [
    "# Repository to text"
   ]
  },
  {
   "cell_type": "markdown",
   "id": "f9500c83",
   "metadata": {},
   "source": [
    "In this day-and-age of AI, it can be useful to be able to create a text file containing all the info you want to capture from a github repository, so as to be able to feed to an AI for context.\n",
    "\n",
    "The following will (by default) slurp files, wikis and discussions and aggregate these in a markdown string (that you can then save somewhere yourself)."
   ]
  },
  {
   "cell_type": "code",
   "execution_count": 11,
   "id": "4c31ad71",
   "metadata": {},
   "outputs": [
    {
     "name": "stderr",
     "output_type": "stream",
     "text": [
      "Cloning into '/var/folders/mc/c070wfh51kxd9lft8dl74q1r0000gn/T/tmpbaz121ea'...\n"
     ]
    }
   ],
   "source": [
    "# from hubcap import repo_text_aggregate\n",
    "from hubcap.repo_slurp import repo_files_mapping\n",
    "\n",
    "t = repo_files_mapping('thorwhalen/hubcap')"
   ]
  },
  {
   "cell_type": "code",
   "execution_count": 13,
   "id": "a3dabdca",
   "metadata": {},
   "outputs": [
    {
     "data": {
      "text/plain": [
       "['docsrc/conf.py',\n",
       " 'README.md',\n",
       " 'setup.py',\n",
       " 'hubcap/util.py',\n",
       " 'hubcap/tools.py',\n",
       " 'hubcap/constants.py',\n",
       " 'hubcap/__init__.py',\n",
       " 'hubcap/scrap/__init__.py',\n",
       " 'hubcap/scrap/direct_github_api.py',\n",
       " 'hubcap/examples/get_discussions.py',\n",
       " 'hubcap/examples/get_wikis.py',\n",
       " 'hubcap/examples/__init__.py',\n",
       " 'hubcap/examples/diagnose_repositories.py',\n",
       " 'hubcap/base.py',\n",
       " 'hubcap/repo_slurp.py']"
      ]
     },
     "execution_count": 13,
     "metadata": {},
     "output_type": "execute_result"
    }
   ],
   "source": []
  },
  {
   "cell_type": "code",
   "execution_count": 31,
   "id": "48307177",
   "metadata": {},
   "outputs": [],
   "source": [
    "from hubcap.repo_slurp import notebook_to_markdown\n",
    "f = '/Users/thorwhalen/Dropbox/py/proj/notebooks/000 - misc.ipynb'\n",
    "t = notebook_to_markdown(f)\n"
   ]
  },
  {
   "cell_type": "code",
   "execution_count": 56,
   "id": "52087168",
   "metadata": {},
   "outputs": [
    {
     "name": "stderr",
     "output_type": "stream",
     "text": [
      "Cloning into '/var/folders/mc/c070wfh51kxd9lft8dl74q1r0000gn/T/tmp7jf7c2iy'...\n",
      "Cloning into '/var/folders/mc/c070wfh51kxd9lft8dl74q1r0000gn/T/tmp3kwn1mu6'...\n"
     ]
    }
   ],
   "source": [
    "from hubcap.repo_slurp import repo_text_aggregate\n",
    "t = repo_text_aggregate('thorwhalen/hubcap')"
   ]
  },
  {
   "cell_type": "code",
   "execution_count": null,
   "id": "6a8075f4",
   "metadata": {},
   "outputs": [],
   "source": []
  },
  {
   "cell_type": "markdown",
   "id": "d68af0ce",
   "metadata": {},
   "source": [
    "## Other keys of RepoReader"
   ]
  },
  {
   "cell_type": "code",
   "execution_count": 21,
   "id": "090f9120",
   "metadata": {},
   "outputs": [
    {
     "data": {
      "text/plain": [
       "<hubcap.base.RepoObjects at 0x1168ad6c0>"
      ]
     },
     "execution_count": 21,
     "metadata": {},
     "output_type": "execute_result"
    }
   ],
   "source": [
    "stargazers = RepoReader('i2mint/dol')['stargazers']\n",
    "stargazers  # but you can't really do anything   # TODO: Make it work"
   ]
  },
  {
   "cell_type": "code",
   "execution_count": 27,
   "id": "d0c2728e",
   "metadata": {},
   "outputs": [
    {
     "data": {
      "text/plain": [
       "[NamedUser(login=\"thejeshgn\"),\n",
       " NamedUser(login=\"cavart28\"),\n",
       " NamedUser(login=\"charlie-dufort\"),\n",
       " NamedUser(login=\"thorwhalen\")]"
      ]
     },
     "execution_count": 27,
     "metadata": {},
     "output_type": "execute_result"
    }
   ],
   "source": [
    "# list(stargarzers)  # this will raise an error  # TODO: Should not.\n",
    "# but this will work\n",
    "list(stargazers.repo.get_stargazers())"
   ]
  },
  {
   "cell_type": "markdown",
   "id": "11117567",
   "metadata": {},
   "source": [
    "# More stuff"
   ]
  },
  {
   "cell_type": "markdown",
   "id": "d6550328",
   "metadata": {},
   "source": [
    "## See recently updated repos"
   ]
  },
  {
   "cell_type": "code",
   "execution_count": 5,
   "id": "2e93a45d",
   "metadata": {
    "ExecuteTime": {
     "end_time": "2022-08-12T19:55:33.816641Z",
     "start_time": "2022-08-12T19:55:33.778338Z"
    }
   },
   "outputs": [],
   "source": [
    "repos = i2mint"
   ]
  },
  {
   "cell_type": "code",
   "execution_count": 10,
   "id": "474f09e5",
   "metadata": {
    "ExecuteTime": {
     "end_time": "2022-08-12T19:56:18.811123Z",
     "start_time": "2022-08-12T19:56:18.735975Z"
    },
    "scrolled": false
   },
   "outputs": [
    {
     "data": {
      "text/html": [
       "<div>\n",
       "<style scoped>\n",
       "    .dataframe tbody tr th:only-of-type {\n",
       "        vertical-align: middle;\n",
       "    }\n",
       "\n",
       "    .dataframe tbody tr th {\n",
       "        vertical-align: top;\n",
       "    }\n",
       "\n",
       "    .dataframe thead th {\n",
       "        text-align: right;\n",
       "    }\n",
       "</style>\n",
       "<table border=\"1\" class=\"dataframe\">\n",
       "  <thead>\n",
       "    <tr style=\"text-align: right;\">\n",
       "      <th></th>\n",
       "      <th>id</th>\n",
       "      <th>node_id</th>\n",
       "      <th>name</th>\n",
       "      <th>full_name</th>\n",
       "      <th>private</th>\n",
       "      <th>owner</th>\n",
       "      <th>html_url</th>\n",
       "      <th>description</th>\n",
       "      <th>fork</th>\n",
       "      <th>url</th>\n",
       "      <th>...</th>\n",
       "      <th>allow_forking</th>\n",
       "      <th>is_template</th>\n",
       "      <th>web_commit_signoff_required</th>\n",
       "      <th>topics</th>\n",
       "      <th>visibility</th>\n",
       "      <th>forks</th>\n",
       "      <th>open_issues</th>\n",
       "      <th>watchers</th>\n",
       "      <th>default_branch</th>\n",
       "      <th>permissions</th>\n",
       "    </tr>\n",
       "    <tr>\n",
       "      <th>full_name</th>\n",
       "      <th></th>\n",
       "      <th></th>\n",
       "      <th></th>\n",
       "      <th></th>\n",
       "      <th></th>\n",
       "      <th></th>\n",
       "      <th></th>\n",
       "      <th></th>\n",
       "      <th></th>\n",
       "      <th></th>\n",
       "      <th></th>\n",
       "      <th></th>\n",
       "      <th></th>\n",
       "      <th></th>\n",
       "      <th></th>\n",
       "      <th></th>\n",
       "      <th></th>\n",
       "      <th></th>\n",
       "      <th></th>\n",
       "      <th></th>\n",
       "      <th></th>\n",
       "    </tr>\n",
       "  </thead>\n",
       "  <tbody>\n",
       "    <tr>\n",
       "      <th>i2mint/streamlitfront</th>\n",
       "      <td>447351185</td>\n",
       "      <td>R_kgDOGqoJkQ</td>\n",
       "      <td>streamlitfront</td>\n",
       "      <td>i2mint/streamlitfront</td>\n",
       "      <td>False</td>\n",
       "      <td>{'login': 'i2mint', 'id': 47563785, 'node_id':...</td>\n",
       "      <td>https://github.com/i2mint/streamlitfront</td>\n",
       "      <td>Generate streamlit frontends from python funct...</td>\n",
       "      <td>False</td>\n",
       "      <td>https://api.github.com/repos/i2mint/streamlitf...</td>\n",
       "      <td>...</td>\n",
       "      <td>True</td>\n",
       "      <td>False</td>\n",
       "      <td>False</td>\n",
       "      <td>[]</td>\n",
       "      <td>public</td>\n",
       "      <td>0</td>\n",
       "      <td>1</td>\n",
       "      <td>1</td>\n",
       "      <td>master</td>\n",
       "      <td>{'admin': True, 'maintain': True, 'push': True...</td>\n",
       "    </tr>\n",
       "    <tr>\n",
       "      <th>i2mint/dagapp</th>\n",
       "      <td>390780136</td>\n",
       "      <td>MDEwOlJlcG9zaXRvcnkzOTA3ODAxMzY=</td>\n",
       "      <td>dagapp</td>\n",
       "      <td>i2mint/dagapp</td>\n",
       "      <td>False</td>\n",
       "      <td>{'login': 'i2mint', 'id': 47563785, 'node_id':...</td>\n",
       "      <td>https://github.com/i2mint/dagapp</td>\n",
       "      <td>Making apps from DAGs by just snapping your fi...</td>\n",
       "      <td>False</td>\n",
       "      <td>https://api.github.com/repos/i2mint/dagapp</td>\n",
       "      <td>...</td>\n",
       "      <td>True</td>\n",
       "      <td>False</td>\n",
       "      <td>False</td>\n",
       "      <td>[]</td>\n",
       "      <td>public</td>\n",
       "      <td>0</td>\n",
       "      <td>1</td>\n",
       "      <td>2</td>\n",
       "      <td>master</td>\n",
       "      <td>{'admin': True, 'maintain': True, 'push': True...</td>\n",
       "    </tr>\n",
       "    <tr>\n",
       "      <th>i2mint/http2py</th>\n",
       "      <td>260470410</td>\n",
       "      <td>MDEwOlJlcG9zaXRvcnkyNjA0NzA0MTA=</td>\n",
       "      <td>http2py</td>\n",
       "      <td>i2mint/http2py</td>\n",
       "      <td>False</td>\n",
       "      <td>{'login': 'i2mint', 'id': 47563785, 'node_id':...</td>\n",
       "      <td>https://github.com/i2mint/http2py</td>\n",
       "      <td>Tools to create python binders to http web ser...</td>\n",
       "      <td>False</td>\n",
       "      <td>https://api.github.com/repos/i2mint/http2py</td>\n",
       "      <td>...</td>\n",
       "      <td>True</td>\n",
       "      <td>False</td>\n",
       "      <td>False</td>\n",
       "      <td>[api-wrapper, http, python, requests, webservice]</td>\n",
       "      <td>public</td>\n",
       "      <td>1</td>\n",
       "      <td>3</td>\n",
       "      <td>2</td>\n",
       "      <td>master</td>\n",
       "      <td>{'admin': True, 'maintain': True, 'push': True...</td>\n",
       "    </tr>\n",
       "    <tr>\n",
       "      <th>i2mint/i2</th>\n",
       "      <td>183055954</td>\n",
       "      <td>MDEwOlJlcG9zaXRvcnkxODMwNTU5NTQ=</td>\n",
       "      <td>i2</td>\n",
       "      <td>i2mint/i2</td>\n",
       "      <td>False</td>\n",
       "      <td>{'login': 'i2mint', 'id': 47563785, 'node_id':...</td>\n",
       "      <td>https://github.com/i2mint/i2</td>\n",
       "      <td>Python Mint creation, manipulation, and use</td>\n",
       "      <td>False</td>\n",
       "      <td>https://api.github.com/repos/i2mint/i2</td>\n",
       "      <td>...</td>\n",
       "      <td>True</td>\n",
       "      <td>False</td>\n",
       "      <td>False</td>\n",
       "      <td>[]</td>\n",
       "      <td>public</td>\n",
       "      <td>1</td>\n",
       "      <td>18</td>\n",
       "      <td>1</td>\n",
       "      <td>master</td>\n",
       "      <td>{'admin': True, 'maintain': True, 'push': True...</td>\n",
       "    </tr>\n",
       "    <tr>\n",
       "      <th>i2mint/mongodol</th>\n",
       "      <td>341721959</td>\n",
       "      <td>MDEwOlJlcG9zaXRvcnkzNDE3MjE5NTk=</td>\n",
       "      <td>mongodol</td>\n",
       "      <td>i2mint/mongodol</td>\n",
       "      <td>False</td>\n",
       "      <td>{'login': 'i2mint', 'id': 47563785, 'node_id':...</td>\n",
       "      <td>https://github.com/i2mint/mongodol</td>\n",
       "      <td>MongoDB Data Object Layer</td>\n",
       "      <td>False</td>\n",
       "      <td>https://api.github.com/repos/i2mint/mongodol</td>\n",
       "      <td>...</td>\n",
       "      <td>True</td>\n",
       "      <td>False</td>\n",
       "      <td>False</td>\n",
       "      <td>[]</td>\n",
       "      <td>public</td>\n",
       "      <td>0</td>\n",
       "      <td>3</td>\n",
       "      <td>1</td>\n",
       "      <td>master</td>\n",
       "      <td>{'admin': True, 'maintain': True, 'push': True...</td>\n",
       "    </tr>\n",
       "    <tr>\n",
       "      <th>i2mint/extrude</th>\n",
       "      <td>452468322</td>\n",
       "      <td>R_kgDOGvgeYg</td>\n",
       "      <td>extrude</td>\n",
       "      <td>i2mint/extrude</td>\n",
       "      <td>False</td>\n",
       "      <td>{'login': 'i2mint', 'id': 47563785, 'node_id':...</td>\n",
       "      <td>https://github.com/i2mint/extrude</td>\n",
       "      <td>Tool to run a composite web application to eas...</td>\n",
       "      <td>False</td>\n",
       "      <td>https://api.github.com/repos/i2mint/extrude</td>\n",
       "      <td>...</td>\n",
       "      <td>True</td>\n",
       "      <td>False</td>\n",
       "      <td>False</td>\n",
       "      <td>[]</td>\n",
       "      <td>public</td>\n",
       "      <td>0</td>\n",
       "      <td>2</td>\n",
       "      <td>1</td>\n",
       "      <td>master</td>\n",
       "      <td>{'admin': True, 'maintain': True, 'push': True...</td>\n",
       "    </tr>\n",
       "    <tr>\n",
       "      <th>i2mint/dashfront</th>\n",
       "      <td>468029481</td>\n",
       "      <td>R_kgDOG-WQKQ</td>\n",
       "      <td>dashfront</td>\n",
       "      <td>i2mint/dashfront</td>\n",
       "      <td>False</td>\n",
       "      <td>{'login': 'i2mint', 'id': 47563785, 'node_id':...</td>\n",
       "      <td>https://github.com/i2mint/dashfront</td>\n",
       "      <td>dash plugin for the front UI maker</td>\n",
       "      <td>False</td>\n",
       "      <td>https://api.github.com/repos/i2mint/dashfront</td>\n",
       "      <td>...</td>\n",
       "      <td>True</td>\n",
       "      <td>False</td>\n",
       "      <td>False</td>\n",
       "      <td>[]</td>\n",
       "      <td>public</td>\n",
       "      <td>0</td>\n",
       "      <td>0</td>\n",
       "      <td>0</td>\n",
       "      <td>master</td>\n",
       "      <td>{'admin': True, 'maintain': True, 'push': True...</td>\n",
       "    </tr>\n",
       "    <tr>\n",
       "      <th>i2mint/front</th>\n",
       "      <td>375158396</td>\n",
       "      <td>MDEwOlJlcG9zaXRvcnkzNzUxNTgzOTY=</td>\n",
       "      <td>front</td>\n",
       "      <td>i2mint/front</td>\n",
       "      <td>False</td>\n",
       "      <td>{'login': 'i2mint', 'id': 47563785, 'node_id':...</td>\n",
       "      <td>https://github.com/i2mint/front</td>\n",
       "      <td>Getting from python objects to UIs exposing them</td>\n",
       "      <td>False</td>\n",
       "      <td>https://api.github.com/repos/i2mint/front</td>\n",
       "      <td>...</td>\n",
       "      <td>True</td>\n",
       "      <td>False</td>\n",
       "      <td>False</td>\n",
       "      <td>[]</td>\n",
       "      <td>public</td>\n",
       "      <td>1</td>\n",
       "      <td>16</td>\n",
       "      <td>2</td>\n",
       "      <td>master</td>\n",
       "      <td>{'admin': True, 'maintain': True, 'push': True...</td>\n",
       "    </tr>\n",
       "    <tr>\n",
       "      <th>i2mint/py2api</th>\n",
       "      <td>270720023</td>\n",
       "      <td>MDEwOlJlcG9zaXRvcnkyNzA3MjAwMjM=</td>\n",
       "      <td>py2api</td>\n",
       "      <td>i2mint/py2api</td>\n",
       "      <td>False</td>\n",
       "      <td>{'login': 'i2mint', 'id': 47563785, 'node_id':...</td>\n",
       "      <td>https://github.com/i2mint/py2api</td>\n",
       "      <td>Expose python objects to a rest web service wi...</td>\n",
       "      <td>True</td>\n",
       "      <td>https://api.github.com/repos/i2mint/py2api</td>\n",
       "      <td>...</td>\n",
       "      <td>True</td>\n",
       "      <td>False</td>\n",
       "      <td>False</td>\n",
       "      <td>[]</td>\n",
       "      <td>public</td>\n",
       "      <td>0</td>\n",
       "      <td>0</td>\n",
       "      <td>0</td>\n",
       "      <td>master</td>\n",
       "      <td>{'admin': True, 'maintain': True, 'push': True...</td>\n",
       "    </tr>\n",
       "    <tr>\n",
       "      <th>i2mint/dynamodol</th>\n",
       "      <td>356079065</td>\n",
       "      <td>MDEwOlJlcG9zaXRvcnkzNTYwNzkwNjU=</td>\n",
       "      <td>dynamodol</td>\n",
       "      <td>i2mint/dynamodol</td>\n",
       "      <td>False</td>\n",
       "      <td>{'login': 'i2mint', 'id': 47563785, 'node_id':...</td>\n",
       "      <td>https://github.com/i2mint/dynamodol</td>\n",
       "      <td>dynamodb (through boto3) with a simple (dict-l...</td>\n",
       "      <td>False</td>\n",
       "      <td>https://api.github.com/repos/i2mint/dynamodol</td>\n",
       "      <td>...</td>\n",
       "      <td>True</td>\n",
       "      <td>False</td>\n",
       "      <td>False</td>\n",
       "      <td>[]</td>\n",
       "      <td>public</td>\n",
       "      <td>0</td>\n",
       "      <td>0</td>\n",
       "      <td>0</td>\n",
       "      <td>master</td>\n",
       "      <td>{'admin': True, 'maintain': True, 'push': True...</td>\n",
       "    </tr>\n",
       "    <tr>\n",
       "      <th>i2mint/crude</th>\n",
       "      <td>455676004</td>\n",
       "      <td>R_kgDOGykQZA</td>\n",
       "      <td>crude</td>\n",
       "      <td>i2mint/crude</td>\n",
       "      <td>False</td>\n",
       "      <td>{'login': 'i2mint', 'id': 47563785, 'node_id':...</td>\n",
       "      <td>https://github.com/i2mint/crude</td>\n",
       "      <td>Control complex python object through basic types</td>\n",
       "      <td>False</td>\n",
       "      <td>https://api.github.com/repos/i2mint/crude</td>\n",
       "      <td>...</td>\n",
       "      <td>True</td>\n",
       "      <td>False</td>\n",
       "      <td>False</td>\n",
       "      <td>[]</td>\n",
       "      <td>public</td>\n",
       "      <td>0</td>\n",
       "      <td>0</td>\n",
       "      <td>0</td>\n",
       "      <td>master</td>\n",
       "      <td>{'admin': True, 'maintain': True, 'push': True...</td>\n",
       "    </tr>\n",
       "    <tr>\n",
       "      <th>i2mint/py2dash</th>\n",
       "      <td>188473500</td>\n",
       "      <td>MDEwOlJlcG9zaXRvcnkxODg0NzM1MDA=</td>\n",
       "      <td>py2dash</td>\n",
       "      <td>i2mint/py2dash</td>\n",
       "      <td>False</td>\n",
       "      <td>{'login': 'i2mint', 'id': 47563785, 'node_id':...</td>\n",
       "      <td>https://github.com/i2mint/py2dash</td>\n",
       "      <td>Tools to produce dash (plot.ly) interfaces fro...</td>\n",
       "      <td>False</td>\n",
       "      <td>https://api.github.com/repos/i2mint/py2dash</td>\n",
       "      <td>...</td>\n",
       "      <td>True</td>\n",
       "      <td>False</td>\n",
       "      <td>False</td>\n",
       "      <td>[]</td>\n",
       "      <td>public</td>\n",
       "      <td>1</td>\n",
       "      <td>4</td>\n",
       "      <td>2</td>\n",
       "      <td>master</td>\n",
       "      <td>{'admin': True, 'maintain': True, 'push': True...</td>\n",
       "    </tr>\n",
       "    <tr>\n",
       "      <th>i2mint/examples</th>\n",
       "      <td>203018601</td>\n",
       "      <td>MDEwOlJlcG9zaXRvcnkyMDMwMTg2MDE=</td>\n",
       "      <td>examples</td>\n",
       "      <td>i2mint/examples</td>\n",
       "      <td>False</td>\n",
       "      <td>{'login': 'i2mint', 'id': 47563785, 'node_id':...</td>\n",
       "      <td>https://github.com/i2mint/examples</td>\n",
       "      <td>Examples of i2i applications</td>\n",
       "      <td>False</td>\n",
       "      <td>https://api.github.com/repos/i2mint/examples</td>\n",
       "      <td>...</td>\n",
       "      <td>True</td>\n",
       "      <td>False</td>\n",
       "      <td>False</td>\n",
       "      <td>[]</td>\n",
       "      <td>public</td>\n",
       "      <td>1</td>\n",
       "      <td>1</td>\n",
       "      <td>0</td>\n",
       "      <td>master</td>\n",
       "      <td>{'admin': True, 'maintain': True, 'push': True...</td>\n",
       "    </tr>\n",
       "  </tbody>\n",
       "</table>\n",
       "<p>13 rows × 79 columns</p>\n",
       "</div>"
      ],
      "text/plain": [
       "                              id                           node_id  \\\n",
       "full_name                                                            \n",
       "i2mint/streamlitfront  447351185                      R_kgDOGqoJkQ   \n",
       "i2mint/dagapp          390780136  MDEwOlJlcG9zaXRvcnkzOTA3ODAxMzY=   \n",
       "i2mint/http2py         260470410  MDEwOlJlcG9zaXRvcnkyNjA0NzA0MTA=   \n",
       "i2mint/i2              183055954  MDEwOlJlcG9zaXRvcnkxODMwNTU5NTQ=   \n",
       "i2mint/mongodol        341721959  MDEwOlJlcG9zaXRvcnkzNDE3MjE5NTk=   \n",
       "i2mint/extrude         452468322                      R_kgDOGvgeYg   \n",
       "i2mint/dashfront       468029481                      R_kgDOG-WQKQ   \n",
       "i2mint/front           375158396  MDEwOlJlcG9zaXRvcnkzNzUxNTgzOTY=   \n",
       "i2mint/py2api          270720023  MDEwOlJlcG9zaXRvcnkyNzA3MjAwMjM=   \n",
       "i2mint/dynamodol       356079065  MDEwOlJlcG9zaXRvcnkzNTYwNzkwNjU=   \n",
       "i2mint/crude           455676004                      R_kgDOGykQZA   \n",
       "i2mint/py2dash         188473500  MDEwOlJlcG9zaXRvcnkxODg0NzM1MDA=   \n",
       "i2mint/examples        203018601  MDEwOlJlcG9zaXRvcnkyMDMwMTg2MDE=   \n",
       "\n",
       "                                 name              full_name  private  \\\n",
       "full_name                                                               \n",
       "i2mint/streamlitfront  streamlitfront  i2mint/streamlitfront    False   \n",
       "i2mint/dagapp                  dagapp          i2mint/dagapp    False   \n",
       "i2mint/http2py                http2py         i2mint/http2py    False   \n",
       "i2mint/i2                          i2              i2mint/i2    False   \n",
       "i2mint/mongodol              mongodol        i2mint/mongodol    False   \n",
       "i2mint/extrude                extrude         i2mint/extrude    False   \n",
       "i2mint/dashfront            dashfront       i2mint/dashfront    False   \n",
       "i2mint/front                    front           i2mint/front    False   \n",
       "i2mint/py2api                  py2api          i2mint/py2api    False   \n",
       "i2mint/dynamodol            dynamodol       i2mint/dynamodol    False   \n",
       "i2mint/crude                    crude           i2mint/crude    False   \n",
       "i2mint/py2dash                py2dash         i2mint/py2dash    False   \n",
       "i2mint/examples              examples        i2mint/examples    False   \n",
       "\n",
       "                                                                   owner  \\\n",
       "full_name                                                                  \n",
       "i2mint/streamlitfront  {'login': 'i2mint', 'id': 47563785, 'node_id':...   \n",
       "i2mint/dagapp          {'login': 'i2mint', 'id': 47563785, 'node_id':...   \n",
       "i2mint/http2py         {'login': 'i2mint', 'id': 47563785, 'node_id':...   \n",
       "i2mint/i2              {'login': 'i2mint', 'id': 47563785, 'node_id':...   \n",
       "i2mint/mongodol        {'login': 'i2mint', 'id': 47563785, 'node_id':...   \n",
       "i2mint/extrude         {'login': 'i2mint', 'id': 47563785, 'node_id':...   \n",
       "i2mint/dashfront       {'login': 'i2mint', 'id': 47563785, 'node_id':...   \n",
       "i2mint/front           {'login': 'i2mint', 'id': 47563785, 'node_id':...   \n",
       "i2mint/py2api          {'login': 'i2mint', 'id': 47563785, 'node_id':...   \n",
       "i2mint/dynamodol       {'login': 'i2mint', 'id': 47563785, 'node_id':...   \n",
       "i2mint/crude           {'login': 'i2mint', 'id': 47563785, 'node_id':...   \n",
       "i2mint/py2dash         {'login': 'i2mint', 'id': 47563785, 'node_id':...   \n",
       "i2mint/examples        {'login': 'i2mint', 'id': 47563785, 'node_id':...   \n",
       "\n",
       "                                                       html_url  \\\n",
       "full_name                                                         \n",
       "i2mint/streamlitfront  https://github.com/i2mint/streamlitfront   \n",
       "i2mint/dagapp                  https://github.com/i2mint/dagapp   \n",
       "i2mint/http2py                https://github.com/i2mint/http2py   \n",
       "i2mint/i2                          https://github.com/i2mint/i2   \n",
       "i2mint/mongodol              https://github.com/i2mint/mongodol   \n",
       "i2mint/extrude                https://github.com/i2mint/extrude   \n",
       "i2mint/dashfront            https://github.com/i2mint/dashfront   \n",
       "i2mint/front                    https://github.com/i2mint/front   \n",
       "i2mint/py2api                  https://github.com/i2mint/py2api   \n",
       "i2mint/dynamodol            https://github.com/i2mint/dynamodol   \n",
       "i2mint/crude                    https://github.com/i2mint/crude   \n",
       "i2mint/py2dash                https://github.com/i2mint/py2dash   \n",
       "i2mint/examples              https://github.com/i2mint/examples   \n",
       "\n",
       "                                                             description  \\\n",
       "full_name                                                                  \n",
       "i2mint/streamlitfront  Generate streamlit frontends from python funct...   \n",
       "i2mint/dagapp          Making apps from DAGs by just snapping your fi...   \n",
       "i2mint/http2py         Tools to create python binders to http web ser...   \n",
       "i2mint/i2                    Python Mint creation, manipulation, and use   \n",
       "i2mint/mongodol                                MongoDB Data Object Layer   \n",
       "i2mint/extrude         Tool to run a composite web application to eas...   \n",
       "i2mint/dashfront                      dash plugin for the front UI maker   \n",
       "i2mint/front            Getting from python objects to UIs exposing them   \n",
       "i2mint/py2api          Expose python objects to a rest web service wi...   \n",
       "i2mint/dynamodol       dynamodb (through boto3) with a simple (dict-l...   \n",
       "i2mint/crude           Control complex python object through basic types   \n",
       "i2mint/py2dash         Tools to produce dash (plot.ly) interfaces fro...   \n",
       "i2mint/examples                             Examples of i2i applications   \n",
       "\n",
       "                        fork  \\\n",
       "full_name                      \n",
       "i2mint/streamlitfront  False   \n",
       "i2mint/dagapp          False   \n",
       "i2mint/http2py         False   \n",
       "i2mint/i2              False   \n",
       "i2mint/mongodol        False   \n",
       "i2mint/extrude         False   \n",
       "i2mint/dashfront       False   \n",
       "i2mint/front           False   \n",
       "i2mint/py2api           True   \n",
       "i2mint/dynamodol       False   \n",
       "i2mint/crude           False   \n",
       "i2mint/py2dash         False   \n",
       "i2mint/examples        False   \n",
       "\n",
       "                                                                     url  ...  \\\n",
       "full_name                                                                 ...   \n",
       "i2mint/streamlitfront  https://api.github.com/repos/i2mint/streamlitf...  ...   \n",
       "i2mint/dagapp                 https://api.github.com/repos/i2mint/dagapp  ...   \n",
       "i2mint/http2py               https://api.github.com/repos/i2mint/http2py  ...   \n",
       "i2mint/i2                         https://api.github.com/repos/i2mint/i2  ...   \n",
       "i2mint/mongodol             https://api.github.com/repos/i2mint/mongodol  ...   \n",
       "i2mint/extrude               https://api.github.com/repos/i2mint/extrude  ...   \n",
       "i2mint/dashfront           https://api.github.com/repos/i2mint/dashfront  ...   \n",
       "i2mint/front                   https://api.github.com/repos/i2mint/front  ...   \n",
       "i2mint/py2api                 https://api.github.com/repos/i2mint/py2api  ...   \n",
       "i2mint/dynamodol           https://api.github.com/repos/i2mint/dynamodol  ...   \n",
       "i2mint/crude                   https://api.github.com/repos/i2mint/crude  ...   \n",
       "i2mint/py2dash               https://api.github.com/repos/i2mint/py2dash  ...   \n",
       "i2mint/examples             https://api.github.com/repos/i2mint/examples  ...   \n",
       "\n",
       "                      allow_forking is_template web_commit_signoff_required  \\\n",
       "full_name                                                                     \n",
       "i2mint/streamlitfront          True       False                       False   \n",
       "i2mint/dagapp                  True       False                       False   \n",
       "i2mint/http2py                 True       False                       False   \n",
       "i2mint/i2                      True       False                       False   \n",
       "i2mint/mongodol                True       False                       False   \n",
       "i2mint/extrude                 True       False                       False   \n",
       "i2mint/dashfront               True       False                       False   \n",
       "i2mint/front                   True       False                       False   \n",
       "i2mint/py2api                  True       False                       False   \n",
       "i2mint/dynamodol               True       False                       False   \n",
       "i2mint/crude                   True       False                       False   \n",
       "i2mint/py2dash                 True       False                       False   \n",
       "i2mint/examples                True       False                       False   \n",
       "\n",
       "                                                                  topics  \\\n",
       "full_name                                                                  \n",
       "i2mint/streamlitfront                                                 []   \n",
       "i2mint/dagapp                                                         []   \n",
       "i2mint/http2py         [api-wrapper, http, python, requests, webservice]   \n",
       "i2mint/i2                                                             []   \n",
       "i2mint/mongodol                                                       []   \n",
       "i2mint/extrude                                                        []   \n",
       "i2mint/dashfront                                                      []   \n",
       "i2mint/front                                                          []   \n",
       "i2mint/py2api                                                         []   \n",
       "i2mint/dynamodol                                                      []   \n",
       "i2mint/crude                                                          []   \n",
       "i2mint/py2dash                                                        []   \n",
       "i2mint/examples                                                       []   \n",
       "\n",
       "                      visibility forks open_issues watchers default_branch  \\\n",
       "full_name                                                                    \n",
       "i2mint/streamlitfront     public     0           1        1         master   \n",
       "i2mint/dagapp             public     0           1        2         master   \n",
       "i2mint/http2py            public     1           3        2         master   \n",
       "i2mint/i2                 public     1          18        1         master   \n",
       "i2mint/mongodol           public     0           3        1         master   \n",
       "i2mint/extrude            public     0           2        1         master   \n",
       "i2mint/dashfront          public     0           0        0         master   \n",
       "i2mint/front              public     1          16        2         master   \n",
       "i2mint/py2api             public     0           0        0         master   \n",
       "i2mint/dynamodol          public     0           0        0         master   \n",
       "i2mint/crude              public     0           0        0         master   \n",
       "i2mint/py2dash            public     1           4        2         master   \n",
       "i2mint/examples           public     1           1        0         master   \n",
       "\n",
       "                                                             permissions  \n",
       "full_name                                                                 \n",
       "i2mint/streamlitfront  {'admin': True, 'maintain': True, 'push': True...  \n",
       "i2mint/dagapp          {'admin': True, 'maintain': True, 'push': True...  \n",
       "i2mint/http2py         {'admin': True, 'maintain': True, 'push': True...  \n",
       "i2mint/i2              {'admin': True, 'maintain': True, 'push': True...  \n",
       "i2mint/mongodol        {'admin': True, 'maintain': True, 'push': True...  \n",
       "i2mint/extrude         {'admin': True, 'maintain': True, 'push': True...  \n",
       "i2mint/dashfront       {'admin': True, 'maintain': True, 'push': True...  \n",
       "i2mint/front           {'admin': True, 'maintain': True, 'push': True...  \n",
       "i2mint/py2api          {'admin': True, 'maintain': True, 'push': True...  \n",
       "i2mint/dynamodol       {'admin': True, 'maintain': True, 'push': True...  \n",
       "i2mint/crude           {'admin': True, 'maintain': True, 'push': True...  \n",
       "i2mint/py2dash         {'admin': True, 'maintain': True, 'push': True...  \n",
       "i2mint/examples        {'admin': True, 'maintain': True, 'push': True...  \n",
       "\n",
       "[13 rows x 79 columns]"
      ]
     },
     "execution_count": 10,
     "metadata": {},
     "output_type": "execute_result"
    }
   ],
   "source": [
    "from hubcap.examples import date_selection_lidx, get_last_build_status\n",
    "\n",
    "updated_recently = repos.iloc[date_selection_lidx(repos, hours_ago=24 * 200)]\n",
    "updated_recently"
   ]
  },
  {
   "cell_type": "code",
   "execution_count": null,
   "id": "726dd854",
   "metadata": {},
   "outputs": [],
   "source": []
  },
  {
   "cell_type": "markdown",
   "id": "b828ec49",
   "metadata": {},
   "source": [
    "## check if most recently changed repositories' CI failed or not"
   ]
  },
  {
   "cell_type": "code",
   "execution_count": 14,
   "id": "18477209",
   "metadata": {
    "ExecuteTime": {
     "end_time": "2022-08-12T19:59:23.371020Z",
     "start_time": "2022-08-12T19:58:59.169747Z"
    }
   },
   "outputs": [
    {
     "name": "stdout",
     "output_type": "stream",
     "text": [
      "i2mint/streamlitfront    success\n",
      "i2mint/dagapp            success\n",
      "i2mint/http2py           success\n",
      "i2mint/i2                success\n",
      "i2mint/mongodol          success\n",
      "                          ...   \n",
      "i2mint/udos              failure\n",
      "i2mint/qh                   None\n",
      "i2mint/pyckup            failure\n",
      "i2mint/c2py                 None\n",
      "i2mint/dexis             failure\n",
      "Length: 61, dtype: object\n"
     ]
    }
   ],
   "source": [
    "repos = i2mint\n",
    "updated_recently = repos.iloc[date_selection_lidx(repos, hours_ago=24 * 365)]\n",
    "i2mint_cis = {repo: get_last_build_status(repo) for repo in updated_recently['full_name']}\n",
    "print(pd.Series(i2mint_cis))"
   ]
  },
  {
   "cell_type": "code",
   "execution_count": 15,
   "id": "a0c480cf",
   "metadata": {
    "ExecuteTime": {
     "end_time": "2022-08-12T19:59:33.272978Z",
     "start_time": "2022-08-12T19:59:23.373799Z"
    }
   },
   "outputs": [
    {
     "data": {
      "text/plain": [
       "otosense/know            failure\n",
       "otosense/plunk           failure\n",
       "otosense/shaded          success\n",
       "otosense/odat               None\n",
       "otosense/trait              None\n",
       "otosense/toy                None\n",
       "otosense/components         None\n",
       "otosense/qo                 None\n",
       "otosense/splatter           None\n",
       "otosense/oplot           success\n",
       "otosense/hum             success\n",
       "otosense/fitted          success\n",
       "otosense/content            None\n",
       "otosense/hear            failure\n",
       "otosense/recode          success\n",
       "otosense/oui                None\n",
       "otosense/lined           failure\n",
       "otosense/taped           success\n",
       "otosense/atypes          failure\n",
       "otosense/slang           failure\n",
       "otosense/viable          success\n",
       "otosense/gurgle          success\n",
       "otosense/forged          failure\n",
       "otosense/linkup          success\n",
       "otosense/slink           success\n",
       "otosense/omisc              None\n",
       "otosense/oui_notebook       None\n",
       "otosense/ooq                None\n",
       "otosense/peruse             None\n",
       "dtype: object"
      ]
     },
     "execution_count": 15,
     "metadata": {},
     "output_type": "execute_result"
    }
   ],
   "source": [
    "repos = otosense\n",
    "updated_recently = repos.iloc[date_selection_lidx(repos, hours_ago=24 * 365)]\n",
    "otosense_cis = {repo: get_last_build_status(repo) for repo in updated_recently['full_name']}\n",
    "print(pd.Series(otosense_cis))"
   ]
  },
  {
   "cell_type": "code",
   "execution_count": 13,
   "id": "1ea667b2",
   "metadata": {
    "ExecuteTime": {
     "end_time": "2022-08-12T19:58:45.715781Z",
     "start_time": "2022-08-12T19:58:45.673686Z"
    }
   },
   "outputs": [
    {
     "name": "stdout",
     "output_type": "stream",
     "text": [
      "otosense/know            failure\n",
      "otosense/plunk           failure\n",
      "otosense/shaded          success\n",
      "otosense/odat               None\n",
      "otosense/trait              None\n",
      "otosense/toy                None\n",
      "otosense/components         None\n",
      "otosense/qo                 None\n",
      "otosense/splatter           None\n",
      "otosense/oplot           success\n",
      "otosense/hum             success\n",
      "otosense/fitted          success\n",
      "otosense/content            None\n",
      "otosense/hear            failure\n",
      "otosense/recode          success\n",
      "otosense/oui                None\n",
      "otosense/lined           failure\n",
      "otosense/taped           success\n",
      "otosense/atypes          failure\n",
      "otosense/slang           failure\n",
      "otosense/viable          success\n",
      "otosense/gurgle          success\n",
      "otosense/forged          failure\n",
      "otosense/linkup          success\n",
      "otosense/slink           success\n",
      "otosense/omisc              None\n",
      "otosense/oui_notebook       None\n",
      "otosense/ooq                None\n",
      "otosense/peruse             None\n",
      "dtype: object\n"
     ]
    }
   ],
   "source": [
    "print(pd.Series(i2mint_cis))"
   ]
  },
  {
   "cell_type": "markdown",
   "id": "0fa3e975",
   "metadata": {},
   "source": [
    "## See actions status of repository"
   ]
  },
  {
   "cell_type": "code",
   "execution_count": 97,
   "id": "a840bbce",
   "metadata": {
    "ExecuteTime": {
     "end_time": "2021-11-22T20:47:47.119516Z",
     "start_time": "2021-11-22T20:47:46.353960Z"
    }
   },
   "outputs": [
    {
     "data": {
      "text/html": [
       "<div>\n",
       "<style scoped>\n",
       "    .dataframe tbody tr th:only-of-type {\n",
       "        vertical-align: middle;\n",
       "    }\n",
       "\n",
       "    .dataframe tbody tr th {\n",
       "        vertical-align: top;\n",
       "    }\n",
       "\n",
       "    .dataframe thead th {\n",
       "        text-align: right;\n",
       "    }\n",
       "</style>\n",
       "<table border=\"1\" class=\"dataframe\">\n",
       "  <thead>\n",
       "    <tr style=\"text-align: right;\">\n",
       "      <th></th>\n",
       "      <th>id</th>\n",
       "      <th>name</th>\n",
       "      <th>node_id</th>\n",
       "      <th>head_branch</th>\n",
       "      <th>head_sha</th>\n",
       "      <th>run_number</th>\n",
       "      <th>event</th>\n",
       "      <th>status</th>\n",
       "      <th>conclusion</th>\n",
       "      <th>workflow_id</th>\n",
       "      <th>...</th>\n",
       "      <th>logs_url</th>\n",
       "      <th>check_suite_url</th>\n",
       "      <th>artifacts_url</th>\n",
       "      <th>cancel_url</th>\n",
       "      <th>rerun_url</th>\n",
       "      <th>previous_attempt_url</th>\n",
       "      <th>workflow_url</th>\n",
       "      <th>head_commit</th>\n",
       "      <th>repository</th>\n",
       "      <th>head_repository</th>\n",
       "    </tr>\n",
       "  </thead>\n",
       "  <tbody>\n",
       "    <tr>\n",
       "      <th>0</th>\n",
       "      <td>1482617159</td>\n",
       "      <td>Continuous Integration</td>\n",
       "      <td>WFR_kwLOFotyws5YXvFH</td>\n",
       "      <td>master</td>\n",
       "      <td>c04fee2376fd99be48225b029c46cae48d7faa64</td>\n",
       "      <td>27</td>\n",
       "      <td>push</td>\n",
       "      <td>completed</td>\n",
       "      <td>success</td>\n",
       "      <td>10563228</td>\n",
       "      <td>...</td>\n",
       "      <td>https://api.github.com/repos/otosense/recode/a...</td>\n",
       "      <td>https://api.github.com/repos/otosense/recode/c...</td>\n",
       "      <td>https://api.github.com/repos/otosense/recode/a...</td>\n",
       "      <td>https://api.github.com/repos/otosense/recode/a...</td>\n",
       "      <td>https://api.github.com/repos/otosense/recode/a...</td>\n",
       "      <td>None</td>\n",
       "      <td>https://api.github.com/repos/otosense/recode/a...</td>\n",
       "      <td>{'id': 'c04fee2376fd99be48225b029c46cae48d7faa...</td>\n",
       "      <td>{'id': 378237634, 'node_id': 'MDEwOlJlcG9zaXRv...</td>\n",
       "      <td>{'id': 378237634, 'node_id': 'MDEwOlJlcG9zaXRv...</td>\n",
       "    </tr>\n",
       "    <tr>\n",
       "      <th>1</th>\n",
       "      <td>1482609040</td>\n",
       "      <td>Continuous Integration</td>\n",
       "      <td>WFR_kwLOFotyws5YXtGQ</td>\n",
       "      <td>master</td>\n",
       "      <td>99ab14d08b4265487b032d55c178564607f2a0b5</td>\n",
       "      <td>26</td>\n",
       "      <td>push</td>\n",
       "      <td>completed</td>\n",
       "      <td>success</td>\n",
       "      <td>10563228</td>\n",
       "      <td>...</td>\n",
       "      <td>https://api.github.com/repos/otosense/recode/a...</td>\n",
       "      <td>https://api.github.com/repos/otosense/recode/c...</td>\n",
       "      <td>https://api.github.com/repos/otosense/recode/a...</td>\n",
       "      <td>https://api.github.com/repos/otosense/recode/a...</td>\n",
       "      <td>https://api.github.com/repos/otosense/recode/a...</td>\n",
       "      <td>None</td>\n",
       "      <td>https://api.github.com/repos/otosense/recode/a...</td>\n",
       "      <td>{'id': '99ab14d08b4265487b032d55c178564607f2a0...</td>\n",
       "      <td>{'id': 378237634, 'node_id': 'MDEwOlJlcG9zaXRv...</td>\n",
       "      <td>{'id': 378237634, 'node_id': 'MDEwOlJlcG9zaXRv...</td>\n",
       "    </tr>\n",
       "    <tr>\n",
       "      <th>2</th>\n",
       "      <td>1451323898</td>\n",
       "      <td>Continuous Integration</td>\n",
       "      <td>WFR_kwLOFotyws5WgXH6</td>\n",
       "      <td>master</td>\n",
       "      <td>e7412685be5d99b4421910ca4b08efefed8529fa</td>\n",
       "      <td>25</td>\n",
       "      <td>push</td>\n",
       "      <td>completed</td>\n",
       "      <td>success</td>\n",
       "      <td>10563228</td>\n",
       "      <td>...</td>\n",
       "      <td>https://api.github.com/repos/otosense/recode/a...</td>\n",
       "      <td>https://api.github.com/repos/otosense/recode/c...</td>\n",
       "      <td>https://api.github.com/repos/otosense/recode/a...</td>\n",
       "      <td>https://api.github.com/repos/otosense/recode/a...</td>\n",
       "      <td>https://api.github.com/repos/otosense/recode/a...</td>\n",
       "      <td>None</td>\n",
       "      <td>https://api.github.com/repos/otosense/recode/a...</td>\n",
       "      <td>{'id': 'e7412685be5d99b4421910ca4b08efefed8529...</td>\n",
       "      <td>{'id': 378237634, 'node_id': 'MDEwOlJlcG9zaXRv...</td>\n",
       "      <td>{'id': 378237634, 'node_id': 'MDEwOlJlcG9zaXRv...</td>\n",
       "    </tr>\n",
       "    <tr>\n",
       "      <th>3</th>\n",
       "      <td>1451093355</td>\n",
       "      <td>Continuous Integration</td>\n",
       "      <td>WFR_kwLOFotyws5Wfe1r</td>\n",
       "      <td>master</td>\n",
       "      <td>73ac6ad5cd36b91a68c09212e5f3861a267ae9d8</td>\n",
       "      <td>24</td>\n",
       "      <td>push</td>\n",
       "      <td>completed</td>\n",
       "      <td>success</td>\n",
       "      <td>10563228</td>\n",
       "      <td>...</td>\n",
       "      <td>https://api.github.com/repos/otosense/recode/a...</td>\n",
       "      <td>https://api.github.com/repos/otosense/recode/c...</td>\n",
       "      <td>https://api.github.com/repos/otosense/recode/a...</td>\n",
       "      <td>https://api.github.com/repos/otosense/recode/a...</td>\n",
       "      <td>https://api.github.com/repos/otosense/recode/a...</td>\n",
       "      <td>None</td>\n",
       "      <td>https://api.github.com/repos/otosense/recode/a...</td>\n",
       "      <td>{'id': '73ac6ad5cd36b91a68c09212e5f3861a267ae9...</td>\n",
       "      <td>{'id': 378237634, 'node_id': 'MDEwOlJlcG9zaXRv...</td>\n",
       "      <td>{'id': 378237634, 'node_id': 'MDEwOlJlcG9zaXRv...</td>\n",
       "    </tr>\n",
       "    <tr>\n",
       "      <th>4</th>\n",
       "      <td>1446073840</td>\n",
       "      <td>Continuous Integration</td>\n",
       "      <td>WFR_kwLOFotyws5WMVXw</td>\n",
       "      <td>master</td>\n",
       "      <td>46c569b11db2da8ef1df48cb268d0ec29136c87b</td>\n",
       "      <td>23</td>\n",
       "      <td>push</td>\n",
       "      <td>completed</td>\n",
       "      <td>success</td>\n",
       "      <td>10563228</td>\n",
       "      <td>...</td>\n",
       "      <td>https://api.github.com/repos/otosense/recode/a...</td>\n",
       "      <td>https://api.github.com/repos/otosense/recode/c...</td>\n",
       "      <td>https://api.github.com/repos/otosense/recode/a...</td>\n",
       "      <td>https://api.github.com/repos/otosense/recode/a...</td>\n",
       "      <td>https://api.github.com/repos/otosense/recode/a...</td>\n",
       "      <td>None</td>\n",
       "      <td>https://api.github.com/repos/otosense/recode/a...</td>\n",
       "      <td>{'id': '46c569b11db2da8ef1df48cb268d0ec29136c8...</td>\n",
       "      <td>{'id': 378237634, 'node_id': 'MDEwOlJlcG9zaXRv...</td>\n",
       "      <td>{'id': 378237634, 'node_id': 'MDEwOlJlcG9zaXRv...</td>\n",
       "    </tr>\n",
       "    <tr>\n",
       "      <th>5</th>\n",
       "      <td>1445890664</td>\n",
       "      <td>Continuous Integration</td>\n",
       "      <td>WFR_kwLOFotyws5WLopo</td>\n",
       "      <td>master</td>\n",
       "      <td>8a936e2a36f45128139f8c8419c2edb6bd6eb257</td>\n",
       "      <td>22</td>\n",
       "      <td>push</td>\n",
       "      <td>completed</td>\n",
       "      <td>success</td>\n",
       "      <td>10563228</td>\n",
       "      <td>...</td>\n",
       "      <td>https://api.github.com/repos/otosense/recode/a...</td>\n",
       "      <td>https://api.github.com/repos/otosense/recode/c...</td>\n",
       "      <td>https://api.github.com/repos/otosense/recode/a...</td>\n",
       "      <td>https://api.github.com/repos/otosense/recode/a...</td>\n",
       "      <td>https://api.github.com/repos/otosense/recode/a...</td>\n",
       "      <td>None</td>\n",
       "      <td>https://api.github.com/repos/otosense/recode/a...</td>\n",
       "      <td>{'id': '8a936e2a36f45128139f8c8419c2edb6bd6eb2...</td>\n",
       "      <td>{'id': 378237634, 'node_id': 'MDEwOlJlcG9zaXRv...</td>\n",
       "      <td>{'id': 378237634, 'node_id': 'MDEwOlJlcG9zaXRv...</td>\n",
       "    </tr>\n",
       "    <tr>\n",
       "      <th>6</th>\n",
       "      <td>1334360205</td>\n",
       "      <td>Continuous Integration</td>\n",
       "      <td>WFR_kwLOFotyws5PiLiN</td>\n",
       "      <td>master</td>\n",
       "      <td>8a0dd8c1ba3fc17883907c12e12ea4fa1fd39bc6</td>\n",
       "      <td>21</td>\n",
       "      <td>push</td>\n",
       "      <td>completed</td>\n",
       "      <td>success</td>\n",
       "      <td>10563228</td>\n",
       "      <td>...</td>\n",
       "      <td>https://api.github.com/repos/otosense/recode/a...</td>\n",
       "      <td>https://api.github.com/repos/otosense/recode/c...</td>\n",
       "      <td>https://api.github.com/repos/otosense/recode/a...</td>\n",
       "      <td>https://api.github.com/repos/otosense/recode/a...</td>\n",
       "      <td>https://api.github.com/repos/otosense/recode/a...</td>\n",
       "      <td>None</td>\n",
       "      <td>https://api.github.com/repos/otosense/recode/a...</td>\n",
       "      <td>{'id': '8a0dd8c1ba3fc17883907c12e12ea4fa1fd39b...</td>\n",
       "      <td>{'id': 378237634, 'node_id': 'MDEwOlJlcG9zaXRv...</td>\n",
       "      <td>{'id': 378237634, 'node_id': 'MDEwOlJlcG9zaXRv...</td>\n",
       "    </tr>\n",
       "    <tr>\n",
       "      <th>7</th>\n",
       "      <td>1207387860</td>\n",
       "      <td>Continuous Integration</td>\n",
       "      <td>WFR_kwLOFotyws5H90bU</td>\n",
       "      <td>master</td>\n",
       "      <td>9adaa01285efc20b1816f6afaebcd7512500c7f4</td>\n",
       "      <td>20</td>\n",
       "      <td>push</td>\n",
       "      <td>completed</td>\n",
       "      <td>success</td>\n",
       "      <td>10563228</td>\n",
       "      <td>...</td>\n",
       "      <td>https://api.github.com/repos/otosense/recode/a...</td>\n",
       "      <td>https://api.github.com/repos/otosense/recode/c...</td>\n",
       "      <td>https://api.github.com/repos/otosense/recode/a...</td>\n",
       "      <td>https://api.github.com/repos/otosense/recode/a...</td>\n",
       "      <td>https://api.github.com/repos/otosense/recode/a...</td>\n",
       "      <td>None</td>\n",
       "      <td>https://api.github.com/repos/otosense/recode/a...</td>\n",
       "      <td>{'id': '9adaa01285efc20b1816f6afaebcd7512500c7...</td>\n",
       "      <td>{'id': 378237634, 'node_id': 'MDEwOlJlcG9zaXRv...</td>\n",
       "      <td>{'id': 378237634, 'node_id': 'MDEwOlJlcG9zaXRv...</td>\n",
       "    </tr>\n",
       "    <tr>\n",
       "      <th>8</th>\n",
       "      <td>1207387459</td>\n",
       "      <td>Continuous Integration</td>\n",
       "      <td>WFR_kwLOFotyws5H90VD</td>\n",
       "      <td>master</td>\n",
       "      <td>502dd673aaceab85d760dd0f440311d89e9240cf</td>\n",
       "      <td>19</td>\n",
       "      <td>push</td>\n",
       "      <td>completed</td>\n",
       "      <td>failure</td>\n",
       "      <td>10563228</td>\n",
       "      <td>...</td>\n",
       "      <td>https://api.github.com/repos/otosense/recode/a...</td>\n",
       "      <td>https://api.github.com/repos/otosense/recode/c...</td>\n",
       "      <td>https://api.github.com/repos/otosense/recode/a...</td>\n",
       "      <td>https://api.github.com/repos/otosense/recode/a...</td>\n",
       "      <td>https://api.github.com/repos/otosense/recode/a...</td>\n",
       "      <td>None</td>\n",
       "      <td>https://api.github.com/repos/otosense/recode/a...</td>\n",
       "      <td>{'id': '502dd673aaceab85d760dd0f440311d89e9240...</td>\n",
       "      <td>{'id': 378237634, 'node_id': 'MDEwOlJlcG9zaXRv...</td>\n",
       "      <td>{'id': 378237634, 'node_id': 'MDEwOlJlcG9zaXRv...</td>\n",
       "    </tr>\n",
       "    <tr>\n",
       "      <th>9</th>\n",
       "      <td>1207386641</td>\n",
       "      <td>Continuous Integration</td>\n",
       "      <td>WFR_kwLOFotyws5H90IR</td>\n",
       "      <td>master</td>\n",
       "      <td>c9e7cd2e0c435d66bbe0e90e03f90616e41db349</td>\n",
       "      <td>18</td>\n",
       "      <td>push</td>\n",
       "      <td>completed</td>\n",
       "      <td>failure</td>\n",
       "      <td>10563228</td>\n",
       "      <td>...</td>\n",
       "      <td>https://api.github.com/repos/otosense/recode/a...</td>\n",
       "      <td>https://api.github.com/repos/otosense/recode/c...</td>\n",
       "      <td>https://api.github.com/repos/otosense/recode/a...</td>\n",
       "      <td>https://api.github.com/repos/otosense/recode/a...</td>\n",
       "      <td>https://api.github.com/repos/otosense/recode/a...</td>\n",
       "      <td>None</td>\n",
       "      <td>https://api.github.com/repos/otosense/recode/a...</td>\n",
       "      <td>{'id': 'c9e7cd2e0c435d66bbe0e90e03f90616e41db3...</td>\n",
       "      <td>{'id': 378237634, 'node_id': 'MDEwOlJlcG9zaXRv...</td>\n",
       "      <td>{'id': 378237634, 'node_id': 'MDEwOlJlcG9zaXRv...</td>\n",
       "    </tr>\n",
       "  </tbody>\n",
       "</table>\n",
       "<p>10 rows × 30 columns</p>\n",
       "</div>"
      ],
      "text/plain": [
       "           id                    name               node_id head_branch  \\\n",
       "0  1482617159  Continuous Integration  WFR_kwLOFotyws5YXvFH      master   \n",
       "1  1482609040  Continuous Integration  WFR_kwLOFotyws5YXtGQ      master   \n",
       "2  1451323898  Continuous Integration  WFR_kwLOFotyws5WgXH6      master   \n",
       "3  1451093355  Continuous Integration  WFR_kwLOFotyws5Wfe1r      master   \n",
       "4  1446073840  Continuous Integration  WFR_kwLOFotyws5WMVXw      master   \n",
       "5  1445890664  Continuous Integration  WFR_kwLOFotyws5WLopo      master   \n",
       "6  1334360205  Continuous Integration  WFR_kwLOFotyws5PiLiN      master   \n",
       "7  1207387860  Continuous Integration  WFR_kwLOFotyws5H90bU      master   \n",
       "8  1207387459  Continuous Integration  WFR_kwLOFotyws5H90VD      master   \n",
       "9  1207386641  Continuous Integration  WFR_kwLOFotyws5H90IR      master   \n",
       "\n",
       "                                   head_sha  run_number event     status  \\\n",
       "0  c04fee2376fd99be48225b029c46cae48d7faa64          27  push  completed   \n",
       "1  99ab14d08b4265487b032d55c178564607f2a0b5          26  push  completed   \n",
       "2  e7412685be5d99b4421910ca4b08efefed8529fa          25  push  completed   \n",
       "3  73ac6ad5cd36b91a68c09212e5f3861a267ae9d8          24  push  completed   \n",
       "4  46c569b11db2da8ef1df48cb268d0ec29136c87b          23  push  completed   \n",
       "5  8a936e2a36f45128139f8c8419c2edb6bd6eb257          22  push  completed   \n",
       "6  8a0dd8c1ba3fc17883907c12e12ea4fa1fd39bc6          21  push  completed   \n",
       "7  9adaa01285efc20b1816f6afaebcd7512500c7f4          20  push  completed   \n",
       "8  502dd673aaceab85d760dd0f440311d89e9240cf          19  push  completed   \n",
       "9  c9e7cd2e0c435d66bbe0e90e03f90616e41db349          18  push  completed   \n",
       "\n",
       "  conclusion  workflow_id  ...  \\\n",
       "0    success     10563228  ...   \n",
       "1    success     10563228  ...   \n",
       "2    success     10563228  ...   \n",
       "3    success     10563228  ...   \n",
       "4    success     10563228  ...   \n",
       "5    success     10563228  ...   \n",
       "6    success     10563228  ...   \n",
       "7    success     10563228  ...   \n",
       "8    failure     10563228  ...   \n",
       "9    failure     10563228  ...   \n",
       "\n",
       "                                            logs_url  \\\n",
       "0  https://api.github.com/repos/otosense/recode/a...   \n",
       "1  https://api.github.com/repos/otosense/recode/a...   \n",
       "2  https://api.github.com/repos/otosense/recode/a...   \n",
       "3  https://api.github.com/repos/otosense/recode/a...   \n",
       "4  https://api.github.com/repos/otosense/recode/a...   \n",
       "5  https://api.github.com/repos/otosense/recode/a...   \n",
       "6  https://api.github.com/repos/otosense/recode/a...   \n",
       "7  https://api.github.com/repos/otosense/recode/a...   \n",
       "8  https://api.github.com/repos/otosense/recode/a...   \n",
       "9  https://api.github.com/repos/otosense/recode/a...   \n",
       "\n",
       "                                     check_suite_url  \\\n",
       "0  https://api.github.com/repos/otosense/recode/c...   \n",
       "1  https://api.github.com/repos/otosense/recode/c...   \n",
       "2  https://api.github.com/repos/otosense/recode/c...   \n",
       "3  https://api.github.com/repos/otosense/recode/c...   \n",
       "4  https://api.github.com/repos/otosense/recode/c...   \n",
       "5  https://api.github.com/repos/otosense/recode/c...   \n",
       "6  https://api.github.com/repos/otosense/recode/c...   \n",
       "7  https://api.github.com/repos/otosense/recode/c...   \n",
       "8  https://api.github.com/repos/otosense/recode/c...   \n",
       "9  https://api.github.com/repos/otosense/recode/c...   \n",
       "\n",
       "                                       artifacts_url  \\\n",
       "0  https://api.github.com/repos/otosense/recode/a...   \n",
       "1  https://api.github.com/repos/otosense/recode/a...   \n",
       "2  https://api.github.com/repos/otosense/recode/a...   \n",
       "3  https://api.github.com/repos/otosense/recode/a...   \n",
       "4  https://api.github.com/repos/otosense/recode/a...   \n",
       "5  https://api.github.com/repos/otosense/recode/a...   \n",
       "6  https://api.github.com/repos/otosense/recode/a...   \n",
       "7  https://api.github.com/repos/otosense/recode/a...   \n",
       "8  https://api.github.com/repos/otosense/recode/a...   \n",
       "9  https://api.github.com/repos/otosense/recode/a...   \n",
       "\n",
       "                                          cancel_url  \\\n",
       "0  https://api.github.com/repos/otosense/recode/a...   \n",
       "1  https://api.github.com/repos/otosense/recode/a...   \n",
       "2  https://api.github.com/repos/otosense/recode/a...   \n",
       "3  https://api.github.com/repos/otosense/recode/a...   \n",
       "4  https://api.github.com/repos/otosense/recode/a...   \n",
       "5  https://api.github.com/repos/otosense/recode/a...   \n",
       "6  https://api.github.com/repos/otosense/recode/a...   \n",
       "7  https://api.github.com/repos/otosense/recode/a...   \n",
       "8  https://api.github.com/repos/otosense/recode/a...   \n",
       "9  https://api.github.com/repos/otosense/recode/a...   \n",
       "\n",
       "                                           rerun_url previous_attempt_url  \\\n",
       "0  https://api.github.com/repos/otosense/recode/a...                 None   \n",
       "1  https://api.github.com/repos/otosense/recode/a...                 None   \n",
       "2  https://api.github.com/repos/otosense/recode/a...                 None   \n",
       "3  https://api.github.com/repos/otosense/recode/a...                 None   \n",
       "4  https://api.github.com/repos/otosense/recode/a...                 None   \n",
       "5  https://api.github.com/repos/otosense/recode/a...                 None   \n",
       "6  https://api.github.com/repos/otosense/recode/a...                 None   \n",
       "7  https://api.github.com/repos/otosense/recode/a...                 None   \n",
       "8  https://api.github.com/repos/otosense/recode/a...                 None   \n",
       "9  https://api.github.com/repos/otosense/recode/a...                 None   \n",
       "\n",
       "                                        workflow_url  \\\n",
       "0  https://api.github.com/repos/otosense/recode/a...   \n",
       "1  https://api.github.com/repos/otosense/recode/a...   \n",
       "2  https://api.github.com/repos/otosense/recode/a...   \n",
       "3  https://api.github.com/repos/otosense/recode/a...   \n",
       "4  https://api.github.com/repos/otosense/recode/a...   \n",
       "5  https://api.github.com/repos/otosense/recode/a...   \n",
       "6  https://api.github.com/repos/otosense/recode/a...   \n",
       "7  https://api.github.com/repos/otosense/recode/a...   \n",
       "8  https://api.github.com/repos/otosense/recode/a...   \n",
       "9  https://api.github.com/repos/otosense/recode/a...   \n",
       "\n",
       "                                         head_commit  \\\n",
       "0  {'id': 'c04fee2376fd99be48225b029c46cae48d7faa...   \n",
       "1  {'id': '99ab14d08b4265487b032d55c178564607f2a0...   \n",
       "2  {'id': 'e7412685be5d99b4421910ca4b08efefed8529...   \n",
       "3  {'id': '73ac6ad5cd36b91a68c09212e5f3861a267ae9...   \n",
       "4  {'id': '46c569b11db2da8ef1df48cb268d0ec29136c8...   \n",
       "5  {'id': '8a936e2a36f45128139f8c8419c2edb6bd6eb2...   \n",
       "6  {'id': '8a0dd8c1ba3fc17883907c12e12ea4fa1fd39b...   \n",
       "7  {'id': '9adaa01285efc20b1816f6afaebcd7512500c7...   \n",
       "8  {'id': '502dd673aaceab85d760dd0f440311d89e9240...   \n",
       "9  {'id': 'c9e7cd2e0c435d66bbe0e90e03f90616e41db3...   \n",
       "\n",
       "                                          repository  \\\n",
       "0  {'id': 378237634, 'node_id': 'MDEwOlJlcG9zaXRv...   \n",
       "1  {'id': 378237634, 'node_id': 'MDEwOlJlcG9zaXRv...   \n",
       "2  {'id': 378237634, 'node_id': 'MDEwOlJlcG9zaXRv...   \n",
       "3  {'id': 378237634, 'node_id': 'MDEwOlJlcG9zaXRv...   \n",
       "4  {'id': 378237634, 'node_id': 'MDEwOlJlcG9zaXRv...   \n",
       "5  {'id': 378237634, 'node_id': 'MDEwOlJlcG9zaXRv...   \n",
       "6  {'id': 378237634, 'node_id': 'MDEwOlJlcG9zaXRv...   \n",
       "7  {'id': 378237634, 'node_id': 'MDEwOlJlcG9zaXRv...   \n",
       "8  {'id': 378237634, 'node_id': 'MDEwOlJlcG9zaXRv...   \n",
       "9  {'id': 378237634, 'node_id': 'MDEwOlJlcG9zaXRv...   \n",
       "\n",
       "                                     head_repository  \n",
       "0  {'id': 378237634, 'node_id': 'MDEwOlJlcG9zaXRv...  \n",
       "1  {'id': 378237634, 'node_id': 'MDEwOlJlcG9zaXRv...  \n",
       "2  {'id': 378237634, 'node_id': 'MDEwOlJlcG9zaXRv...  \n",
       "3  {'id': 378237634, 'node_id': 'MDEwOlJlcG9zaXRv...  \n",
       "4  {'id': 378237634, 'node_id': 'MDEwOlJlcG9zaXRv...  \n",
       "5  {'id': 378237634, 'node_id': 'MDEwOlJlcG9zaXRv...  \n",
       "6  {'id': 378237634, 'node_id': 'MDEwOlJlcG9zaXRv...  \n",
       "7  {'id': 378237634, 'node_id': 'MDEwOlJlcG9zaXRv...  \n",
       "8  {'id': 378237634, 'node_id': 'MDEwOlJlcG9zaXRv...  \n",
       "9  {'id': 378237634, 'node_id': 'MDEwOlJlcG9zaXRv...  \n",
       "\n",
       "[10 rows x 30 columns]"
      ]
     },
     "execution_count": 97,
     "metadata": {},
     "output_type": "execute_result"
    }
   ],
   "source": [
    "actions_info('otosense/recode')"
   ]
  },
  {
   "cell_type": "code",
   "execution_count": null,
   "id": "1312e780",
   "metadata": {},
   "outputs": [],
   "source": []
  },
  {
   "cell_type": "code",
   "execution_count": null,
   "id": "fc4f5ddb",
   "metadata": {},
   "outputs": [],
   "source": []
  },
  {
   "cell_type": "code",
   "execution_count": null,
   "id": "09d3f6ee",
   "metadata": {},
   "outputs": [],
   "source": []
  },
  {
   "cell_type": "code",
   "execution_count": null,
   "id": "b50a9669",
   "metadata": {},
   "outputs": [],
   "source": []
  },
  {
   "cell_type": "markdown",
   "id": "e0622dd6",
   "metadata": {},
   "source": [
    "# Appendix: workflow scrap"
   ]
  },
  {
   "cell_type": "code",
   "execution_count": 5,
   "id": "5bffef2c",
   "metadata": {
    "ExecuteTime": {
     "end_time": "2021-11-23T01:15:15.182465Z",
     "start_time": "2021-11-23T01:15:08.727224Z"
    }
   },
   "outputs": [
    {
     "data": {
      "text/plain": [
       "['aiofiledol',\n",
       " 'allude',\n",
       " 'arangodol',\n",
       " 'audiostream2py',\n",
       " 'c2py',\n",
       " 'config2py',\n",
       " 'couchdol',\n",
       " 'creek',\n",
       " 'dacc',\n",
       " 'dagapp',\n",
       " 'dexis',\n",
       " 'dol',\n",
       " 'dropboxdol',\n",
       " 'dynamodol',\n",
       " 'embody',\n",
       " 'epythet',\n",
       " 'examples',\n",
       " 'flaskstream2py',\n",
       " 'focal',\n",
       " 'front',\n",
       " 'ftpdol',\n",
       " 'git2py',\n",
       " 'http2js',\n",
       " 'http2py',\n",
       " 'i2',\n",
       " 'i2i_scrap',\n",
       " 'isee',\n",
       " 'keyboardstream2py',\n",
       " 'meshed',\n",
       " 'mongodol',\n",
       " 'odbcdol',\n",
       " 'on',\n",
       " 'pchealthstream2py',\n",
       " 'plcstream2py',\n",
       " 'py2api',\n",
       " 'py2dash',\n",
       " 'py2http',\n",
       " 'py2json',\n",
       " 'py2misc',\n",
       " 'py2mqtt',\n",
       " 'py2store',\n",
       " 'pyckup',\n",
       " 'pydrivedol',\n",
       " 'qh',\n",
       " 'redisdol',\n",
       " 's3dol',\n",
       " 'sqldol',\n",
       " 'sshdol',\n",
       " 'strand',\n",
       " 'stream2py',\n",
       " 'tabled',\n",
       " 'test2doc',\n",
       " 'tested',\n",
       " 'udos',\n",
       " 'umpyre',\n",
       " 'unbox',\n",
       " 'verb',\n",
       " 'videostream2py',\n",
       " 'wads',\n",
       " 'zu']"
      ]
     },
     "execution_count": 5,
     "metadata": {},
     "output_type": "execute_result"
    }
   ],
   "source": [
    "from hubcap import GitHubReader\n",
    "\n",
    "s = GitHubReader('i2mint', login_or_token=os.environ['GITHUB_TOKEN'])\n",
    "list(s)"
   ]
  },
  {
   "cell_type": "code",
   "execution_count": 6,
   "id": "3a195f58",
   "metadata": {
    "ExecuteTime": {
     "end_time": "2021-11-23T01:15:37.881196Z",
     "start_time": "2021-11-23T01:15:36.884689Z"
    }
   },
   "outputs": [
    {
     "data": {
      "text/plain": [
       "['master']"
      ]
     },
     "execution_count": 6,
     "metadata": {},
     "output_type": "execute_result"
    }
   ],
   "source": [
    "t = s['dol']\n",
    "list(t)"
   ]
  },
  {
   "cell_type": "code",
   "execution_count": 7,
   "id": "b03b1b24",
   "metadata": {
    "ExecuteTime": {
     "end_time": "2021-11-23T01:15:42.512886Z",
     "start_time": "2021-11-23T01:15:42.477953Z"
    }
   },
   "outputs": [
    {
     "data": {
      "text/plain": [
       "BranchDir(Repository(full_name=\"i2mint/dol\"), 'master', '', <function decoded_contents at 0x125bdaca0>)"
      ]
     },
     "execution_count": 7,
     "metadata": {},
     "output_type": "execute_result"
    }
   ],
   "source": [
    "t['master']"
   ]
  },
  {
   "cell_type": "code",
   "execution_count": 9,
   "id": "5be981c9",
   "metadata": {
    "ExecuteTime": {
     "end_time": "2021-11-23T01:16:04.823331Z",
     "start_time": "2021-11-23T01:16:04.781806Z"
    }
   },
   "outputs": [
    {
     "data": {
      "text/plain": [
       "['CHECK_AFTER_INIT_FLAG',\n",
       " '_CompletableGithubObject__complete',\n",
       " '_CompletableGithubObject__completed',\n",
       " '_GithubObject__makeSimpleAttribute',\n",
       " '_GithubObject__makeSimpleListAttribute',\n",
       " '_GithubObject__makeTransformedAttribute',\n",
       " '_Repository__create_pull',\n",
       " '_Repository__create_pull_1',\n",
       " '_Repository__create_pull_2',\n",
       " '__class__',\n",
       " '__delattr__',\n",
       " '__dict__',\n",
       " '__dir__',\n",
       " '__doc__',\n",
       " '__eq__',\n",
       " '__format__',\n",
       " '__ge__',\n",
       " '__getattribute__',\n",
       " '__gt__',\n",
       " '__hash__',\n",
       " '__init__',\n",
       " '__init_subclass__',\n",
       " '__le__',\n",
       " '__lt__',\n",
       " '__module__',\n",
       " '__ne__',\n",
       " '__new__',\n",
       " '__reduce__',\n",
       " '__reduce_ex__',\n",
       " '__repr__',\n",
       " '__setattr__',\n",
       " '__sizeof__',\n",
       " '__str__',\n",
       " '__subclasshook__',\n",
       " '__weakref__',\n",
       " '_allow_merge_commit',\n",
       " '_allow_rebase_merge',\n",
       " '_allow_squash_merge',\n",
       " '_archive_url',\n",
       " '_archived',\n",
       " '_assignees_url',\n",
       " '_blobs_url',\n",
       " '_branches_url',\n",
       " '_clone_url',\n",
       " '_collaborators_url',\n",
       " '_comments_url',\n",
       " '_commits_url',\n",
       " '_compare_url',\n",
       " '_completeIfNeeded',\n",
       " '_completeIfNotSet',\n",
       " '_contents_url',\n",
       " '_contributors_url',\n",
       " '_created_at',\n",
       " '_default_branch',\n",
       " '_delete_branch_on_merge',\n",
       " '_deployments_url',\n",
       " '_description',\n",
       " '_downloads_url',\n",
       " '_events_url',\n",
       " '_fork',\n",
       " '_forks',\n",
       " '_forks_count',\n",
       " '_forks_url',\n",
       " '_full_name',\n",
       " '_git_commits_url',\n",
       " '_git_refs_url',\n",
       " '_git_tags_url',\n",
       " '_git_url',\n",
       " '_has_downloads',\n",
       " '_has_issues',\n",
       " '_has_pages',\n",
       " '_has_projects',\n",
       " '_has_wiki',\n",
       " '_headers',\n",
       " '_homepage',\n",
       " '_hooks_url',\n",
       " '_html_url',\n",
       " '_hub',\n",
       " '_id',\n",
       " '_identity',\n",
       " '_initAttributes',\n",
       " '_issue_comment_url',\n",
       " '_issue_events_url',\n",
       " '_issues_url',\n",
       " '_keys_url',\n",
       " '_labels_url',\n",
       " '_language',\n",
       " '_languages_url',\n",
       " '_legacy_convert_issue',\n",
       " '_makeBoolAttribute',\n",
       " '_makeClassAttribute',\n",
       " '_makeDatetimeAttribute',\n",
       " '_makeDictAttribute',\n",
       " '_makeDictOfStringsToClassesAttribute',\n",
       " '_makeFloatAttribute',\n",
       " '_makeIntAttribute',\n",
       " '_makeListOfClassesAttribute',\n",
       " '_makeListOfDictsAttribute',\n",
       " '_makeListOfIntsAttribute',\n",
       " '_makeListOfListOfStringsAttribute',\n",
       " '_makeListOfStringsAttribute',\n",
       " '_makeStringAttribute',\n",
       " '_makeTimestampAttribute',\n",
       " '_master_branch',\n",
       " '_merges_url',\n",
       " '_milestones_url',\n",
       " '_mirror_url',\n",
       " '_name',\n",
       " '_network_count',\n",
       " '_notifications_url',\n",
       " '_open_issues',\n",
       " '_open_issues_count',\n",
       " '_organization',\n",
       " '_owner',\n",
       " '_parent',\n",
       " '_parentUrl',\n",
       " '_permissions',\n",
       " '_private',\n",
       " '_pulls_url',\n",
       " '_pushed_at',\n",
       " '_rawData',\n",
       " '_releases_url',\n",
       " '_requester',\n",
       " '_size',\n",
       " '_source',\n",
       " '_ssh_url',\n",
       " '_stargazers_count',\n",
       " '_stargazers_url',\n",
       " '_statuses_url',\n",
       " '_storeAndUseAttributes',\n",
       " '_subscribers_count',\n",
       " '_subscribers_url',\n",
       " '_subscription_url',\n",
       " '_svn_url',\n",
       " '_tags_url',\n",
       " '_teams_url',\n",
       " '_trees_url',\n",
       " '_updated_at',\n",
       " '_url',\n",
       " '_useAttributes',\n",
       " '_watchers',\n",
       " '_watchers_count',\n",
       " 'add_to_collaborators',\n",
       " 'allow_merge_commit',\n",
       " 'allow_rebase_merge',\n",
       " 'allow_squash_merge',\n",
       " 'archive_url',\n",
       " 'archived',\n",
       " 'assignees_url',\n",
       " 'blobs_url',\n",
       " 'branches_url',\n",
       " 'clone_url',\n",
       " 'collaborators_url',\n",
       " 'comments_url',\n",
       " 'commits_url',\n",
       " 'compare',\n",
       " 'compare_url',\n",
       " 'contents_url',\n",
       " 'contributors_url',\n",
       " 'create_check_run',\n",
       " 'create_check_suite',\n",
       " 'create_deployment',\n",
       " 'create_file',\n",
       " 'create_fork',\n",
       " 'create_git_blob',\n",
       " 'create_git_commit',\n",
       " 'create_git_ref',\n",
       " 'create_git_release',\n",
       " 'create_git_tag',\n",
       " 'create_git_tag_and_release',\n",
       " 'create_git_tree',\n",
       " 'create_hook',\n",
       " 'create_issue',\n",
       " 'create_key',\n",
       " 'create_label',\n",
       " 'create_milestone',\n",
       " 'create_project',\n",
       " 'create_pull',\n",
       " 'create_repository_dispatch',\n",
       " 'create_secret',\n",
       " 'create_source_import',\n",
       " 'created_at',\n",
       " 'default_branch',\n",
       " 'delete',\n",
       " 'delete_branch_on_merge',\n",
       " 'delete_file',\n",
       " 'delete_secret',\n",
       " 'deployments_url',\n",
       " 'description',\n",
       " 'disable_automated_security_fixes',\n",
       " 'disable_vulnerability_alert',\n",
       " 'downloads_url',\n",
       " 'edit',\n",
       " 'enable_automated_security_fixes',\n",
       " 'enable_vulnerability_alert',\n",
       " 'etag',\n",
       " 'events_url',\n",
       " 'fork',\n",
       " 'forks',\n",
       " 'forks_count',\n",
       " 'forks_url',\n",
       " 'full_name',\n",
       " 'get__repr__',\n",
       " 'get_archive_link',\n",
       " 'get_assignees',\n",
       " 'get_branch',\n",
       " 'get_branches',\n",
       " 'get_check_run',\n",
       " 'get_check_suite',\n",
       " 'get_clones_traffic',\n",
       " 'get_collaborator_permission',\n",
       " 'get_collaborators',\n",
       " 'get_comment',\n",
       " 'get_comments',\n",
       " 'get_commit',\n",
       " 'get_commits',\n",
       " 'get_contents',\n",
       " 'get_contributors',\n",
       " 'get_deployment',\n",
       " 'get_deployments',\n",
       " 'get_dir_contents',\n",
       " 'get_download',\n",
       " 'get_downloads',\n",
       " 'get_events',\n",
       " 'get_forks',\n",
       " 'get_git_blob',\n",
       " 'get_git_commit',\n",
       " 'get_git_matching_refs',\n",
       " 'get_git_ref',\n",
       " 'get_git_refs',\n",
       " 'get_git_tag',\n",
       " 'get_git_tree',\n",
       " 'get_hook',\n",
       " 'get_hooks',\n",
       " 'get_issue',\n",
       " 'get_issues',\n",
       " 'get_issues_comments',\n",
       " 'get_issues_event',\n",
       " 'get_issues_events',\n",
       " 'get_key',\n",
       " 'get_keys',\n",
       " 'get_label',\n",
       " 'get_labels',\n",
       " 'get_languages',\n",
       " 'get_latest_release',\n",
       " 'get_license',\n",
       " 'get_milestone',\n",
       " 'get_milestones',\n",
       " 'get_network_events',\n",
       " 'get_notifications',\n",
       " 'get_pending_invitations',\n",
       " 'get_projects',\n",
       " 'get_public_key',\n",
       " 'get_pull',\n",
       " 'get_pulls',\n",
       " 'get_pulls_comments',\n",
       " 'get_pulls_review_comments',\n",
       " 'get_readme',\n",
       " 'get_release',\n",
       " 'get_release_asset',\n",
       " 'get_releases',\n",
       " 'get_self_hosted_runner',\n",
       " 'get_self_hosted_runners',\n",
       " 'get_source_import',\n",
       " 'get_stargazers',\n",
       " 'get_stargazers_with_dates',\n",
       " 'get_stats_code_frequency',\n",
       " 'get_stats_commit_activity',\n",
       " 'get_stats_contributors',\n",
       " 'get_stats_participation',\n",
       " 'get_stats_punch_card',\n",
       " 'get_subscribers',\n",
       " 'get_tags',\n",
       " 'get_teams',\n",
       " 'get_top_paths',\n",
       " 'get_top_referrers',\n",
       " 'get_topics',\n",
       " 'get_views_traffic',\n",
       " 'get_vulnerability_alert',\n",
       " 'get_watchers',\n",
       " 'get_workflow',\n",
       " 'get_workflow_run',\n",
       " 'get_workflow_runs',\n",
       " 'get_workflows',\n",
       " 'git_commits_url',\n",
       " 'git_refs_url',\n",
       " 'git_tags_url',\n",
       " 'git_url',\n",
       " 'has_downloads',\n",
       " 'has_in_assignees',\n",
       " 'has_in_collaborators',\n",
       " 'has_issues',\n",
       " 'has_pages',\n",
       " 'has_projects',\n",
       " 'has_wiki',\n",
       " 'homepage',\n",
       " 'hooks_url',\n",
       " 'html_url',\n",
       " 'id',\n",
       " 'issue_comment_url',\n",
       " 'issue_events_url',\n",
       " 'issues_url',\n",
       " 'keys_url',\n",
       " 'labels_url',\n",
       " 'language',\n",
       " 'languages_url',\n",
       " 'last_modified',\n",
       " 'legacy_search_issues',\n",
       " 'mark_notifications_as_read',\n",
       " 'master_branch',\n",
       " 'merge',\n",
       " 'merges_url',\n",
       " 'milestones_url',\n",
       " 'mirror_url',\n",
       " 'name',\n",
       " 'network_count',\n",
       " 'notifications_url',\n",
       " 'open_issues',\n",
       " 'open_issues_count',\n",
       " 'organization',\n",
       " 'owner',\n",
       " 'parent',\n",
       " 'permissions',\n",
       " 'private',\n",
       " 'pulls_url',\n",
       " 'pushed_at',\n",
       " 'raw_data',\n",
       " 'raw_headers',\n",
       " 'releases_url',\n",
       " 'remove_from_collaborators',\n",
       " 'remove_invitation',\n",
       " 'remove_self_hosted_runner',\n",
       " 'replace_topics',\n",
       " 'setCheckAfterInitFlag',\n",
       " 'size',\n",
       " 'source',\n",
       " 'ssh_url',\n",
       " 'stargazers_count',\n",
       " 'stargazers_url',\n",
       " 'statuses_url',\n",
       " 'subscribe_to_hub',\n",
       " 'subscribers_count',\n",
       " 'subscribers_url',\n",
       " 'subscription_url',\n",
       " 'svn_url',\n",
       " 'tags_url',\n",
       " 'teams_url',\n",
       " 'trees_url',\n",
       " 'unsubscribe_from_hub',\n",
       " 'update',\n",
       " 'update_check_suites_preferences',\n",
       " 'update_file',\n",
       " 'updated_at',\n",
       " 'url',\n",
       " 'watchers',\n",
       " 'watchers_count']"
      ]
     },
     "execution_count": 9,
     "metadata": {},
     "output_type": "execute_result"
    }
   ],
   "source": [
    "dir(t.src)"
   ]
  },
  {
   "cell_type": "code",
   "execution_count": 10,
   "id": "472a492a",
   "metadata": {
    "ExecuteTime": {
     "end_time": "2021-11-23T01:16:44.218796Z",
     "start_time": "2021-11-23T01:16:44.184126Z"
    }
   },
   "outputs": [
    {
     "data": {
      "text/plain": [
       "Repository(full_name=\"i2mint/dol\")"
      ]
     },
     "execution_count": 10,
     "metadata": {},
     "output_type": "execute_result"
    }
   ],
   "source": [
    "tt = t.src\n",
    "tt"
   ]
  },
  {
   "cell_type": "code",
   "execution_count": 11,
   "id": "ea5f9548",
   "metadata": {
    "ExecuteTime": {
     "end_time": "2021-11-23T01:18:41.123727Z",
     "start_time": "2021-11-23T01:18:41.090544Z"
    }
   },
   "outputs": [],
   "source": [
    "x = tt.get_workflows()"
   ]
  },
  {
   "cell_type": "code",
   "execution_count": 15,
   "id": "0079ae40",
   "metadata": {
    "ExecuteTime": {
     "end_time": "2021-11-23T01:19:12.343913Z",
     "start_time": "2021-11-23T01:19:12.308543Z"
    }
   },
   "outputs": [
    {
     "data": {
      "text/plain": [
       "['_PaginatedListBase__elements',\n",
       " '_PaginatedListBase__fetchToIndex',\n",
       " '_PaginatedList__contentClass',\n",
       " '_PaginatedList__firstParams',\n",
       " '_PaginatedList__firstUrl',\n",
       " '_PaginatedList__headers',\n",
       " '_PaginatedList__list_item',\n",
       " '_PaginatedList__nextParams',\n",
       " '_PaginatedList__nextUrl',\n",
       " '_PaginatedList__parseLinkHeader',\n",
       " '_PaginatedList__requester',\n",
       " '_PaginatedList__reverse',\n",
       " '_PaginatedList__totalCount',\n",
       " '_Slice',\n",
       " '__class__',\n",
       " '__delattr__',\n",
       " '__dict__',\n",
       " '__dir__',\n",
       " '__doc__',\n",
       " '__eq__',\n",
       " '__format__',\n",
       " '__ge__',\n",
       " '__getattribute__',\n",
       " '__getitem__',\n",
       " '__gt__',\n",
       " '__hash__',\n",
       " '__init__',\n",
       " '__init_subclass__',\n",
       " '__iter__',\n",
       " '__le__',\n",
       " '__lt__',\n",
       " '__module__',\n",
       " '__ne__',\n",
       " '__new__',\n",
       " '__reduce__',\n",
       " '__reduce_ex__',\n",
       " '__repr__',\n",
       " '__setattr__',\n",
       " '__sizeof__',\n",
       " '__str__',\n",
       " '__subclasshook__',\n",
       " '__weakref__',\n",
       " '_couldGrow',\n",
       " '_fetchNextPage',\n",
       " '_getLastPageUrl',\n",
       " '_grow',\n",
       " '_isBiggerThan',\n",
       " '_reversed',\n",
       " 'get_page',\n",
       " 'reversed',\n",
       " 'totalCount']"
      ]
     },
     "execution_count": 15,
     "metadata": {},
     "output_type": "execute_result"
    }
   ],
   "source": [
    "dir(x)"
   ]
  },
  {
   "cell_type": "code",
   "execution_count": 17,
   "id": "74d8f055",
   "metadata": {
    "ExecuteTime": {
     "end_time": "2021-11-23T01:19:22.431881Z",
     "start_time": "2021-11-23T01:19:22.117820Z"
    }
   },
   "outputs": [
    {
     "data": {
      "text/plain": [
       "[Workflow(url=\"https://api.github.com/repos/i2mint/dol/actions/workflows/7620695\", name=\"Continuous Integration\")]"
      ]
     },
     "execution_count": 17,
     "metadata": {},
     "output_type": "execute_result"
    }
   ],
   "source": [
    "x.get_page(0)"
   ]
  },
  {
   "cell_type": "code",
   "execution_count": 19,
   "id": "7b8c5e8c",
   "metadata": {
    "ExecuteTime": {
     "end_time": "2021-11-23T01:20:03.543478Z",
     "start_time": "2021-11-23T01:20:02.137822Z"
    }
   },
   "outputs": [
    {
     "data": {
      "text/plain": [
       "[WorkflowRun(url=\"https://api.github.com/repos/i2mint/dol/actions/runs/1468971015\", id=1468971015),\n",
       " WorkflowRun(url=\"https://api.github.com/repos/i2mint/dol/actions/runs/1464140305\", id=1464140305),\n",
       " WorkflowRun(url=\"https://api.github.com/repos/i2mint/dol/actions/runs/1464118067\", id=1464118067),\n",
       " WorkflowRun(url=\"https://api.github.com/repos/i2mint/dol/actions/runs/1444958766\", id=1444958766),\n",
       " WorkflowRun(url=\"https://api.github.com/repos/i2mint/dol/actions/runs/1442722023\", id=1442722023),\n",
       " WorkflowRun(url=\"https://api.github.com/repos/i2mint/dol/actions/runs/1442718941\", id=1442718941),\n",
       " WorkflowRun(url=\"https://api.github.com/repos/i2mint/dol/actions/runs/1442143160\", id=1442143160),\n",
       " WorkflowRun(url=\"https://api.github.com/repos/i2mint/dol/actions/runs/1441523495\", id=1441523495),\n",
       " WorkflowRun(url=\"https://api.github.com/repos/i2mint/dol/actions/runs/1441244973\", id=1441244973),\n",
       " WorkflowRun(url=\"https://api.github.com/repos/i2mint/dol/actions/runs/1441122268\", id=1441122268),\n",
       " WorkflowRun(url=\"https://api.github.com/repos/i2mint/dol/actions/runs/1441108141\", id=1441108141),\n",
       " WorkflowRun(url=\"https://api.github.com/repos/i2mint/dol/actions/runs/1440700547\", id=1440700547),\n",
       " WorkflowRun(url=\"https://api.github.com/repos/i2mint/dol/actions/runs/1437307649\", id=1437307649),\n",
       " WorkflowRun(url=\"https://api.github.com/repos/i2mint/dol/actions/runs/1338857801\", id=1338857801),\n",
       " WorkflowRun(url=\"https://api.github.com/repos/i2mint/dol/actions/runs/1338782876\", id=1338782876),\n",
       " WorkflowRun(url=\"https://api.github.com/repos/i2mint/dol/actions/runs/1338756145\", id=1338756145),\n",
       " WorkflowRun(url=\"https://api.github.com/repos/i2mint/dol/actions/runs/1330669551\", id=1330669551),\n",
       " WorkflowRun(url=\"https://api.github.com/repos/i2mint/dol/actions/runs/1321875805\", id=1321875805),\n",
       " WorkflowRun(url=\"https://api.github.com/repos/i2mint/dol/actions/runs/1321854521\", id=1321854521),\n",
       " WorkflowRun(url=\"https://api.github.com/repos/i2mint/dol/actions/runs/1321853309\", id=1321853309),\n",
       " WorkflowRun(url=\"https://api.github.com/repos/i2mint/dol/actions/runs/1246793199\", id=1246793199),\n",
       " WorkflowRun(url=\"https://api.github.com/repos/i2mint/dol/actions/runs/1238874345\", id=1238874345),\n",
       " WorkflowRun(url=\"https://api.github.com/repos/i2mint/dol/actions/runs/1211359099\", id=1211359099),\n",
       " WorkflowRun(url=\"https://api.github.com/repos/i2mint/dol/actions/runs/1207475184\", id=1207475184),\n",
       " WorkflowRun(url=\"https://api.github.com/repos/i2mint/dol/actions/runs/1206841221\", id=1206841221),\n",
       " WorkflowRun(url=\"https://api.github.com/repos/i2mint/dol/actions/runs/1206838913\", id=1206838913),\n",
       " WorkflowRun(url=\"https://api.github.com/repos/i2mint/dol/actions/runs/1199908408\", id=1199908408),\n",
       " WorkflowRun(url=\"https://api.github.com/repos/i2mint/dol/actions/runs/1196324024\", id=1196324024),\n",
       " WorkflowRun(url=\"https://api.github.com/repos/i2mint/dol/actions/runs/1183986106\", id=1183986106),\n",
       " WorkflowRun(url=\"https://api.github.com/repos/i2mint/dol/actions/runs/1183922904\", id=1183922904)]"
      ]
     },
     "execution_count": 19,
     "metadata": {},
     "output_type": "execute_result"
    }
   ],
   "source": [
    "tt.get_workflow_runs().get_page(0)"
   ]
  },
  {
   "cell_type": "code",
   "execution_count": 20,
   "id": "29d73154",
   "metadata": {
    "ExecuteTime": {
     "end_time": "2021-11-23T01:20:39.139254Z",
     "start_time": "2021-11-23T01:20:38.886360Z"
    }
   },
   "outputs": [
    {
     "data": {
      "text/plain": [
       "WorkflowRun(url=\"https://api.github.com/repos/i2mint/dol/actions/runs/1468971015\", id=1468971015)"
      ]
     },
     "execution_count": 20,
     "metadata": {},
     "output_type": "execute_result"
    }
   ],
   "source": [
    "w = tt.get_workflow_run(1468971015)\n",
    "w"
   ]
  },
  {
   "cell_type": "code",
   "execution_count": 22,
   "id": "d02ec99f",
   "metadata": {
    "ExecuteTime": {
     "end_time": "2021-11-23T01:21:09.169625Z",
     "start_time": "2021-11-23T01:21:09.134704Z"
    }
   },
   "outputs": [
    {
     "data": {
      "text/plain": [
       "'success'"
      ]
     },
     "execution_count": 22,
     "metadata": {},
     "output_type": "execute_result"
    }
   ],
   "source": [
    "w.conclusion"
   ]
  },
  {
   "cell_type": "code",
   "execution_count": 23,
   "id": "80e0e5c7",
   "metadata": {
    "ExecuteTime": {
     "end_time": "2021-11-23T01:22:16.109751Z",
     "start_time": "2021-11-23T01:22:15.697283Z"
    }
   },
   "outputs": [
    {
     "data": {
      "text/plain": [
       "True"
      ]
     },
     "execution_count": 23,
     "metadata": {},
     "output_type": "execute_result"
    }
   ],
   "source": []
  },
  {
   "cell_type": "markdown",
   "id": "ea271a1f",
   "metadata": {},
   "source": [
    "# A one cell demo"
   ]
  },
  {
   "cell_type": "markdown",
   "id": "9a96540d",
   "metadata": {},
   "source": [
    "# Talking to github\n",
    "\n",
    "The first few here don't require the github python package. Just `requests`. \n",
    "\n",
    "But they do require a token (e.g. in environment variable `GITHUB_TOKEN`).\n",
    "\n",
    "```python\n",
    "import pandas as pd\n",
    "```\n",
    "\n",
    "## Get repositories list\n",
    "\n",
    "```python\n",
    "from hubcap.examples import repos_info, actions_info\n",
    "otosense = repos_info('otosense')\n",
    "i2mint = repos_info('i2mint')\n",
    "```\n",
    "\n",
    "## check if most recently changed repositories' CI failed or not\n",
    "\n",
    "```python\n",
    "repos = i2mint\n",
    "updated_recently = repos.iloc[date_selection_lidx(repos, hours_ago=24 * 365)]\n",
    "i2mint_cis = {repo: get_last_build_status(repo) for repo in updated_recently['full_name']}\n",
    "pd.Series(i2mint_cis)\n",
    "```\n",
    "\n",
    "```python\n",
    "repos = otosense\n",
    "updated_recently = repos.iloc[date_selection_lidx(repos, hours_ago=24 * 365)]\n",
    "i2mint_cis = {repo: get_last_build_status(repo) for repo in updated_recently['full_name']}\n",
    "pd.Series(i2mint_cis)\n",
    "```\n",
    "\n",
    "\n",
    "\n",
    "## See recently updated repos\n",
    "\n",
    "```python\n",
    "repos = i2mint\n",
    "\n",
    "from hubcap.examples import date_selection_lidx, get_last_build_status\n",
    "\n",
    "updated_recently = repos.iloc[date_selection_lidx(repos, hours_ago=24 * 2)]\n",
    "updated_recently\n",
    "```\n",
    "\n",
    "## See actions status of repository\n",
    "\n",
    "```python\n",
    "actions_info('otosense/recode')\n",
    "```\n",
    "\n",
    "\n",
    "\n",
    "## with github python package\n",
    "\n",
    "```python\n",
    "from hubcap import GitHubReader\n",
    "\n",
    "s = GitHubReader('i2mint', login_or_token=os.environ['GITHUB_TOKEN'])\n",
    "list(s)\n",
    "\n",
    "t = s['dol']\n",
    "list(t)\n",
    "\n",
    "t['master']\n",
    "\n",
    "dir(t.src)\n",
    "\n",
    "tt = t.src\n",
    "tt\n",
    "\n",
    "x = tt.get_workflows()\n",
    "\n",
    "dir(x)\n",
    "\n",
    "x.get_page(0)\n",
    "\n",
    "tt.get_workflow_runs().get_page(0)\n",
    "\n",
    "w = tt.get_workflow_run(1468971015)\n",
    "w\n",
    "\n",
    "w.conclusion\n",
    "\n",
    "w.rerun()\n",
    "```"
   ]
  },
  {
   "cell_type": "code",
   "execution_count": null,
   "id": "3abbf8ab",
   "metadata": {},
   "outputs": [],
   "source": []
  },
  {
   "cell_type": "code",
   "execution_count": null,
   "id": "5f096930",
   "metadata": {},
   "outputs": [],
   "source": []
  },
  {
   "cell_type": "code",
   "execution_count": null,
   "id": "1b5fa7a6",
   "metadata": {},
   "outputs": [],
   "source": []
  }
 ],
 "metadata": {
  "kernelspec": {
   "display_name": "Python 3 (ipykernel)",
   "language": "python",
   "name": "python3"
  },
  "language_info": {
   "codemirror_mode": {
    "name": "ipython",
    "version": 3
   },
   "file_extension": ".py",
   "mimetype": "text/x-python",
   "name": "python",
   "nbconvert_exporter": "python",
   "pygments_lexer": "ipython3",
   "version": "3.10.13"
  },
  "latex_envs": {
   "LaTeX_envs_menu_present": true,
   "autoclose": false,
   "autocomplete": true,
   "bibliofile": "biblio.bib",
   "cite_by": "apalike",
   "current_citInitial": 1,
   "eqLabelWithNumbers": true,
   "eqNumInitial": 1,
   "hotkeys": {
    "equation": "Ctrl-E",
    "itemize": "Ctrl-I"
   },
   "labels_anchors": false,
   "latex_user_defs": false,
   "report_style_numbering": false,
   "user_envs_cfg": false
  },
  "toc": {
   "base_numbering": 1,
   "nav_menu": {},
   "number_sections": true,
   "sideBar": true,
   "skip_h1_title": false,
   "title_cell": "Table of Contents",
   "title_sidebar": "Contents",
   "toc_cell": true,
   "toc_position": {},
   "toc_section_display": true,
   "toc_window_display": true
  }
 },
 "nbformat": 4,
 "nbformat_minor": 5
}
